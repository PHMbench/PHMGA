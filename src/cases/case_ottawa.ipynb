{
 "cells": [
  {
   "cell_type": "markdown",
   "id": "20931361",
   "metadata": {},
   "source": []
  },
  {
   "cell_type": "code",
   "execution_count": 5,
   "id": "e14a18e8",
   "metadata": {},
   "outputs": [
    {
     "name": "stdout",
     "output_type": "stream",
     "text": [
      "Current working directory: /home/lq/LQcode/2_project/PHMBench/PHMGA\n",
      "The autoreload extension is already loaded. To reload it, use:\n",
      "  %reload_ext autoreload\n"
     ]
    }
   ],
   "source": [
    "from __future__ import annotations\n",
    "import os\n",
    "os.chdir('/home/lq/LQcode/2_project/PHMBench/PHMGA/')\n",
    "print(f\"Current working directory: {os.getcwd()}\")\n",
    "from langgraph.graph import StateGraph, END, START\n",
    "from src.agents.dataset_preparer_agent import dataset_preparer_agent\n",
    "from src.agents.execute_agent import execute_agent\n",
    "from src.agents.inquirer_agent import inquirer_agent\n",
    "from src.agents.plan_agent import plan_agent\n",
    "from src.agents.reflect_agent import reflect_agent_node\n",
    "from src.agents.report_agent import report_agent_node\n",
    "from src.agents.shallow_ml_agent import shallow_ml_agent\n",
    "from src.states.phm_states import PHMState\n",
    "import yaml\n",
    "import os\n",
    "from src.utils import load_state, save_state\n",
    "%load_ext autoreload\n",
    "%autoreload 2\n"
   ]
  },
  {
   "cell_type": "markdown",
   "id": "b7b068ba",
   "metadata": {},
   "source": [
    "## reload state"
   ]
  },
  {
   "cell_type": "code",
   "execution_count": 2,
   "id": "7923cee2",
   "metadata": {},
   "outputs": [
    {
     "name": "stdout",
     "output_type": "stream",
     "text": [
      "--- Loading configuration from config/case_exp_ottawa.yaml ---\n",
      "\n",
      "--- Found existing state file at save/exp2.5ottawa/exp2.5_built_state_ottawa.pkl. Skipping builder workflow. ---\n",
      "\n",
      "--- Loading state from save/exp2.5ottawa/exp2.5_built_state_ottawa.pkl ---\n",
      "...done.\n",
      "Successfully loaded state with 23 nodes.\n"
     ]
    }
   ],
   "source": [
    "\n",
    "\n",
    "config_path = \"config/case_exp_ottawa.yaml\"\n",
    "print(f\"--- Loading configuration from {config_path} ---\")\n",
    "with open(config_path, 'r') as f:\n",
    "    config = yaml.safe_load(f)\n",
    "\n",
    "state_save_path = 'save/exp2.5ottawa/exp2.5_built_state_ottawa.pkl'\n",
    "builder_cfg = config.get('builder', {})\n",
    "min_depth = builder_cfg.get('min_depth', 0)\n",
    "max_depth = builder_cfg.get('max_depth', float('inf'))\n",
    "\n",
    "# --- Check for existing state ---\n",
    "if os.path.exists(state_save_path):\n",
    "    print(f\"\\n--- Found existing state file at {state_save_path}. Skipping builder workflow. ---\")\n",
    "    state = load_state(state_save_path)\n",
    "\n",
    "\n",
    "\n",
    "\n"
   ]
  },
  {
   "cell_type": "markdown",
   "id": "a9ea52bd",
   "metadata": {},
   "source": [
    "## 重新运行了所以不存在rerun rerun todo"
   ]
  },
  {
   "cell_type": "code",
   "execution_count": null,
   "id": "ffcce4a0",
   "metadata": {},
   "outputs": [
    {
     "name": "stdout",
     "output_type": "stream",
     "text": [
      "--- Loading configuration from config/case_exp_ottawa.yaml ---\n",
      "Loading data for IDs: [47007, 47008, 47009, 47016, 47017, 47018, 47019, 47020, 47021, 47028, 47029, 47030, 47031, 47032, 47033, 47040, 47041, 47042]\n",
      "Loading data for IDs: [47010, 47011, 47012, 47013, 47014, 47015, 47022, 47023, 47024, 47025, 47026, 47027, 47034, 47035, 47036, 47037, 47038, 47039]\n"
     ]
    }
   ],
   "source": [
    "# from src.utils import initialize_state\n",
    "# # --- Initialize state if not loaded ---\n",
    "# ottawa_state_config = \"config/case_exp_ottawa.yaml\"\n",
    "# print(f\"--- Loading configuration from {ottawa_state_config} ---\")\n",
    "# with open(ottawa_state_config, 'r') as f:\n",
    "#     ottawa_state_config = yaml.safe_load(f)\n",
    "# ottawa_state = initialize_state(\n",
    "#     user_instruction=ottawa_state_config['user_instruction'],\n",
    "#     metadata_path=ottawa_state_config['metadata_path'],\n",
    "#     h5_path=ottawa_state_config['h5_path'],\n",
    "#     ref_ids= ottawa_state_config['ref_ids'],\n",
    "#     test_ids= ottawa_state_config['test_ids'],\n",
    "#     case_name=\"ottawa\",\n",
    "#     use_window= ottawa_state_config.get('use_window', True),)"
   ]
  },
  {
   "cell_type": "code",
   "execution_count": null,
   "id": "13263032",
   "metadata": {},
   "outputs": [],
   "source": [
    "# state.dag_state.nodes['ch1'] = ottawa_state.dag_state.nodes['ch1']\n",
    "# state.dag_state.nodes['ch2'] = ottawa_state.dag_state.nodes['ch2']"
   ]
  },
  {
   "cell_type": "code",
   "execution_count": null,
   "id": "fbcee26b",
   "metadata": {},
   "outputs": [],
   "source": [
    "# ottawa_state.dag_state.nodes = state.dag_state.nodes.copy()"
   ]
  },
  {
   "cell_type": "code",
   "execution_count": null,
   "id": "277f191d",
   "metadata": {},
   "outputs": [],
   "source": [
    "# ottawa_state.dag_state.nodes"
   ]
  },
  {
   "cell_type": "code",
   "execution_count": null,
   "id": "c8bf7ac3",
   "metadata": {},
   "outputs": [
    {
     "name": "stderr",
     "output_type": "stream",
     "text": [
      "46it [03:02,  3.96s/it]\n"
     ]
    }
   ],
   "source": [
    "# from src.utils.rerun_dag import run_dag_on_new_data\n",
    "\n",
    "# run_dag_on_new_data(\n",
    "#     state=ottawa_state)\n",
    "\n"
   ]
  },
  {
   "cell_type": "markdown",
   "id": "483de703",
   "metadata": {},
   "source": [
    "## 相似度"
   ]
  },
  {
   "cell_type": "code",
   "execution_count": 21,
   "id": "97dd5efc",
   "metadata": {},
   "outputs": [
    {
     "name": "stdout",
     "output_type": "stream",
     "text": [
      "\n",
      "Step 2: Preparing - Creating datasets for ML model...\n"
     ]
    },
    {
     "ename": "KeyboardInterrupt",
     "evalue": "",
     "output_type": "error",
     "traceback": [
      "\u001b[31m---------------------------------------------------------------------------\u001b[39m",
      "\u001b[31mKeyboardInterrupt\u001b[39m                         Traceback (most recent call last)",
      "\u001b[36mCell\u001b[39m\u001b[36m \u001b[39m\u001b[32mIn[21]\u001b[39m\u001b[32m, line 3\u001b[39m\n\u001b[32m      1\u001b[39m \u001b[38;5;66;03m# 2. Dataset Preparer Agent: Prepare datasets for ML\u001b[39;00m\n\u001b[32m      2\u001b[39m \u001b[38;5;28mprint\u001b[39m(\u001b[33m\"\u001b[39m\u001b[38;5;130;01m\\n\u001b[39;00m\u001b[33mStep 2: Preparing - Creating datasets for ML model...\u001b[39m\u001b[33m\"\u001b[39m)\n\u001b[32m----> \u001b[39m\u001b[32m3\u001b[39m preparer_updates = \u001b[43mdataset_preparer_agent\u001b[49m\u001b[43m(\u001b[49m\u001b[43mstate\u001b[49m\u001b[43m)\u001b[49m\n\u001b[32m      4\u001b[39m state = state.copy(update=preparer_updates)\n\u001b[32m      5\u001b[39m \u001b[38;5;28mprint\u001b[39m(\u001b[33mf\u001b[39m\u001b[33m\"\u001b[39m\u001b[33mOutput: Updated state with datasets.\u001b[39m\u001b[33m\"\u001b[39m)\n",
      "\u001b[36mFile \u001b[39m\u001b[32m~/LQcode/2_project/PHMBench/PHMGA/src/agents/dataset_preparer_agent.py:91\u001b[39m, in \u001b[36mdataset_preparer_agent\u001b[39m\u001b[34m(state, config)\u001b[39m\n\u001b[32m     88\u001b[39m tst_path = saved.get(\u001b[33m\"\u001b[39m\u001b[33mtst_path\u001b[39m\u001b[33m\"\u001b[39m)\n\u001b[32m     90\u001b[39m \u001b[38;5;66;03m# Build training and test sets using the found labels\u001b[39;00m\n\u001b[32m---> \u001b[39m\u001b[32m91\u001b[39m X_train, y_train = \u001b[43m_build_dataset_from_features\u001b[49m\u001b[43m(\u001b[49m\u001b[43mref_path\u001b[49m\u001b[43m,\u001b[49m\u001b[43m \u001b[49m\u001b[43mlabels_map\u001b[49m\u001b[43m)\u001b[49m\n\u001b[32m     92\u001b[39m X_test, y_test = _build_dataset_from_features(tst_path, labels_map)\n\u001b[32m     94\u001b[39m \u001b[38;5;28;01mif\u001b[39;00m X_train.size == \u001b[32m0\u001b[39m \u001b[38;5;129;01mand\u001b[39;00m X_test.size == \u001b[32m0\u001b[39m:\n",
      "\u001b[36mFile \u001b[39m\u001b[32m~/LQcode/2_project/PHMBench/PHMGA/src/agents/dataset_preparer_agent.py:51\u001b[39m, in \u001b[36m_build_dataset_from_features\u001b[39m\u001b[34m(feature_path, labels_map)\u001b[39m\n\u001b[32m     49\u001b[39m \u001b[38;5;28;01mfor\u001b[39;00m sample_id \u001b[38;5;129;01min\u001b[39;00m data.files:\n\u001b[32m     50\u001b[39m     \u001b[38;5;28;01mif\u001b[39;00m sample_id \u001b[38;5;129;01min\u001b[39;00m labels_map:\n\u001b[32m---> \u001b[39m\u001b[32m51\u001b[39m         feature = \u001b[43mdata\u001b[49m\u001b[43m[\u001b[49m\u001b[43msample_id\u001b[49m\u001b[43m]\u001b[49m\n\u001b[32m     52\u001b[39m         features_list.append(feature.reshape(\u001b[32m1\u001b[39m, -\u001b[32m1\u001b[39m))\n\u001b[32m     53\u001b[39m         labels_list.append(labels_map[sample_id])\n",
      "\u001b[36mFile \u001b[39m\u001b[32m~/.conda/envs/PA/lib/python3.11/site-packages/numpy/lib/_npyio_impl.py:254\u001b[39m, in \u001b[36mNpzFile.__getitem__\u001b[39m\u001b[34m(self, key)\u001b[39m\n\u001b[32m    252\u001b[39m \u001b[38;5;28;01mif\u001b[39;00m magic == \u001b[38;5;28mformat\u001b[39m.MAGIC_PREFIX:\n\u001b[32m    253\u001b[39m     \u001b[38;5;28mbytes\u001b[39m = \u001b[38;5;28mself\u001b[39m.zip.open(key)\n\u001b[32m--> \u001b[39m\u001b[32m254\u001b[39m     \u001b[38;5;28;01mreturn\u001b[39;00m \u001b[38;5;28;43mformat\u001b[39;49m\u001b[43m.\u001b[49m\u001b[43mread_array\u001b[49m\u001b[43m(\u001b[49m\u001b[38;5;28;43mbytes\u001b[39;49m\u001b[43m,\u001b[49m\n\u001b[32m    255\u001b[39m \u001b[43m                             \u001b[49m\u001b[43mallow_pickle\u001b[49m\u001b[43m=\u001b[49m\u001b[38;5;28;43mself\u001b[39;49m\u001b[43m.\u001b[49m\u001b[43mallow_pickle\u001b[49m\u001b[43m,\u001b[49m\n\u001b[32m    256\u001b[39m \u001b[43m                             \u001b[49m\u001b[43mpickle_kwargs\u001b[49m\u001b[43m=\u001b[49m\u001b[38;5;28;43mself\u001b[39;49m\u001b[43m.\u001b[49m\u001b[43mpickle_kwargs\u001b[49m\u001b[43m,\u001b[49m\n\u001b[32m    257\u001b[39m \u001b[43m                             \u001b[49m\u001b[43mmax_header_size\u001b[49m\u001b[43m=\u001b[49m\u001b[38;5;28;43mself\u001b[39;49m\u001b[43m.\u001b[49m\u001b[43mmax_header_size\u001b[49m\u001b[43m)\u001b[49m\n\u001b[32m    258\u001b[39m \u001b[38;5;28;01melse\u001b[39;00m:\n\u001b[32m    259\u001b[39m     \u001b[38;5;28;01mreturn\u001b[39;00m \u001b[38;5;28mself\u001b[39m.zip.read(key)\n",
      "\u001b[36mFile \u001b[39m\u001b[32m~/.conda/envs/PA/lib/python3.11/site-packages/numpy/lib/format.py:851\u001b[39m, in \u001b[36mread_array\u001b[39m\u001b[34m(fp, allow_pickle, pickle_kwargs, max_header_size)\u001b[39m\n\u001b[32m    849\u001b[39m             read_count = \u001b[38;5;28mmin\u001b[39m(max_read_count, count - i)\n\u001b[32m    850\u001b[39m             read_size = \u001b[38;5;28mint\u001b[39m(read_count * dtype.itemsize)\n\u001b[32m--> \u001b[39m\u001b[32m851\u001b[39m             data = \u001b[43m_read_bytes\u001b[49m\u001b[43m(\u001b[49m\u001b[43mfp\u001b[49m\u001b[43m,\u001b[49m\u001b[43m \u001b[49m\u001b[43mread_size\u001b[49m\u001b[43m,\u001b[49m\u001b[43m \u001b[49m\u001b[33;43m\"\u001b[39;49m\u001b[33;43marray data\u001b[39;49m\u001b[33;43m\"\u001b[39;49m\u001b[43m)\u001b[49m\n\u001b[32m    852\u001b[39m             array[i:i+read_count] = numpy.frombuffer(data, dtype=dtype,\n\u001b[32m    853\u001b[39m                                                      count=read_count)\n\u001b[32m    855\u001b[39m \u001b[38;5;28;01mif\u001b[39;00m fortran_order:\n",
      "\u001b[36mFile \u001b[39m\u001b[32m~/.conda/envs/PA/lib/python3.11/site-packages/numpy/lib/format.py:986\u001b[39m, in \u001b[36m_read_bytes\u001b[39m\u001b[34m(fp, size, error_template)\u001b[39m\n\u001b[32m    981\u001b[39m \u001b[38;5;28;01mwhile\u001b[39;00m \u001b[38;5;28;01mTrue\u001b[39;00m:\n\u001b[32m    982\u001b[39m     \u001b[38;5;66;03m# io files (default in python3) return None or raise on\u001b[39;00m\n\u001b[32m    983\u001b[39m     \u001b[38;5;66;03m# would-block, python2 file will truncate, probably nothing can be\u001b[39;00m\n\u001b[32m    984\u001b[39m     \u001b[38;5;66;03m# done about that.  note that regular files can't be non-blocking\u001b[39;00m\n\u001b[32m    985\u001b[39m     \u001b[38;5;28;01mtry\u001b[39;00m:\n\u001b[32m--> \u001b[39m\u001b[32m986\u001b[39m         r = \u001b[43mfp\u001b[49m\u001b[43m.\u001b[49m\u001b[43mread\u001b[49m\u001b[43m(\u001b[49m\u001b[43msize\u001b[49m\u001b[43m \u001b[49m\u001b[43m-\u001b[49m\u001b[43m \u001b[49m\u001b[38;5;28;43mlen\u001b[39;49m\u001b[43m(\u001b[49m\u001b[43mdata\u001b[49m\u001b[43m)\u001b[49m\u001b[43m)\u001b[49m\n\u001b[32m    987\u001b[39m         data += r\n\u001b[32m    988\u001b[39m         \u001b[38;5;28;01mif\u001b[39;00m \u001b[38;5;28mlen\u001b[39m(r) == \u001b[32m0\u001b[39m \u001b[38;5;129;01mor\u001b[39;00m \u001b[38;5;28mlen\u001b[39m(data) == size:\n",
      "\u001b[36mFile \u001b[39m\u001b[32m~/.conda/envs/PA/lib/python3.11/zipfile.py:966\u001b[39m, in \u001b[36mZipExtFile.read\u001b[39m\u001b[34m(self, n)\u001b[39m\n\u001b[32m    964\u001b[39m \u001b[38;5;28mself\u001b[39m._offset = \u001b[32m0\u001b[39m\n\u001b[32m    965\u001b[39m \u001b[38;5;28;01mwhile\u001b[39;00m n > \u001b[32m0\u001b[39m \u001b[38;5;129;01mand\u001b[39;00m \u001b[38;5;129;01mnot\u001b[39;00m \u001b[38;5;28mself\u001b[39m._eof:\n\u001b[32m--> \u001b[39m\u001b[32m966\u001b[39m     data = \u001b[38;5;28;43mself\u001b[39;49m\u001b[43m.\u001b[49m\u001b[43m_read1\u001b[49m\u001b[43m(\u001b[49m\u001b[43mn\u001b[49m\u001b[43m)\u001b[49m\n\u001b[32m    967\u001b[39m     \u001b[38;5;28;01mif\u001b[39;00m n < \u001b[38;5;28mlen\u001b[39m(data):\n\u001b[32m    968\u001b[39m         \u001b[38;5;28mself\u001b[39m._readbuffer = data\n",
      "\u001b[36mFile \u001b[39m\u001b[32m~/.conda/envs/PA/lib/python3.11/zipfile.py:1036\u001b[39m, in \u001b[36mZipExtFile._read1\u001b[39m\u001b[34m(self, n)\u001b[39m\n\u001b[32m   1034\u001b[39m         data += \u001b[38;5;28mself\u001b[39m._read2(n - \u001b[38;5;28mlen\u001b[39m(data))\n\u001b[32m   1035\u001b[39m \u001b[38;5;28;01melse\u001b[39;00m:\n\u001b[32m-> \u001b[39m\u001b[32m1036\u001b[39m     data = \u001b[38;5;28;43mself\u001b[39;49m\u001b[43m.\u001b[49m\u001b[43m_read2\u001b[49m\u001b[43m(\u001b[49m\u001b[43mn\u001b[49m\u001b[43m)\u001b[49m\n\u001b[32m   1038\u001b[39m \u001b[38;5;28;01mif\u001b[39;00m \u001b[38;5;28mself\u001b[39m._compress_type == ZIP_STORED:\n\u001b[32m   1039\u001b[39m     \u001b[38;5;28mself\u001b[39m._eof = \u001b[38;5;28mself\u001b[39m._compress_left <= \u001b[32m0\u001b[39m\n",
      "\u001b[36mFile \u001b[39m\u001b[32m~/.conda/envs/PA/lib/python3.11/zipfile.py:1066\u001b[39m, in \u001b[36mZipExtFile._read2\u001b[39m\u001b[34m(self, n)\u001b[39m\n\u001b[32m   1063\u001b[39m n = \u001b[38;5;28mmax\u001b[39m(n, \u001b[38;5;28mself\u001b[39m.MIN_READ_SIZE)\n\u001b[32m   1064\u001b[39m n = \u001b[38;5;28mmin\u001b[39m(n, \u001b[38;5;28mself\u001b[39m._compress_left)\n\u001b[32m-> \u001b[39m\u001b[32m1066\u001b[39m data = \u001b[38;5;28;43mself\u001b[39;49m\u001b[43m.\u001b[49m\u001b[43m_fileobj\u001b[49m\u001b[43m.\u001b[49m\u001b[43mread\u001b[49m\u001b[43m(\u001b[49m\u001b[43mn\u001b[49m\u001b[43m)\u001b[49m\n\u001b[32m   1067\u001b[39m \u001b[38;5;28mself\u001b[39m._compress_left -= \u001b[38;5;28mlen\u001b[39m(data)\n\u001b[32m   1068\u001b[39m \u001b[38;5;28;01mif\u001b[39;00m \u001b[38;5;129;01mnot\u001b[39;00m data:\n",
      "\u001b[36mFile \u001b[39m\u001b[32m~/.conda/envs/PA/lib/python3.11/zipfile.py:786\u001b[39m, in \u001b[36m_SharedFile.read\u001b[39m\u001b[34m(self, n)\u001b[39m\n\u001b[32m    782\u001b[39m     \u001b[38;5;28;01mraise\u001b[39;00m \u001b[38;5;167;01mValueError\u001b[39;00m(\u001b[33m\"\u001b[39m\u001b[33mCan\u001b[39m\u001b[33m'\u001b[39m\u001b[33mt read from the ZIP file while there \u001b[39m\u001b[33m\"\u001b[39m\n\u001b[32m    783\u001b[39m             \u001b[33m\"\u001b[39m\u001b[33mis an open writing handle on it. \u001b[39m\u001b[33m\"\u001b[39m\n\u001b[32m    784\u001b[39m             \u001b[33m\"\u001b[39m\u001b[33mClose the writing handle before trying to read.\u001b[39m\u001b[33m\"\u001b[39m)\n\u001b[32m    785\u001b[39m \u001b[38;5;28mself\u001b[39m._file.seek(\u001b[38;5;28mself\u001b[39m._pos)\n\u001b[32m--> \u001b[39m\u001b[32m786\u001b[39m data = \u001b[38;5;28mself\u001b[39m._file.read(n)\n\u001b[32m    787\u001b[39m \u001b[38;5;28mself\u001b[39m._pos = \u001b[38;5;28mself\u001b[39m._file.tell()\n\u001b[32m    788\u001b[39m \u001b[38;5;28;01mreturn\u001b[39;00m data\n",
      "\u001b[31mKeyboardInterrupt\u001b[39m: "
     ]
    }
   ],
   "source": [
    "# 2. Dataset Preparer Agent: Prepare datasets for ML\n",
    "print(\"\\nStep 2: Preparing - Creating datasets for ML model...\")\n",
    "preparer_updates = dataset_preparer_agent(state)\n",
    "state = state.copy(update=preparer_updates)\n",
    "print(f\"Output: Updated state with datasets.\")\n",
    "\n",
    "datasets = preparer_updates['datasets']"
   ]
  },
  {
   "cell_type": "code",
   "execution_count": null,
   "id": "b73b8de4",
   "metadata": {},
   "outputs": [],
   "source": [
    "print(\"\\nStep 1: Inquiring - Performing similarity analysis...\")\n",
    "inquirer_updates = inquirer_agent(state, metrics=[\"cosine\", \"euclidean\"])\n",
    "state = state.copy(update=inquirer_updates)\n",
    "print(f\"Output: Updated state with similarity_results.\")"
   ]
  },
  {
   "cell_type": "code",
   "execution_count": 7,
   "id": "ec109896",
   "metadata": {},
   "outputs": [
    {
     "name": "stdout",
     "output_type": "stream",
     "text": [
      "--- Ensemble: Found 3 models with CV accuracy > 90% for ensembling.\n",
      "--- High-quality models: ['wavelet_transform_03_ch1', 'fft_01_hilbert_envelope_01_ch1', 'mean_03_wavelet_transform_03_ch1']\n"
     ]
    }
   ],
   "source": [
    "result = shallow_ml_agent(datasets)"
   ]
  },
  {
   "cell_type": "code",
   "execution_count": 10,
   "id": "3f18d147",
   "metadata": {},
   "outputs": [
    {
     "name": "stderr",
     "output_type": "stream",
     "text": [
      "/tmp/ipykernel_644608/3454917170.py:1: PydanticDeprecatedSince20: The `copy` method is deprecated; use `model_copy` instead. See the docstring of `BaseModel.copy` for details about how to handle `include` and `exclude`. Deprecated in Pydantic V2.0 to be removed in V3.0. See Pydantic V2 Migration Guide at https://errors.pydantic.dev/2.11/migration/\n",
      "  state = state.copy(update={'ml_results': result['metrics_markdown']})\n"
     ]
    },
    {
     "name": "stdout",
     "output_type": "stream",
     "text": [
      "\n",
      "--- Saving final state to save/exp2.5ottawa/exp2.5_built_state_ottawa.pkl ---\n",
      "\n",
      "--- Saving state to save/exp2.5ottawa/exp2.5_built_state_ottawa.pkl ---\n",
      "...done.\n"
     ]
    },
    {
     "data": {
      "text/plain": [
       "True"
      ]
     },
     "execution_count": 10,
     "metadata": {},
     "output_type": "execute_result"
    }
   ],
   "source": [
    "state = state.copy(update={'ml_results': result['metrics_markdown']})\n",
    "\n",
    "# Save the final state\n",
    "print(f\"\\n--- Saving final state to {state_save_path} ---\")\n",
    "save_state(state, state_save_path)"
   ]
  },
  {
   "cell_type": "code",
   "execution_count": 9,
   "id": "3145fdc6",
   "metadata": {},
   "outputs": [
    {
     "data": {
      "text/plain": [
       "'|                                            |   accuracy |       f1 |   cv_accuracy |      cv_f1 |   cv_accuracy_std |   cv_f1_std |\\n|:-------------------------------------------|-----------:|---------:|--------------:|-----------:|------------------:|------------:|\\n| hilbert_envelope_01_ch1                    |   0.706539 | 0.709033 |      0.758891 |   0.754649 |          0.050594 |    0.055472 |\\n| hilbert_envelope_02_ch2                    |   0.339629 | 0.338302 |      0.320853 |   0.319765 |          0.007129 |    0.006871 |\\n| wavelet_transform_03_ch1                   |   0.991385 | 0.991385 |      0.988072 |   0.988065 |          0.008678 |    0.008691 |\\n| wavelet_transform_04_ch2                   |   0.341507 | 0.338874 |      0.308924 |   0.304770 |          0.007241 |    0.008161 |\\n| kurtosis_05_ch1                            |   0.392092 | 0.391570 |      0.407334 |   0.407307 |          0.007945 |    0.008217 |\\n| rms_06_ch2                                 |   0.339518 | 0.339495 |      0.335984 |   0.335905 |          0.007096 |    0.007089 |\\n| fft_01_hilbert_envelope_01_ch1             |   0.966424 | 0.966527 |      0.978131 |   0.978082 |          0.013140 |    0.013155 |\\n| fft_02_hilbert_envelope_02_ch2             |   0.341286 | 0.339787 |      0.316877 |   0.316231 |          0.005372 |    0.005857 |\\n| mean_03_wavelet_transform_03_ch1           |   0.994036 | 0.994035 |      0.997460 |   0.997459 |          0.002203 |    0.002205 |\\n| std_04_wavelet_transform_04_ch2            |   0.372322 | 0.371580 |      0.371880 |   0.369775 |          0.025249 |    0.024441 |\\n| spectral_kurtosis_05_ch1                   |   0.392092 | 0.391570 |      0.407334 |   0.407307 |          0.007945 |    0.008217 |\\n| spectral_flatness_06_ch2                   |   0.333444 | 0.167892 |      0.330572 |   0.166595 |          0.004159 |    0.001950 |\\n| coherence_07_ch1_ch2                       |   0.360062 | 0.359801 |      0.369781 |   0.369117 |          0.003902 |    0.004314 |\\n| mean_01_fft_01_hilbert_envelope_01_ch1     |   0.654738 | 0.657363 |      0.678706 |   0.678195 |          0.009204 |    0.010631 |\\n| kurtosis_02_fft_01_hilbert_envelope_01_ch1 |   0.586812 | 0.590621 |      0.529379 |   0.535723 |          0.059563 |    0.056071 |\\n| std_03_fft_02_hilbert_envelope_02_ch2      |   0.329689 | 0.329697 |      0.326927 |   0.326968 |          0.011221 |    0.011365 |\\n| skew_04_fft_02_hilbert_envelope_02_ch2     |   0.330683 | 0.330621 |      0.333554 |   0.333495 |          0.004141 |    0.004046 |\\n| mean_05_coherence_07_ch1_ch2               |   0.332339 | 0.332322 |      0.334769 |   0.334596 |          0.003572 |    0.003538 |\\n| max_06_coherence_07_ch1_ch2                |   0.340623 | 0.340616 |      0.333665 |   0.333521 |          0.003788 |    0.003845 |\\n| crest_factor_07_ch1                        |   0.352883 | 0.351947 |      0.336315 |   0.334518 |          0.021045 |    0.021810 |\\n| shape_factor_08_ch2                        |   0.357301 | 0.357108 |      0.375856 |   0.374888 |          0.003961 |    0.004455 |\\n| ensemble                                   |   0.993042 | 0.993037 |    nan        | nan        |        nan        |  nan        |'"
      ]
     },
     "execution_count": 9,
     "metadata": {},
     "output_type": "execute_result"
    }
   ],
   "source": [
    "result_md = result['metrics_markdown']\n",
    "result_md"
   ]
  },
  {
   "cell_type": "markdown",
   "id": "32334db5",
   "metadata": {},
   "source": [
    "## save dataset"
   ]
  },
  {
   "cell_type": "code",
   "execution_count": 8,
   "id": "581a3c2e",
   "metadata": {},
   "outputs": [],
   "source": [
    "# save and load dataset dict\n",
    "import pickle\n",
    "import os\n",
    "save_dir  = '/mnt/crucial/LQ/save/cache'\n",
    "os.makedirs(save_dir, exist_ok=True)\n",
    "save_path = os.path.join(save_dir, 'datasets.pkl')\n",
    "# with open(save_path, 'wb') as f:\n",
    "#     pickle.dump(datasets, f)\n",
    "with open(save_path, 'rb') as f:\n",
    "    datasets = pickle.load(f)"
   ]
  },
  {
   "cell_type": "code",
   "execution_count": 9,
   "id": "9ee56374",
   "metadata": {},
   "outputs": [
    {
     "data": {
      "text/plain": [
       "{'hilbert_envelope_01_ch1': {'X_train': array([[0.00174895, 0.00263031, 0.00226459, ..., 0.00301218, 0.00317019,\n",
       "          0.00116193],\n",
       "         [0.00134714, 0.00797296, 0.00374481, ..., 0.01637671, 0.00666182,\n",
       "          0.00876729],\n",
       "         [0.00786409, 0.0036471 , 0.00537982, ..., 0.00870751, 0.00693313,\n",
       "          0.00719135],\n",
       "         ...,\n",
       "         [0.01497442, 0.00938048, 0.0108512 , ..., 0.01437162, 0.01512111,\n",
       "          0.01844575],\n",
       "         [0.01070854, 0.0131114 , 0.01225115, ..., 0.01171543, 0.01276345,\n",
       "          0.00950708],\n",
       "         [0.01591804, 0.0126456 , 0.01194643, ..., 0.01636803, 0.01213776,\n",
       "          0.01695123]], shape=(9054, 4096)),\n",
       "  'X_test': array([[0.04110602, 0.02287065, 0.02500579, ..., 0.01950582, 0.01808305,\n",
       "          0.0397208 ],\n",
       "         [0.02032808, 0.01709611, 0.01188072, ..., 0.01865521, 0.01967266,\n",
       "          0.02267299],\n",
       "         [0.00813327, 0.00726524, 0.00517265, ..., 0.0151182 , 0.01557003,\n",
       "          0.01361201],\n",
       "         ...,\n",
       "         [0.01043803, 0.0107688 , 0.00760644, ..., 0.00369655, 0.00413523,\n",
       "          0.00514048],\n",
       "         [0.01689513, 0.0112507 , 0.01071411, ..., 0.01056614, 0.01247292,\n",
       "          0.01881148],\n",
       "         [0.01209728, 0.01072363, 0.01292792, ..., 0.0080488 , 0.01033756,\n",
       "          0.01272118]], shape=(9054, 4096)),\n",
       "  'y_train': array([0., 0., 0., ..., 2., 2., 2.], shape=(9054,)),\n",
       "  'y_test': array([0., 0., 0., ..., 2., 2., 2.], shape=(9054,)),\n",
       "  'origin_node': 'hilbert_envelope_01_ch1'},\n",
       " 'hilbert_envelope_02_ch2': {'X_train': array([[4.21815501, 4.2193139 , 4.24924892, ..., 4.44117819, 4.54484687,\n",
       "          4.22377442],\n",
       "         [4.08549801, 4.26954038, 4.26785741, ..., 5.92380317, 4.39815461,\n",
       "          4.50748318],\n",
       "         [2.27166132, 3.30883949, 4.8021705 , ..., 5.233123  , 4.25384412,\n",
       "          4.39983449],\n",
       "         ...,\n",
       "         [0.32628376, 0.4160988 , 3.27968956, ..., 4.32910505, 5.07586633,\n",
       "          3.51858881],\n",
       "         [3.79907154, 4.95397811, 4.39330776, ..., 1.17228746, 1.09426816,\n",
       "          0.18328888],\n",
       "         [4.24400415, 5.99887391, 2.79477715, ..., 4.22001381, 4.47526384,\n",
       "          4.49827849]], shape=(9054, 4096)),\n",
       "  'X_test': array([[2.93759493, 4.78285668, 4.069267  , ..., 3.10067362, 0.02169931,\n",
       "          0.25060606],\n",
       "         [4.65879506, 4.26295565, 4.94048631, ..., 4.35630558, 4.68986232,\n",
       "          0.28781102],\n",
       "         [0.4269034 , 3.2948721 , 5.01630265, ..., 0.45756352, 0.75121746,\n",
       "          0.72403679],\n",
       "         ...,\n",
       "         [4.53739   , 4.37477562, 5.11101637, ..., 4.32484615, 4.9784822 ,\n",
       "          0.13488843],\n",
       "         [0.31109456, 4.57823083, 4.28428054, ..., 4.26637139, 4.34022294,\n",
       "          5.20229136],\n",
       "         [0.25414018, 4.55380202, 4.28437144, ..., 4.2178557 , 4.3322594 ,\n",
       "          5.21540132]], shape=(9054, 4096)),\n",
       "  'y_train': array([0., 0., 0., ..., 2., 2., 2.], shape=(9054,)),\n",
       "  'y_test': array([0., 0., 0., ..., 2., 2., 2.], shape=(9054,)),\n",
       "  'origin_node': 'hilbert_envelope_02_ch2'},\n",
       " 'wavelet_transform_03_ch1': {'X_train': array([[3.90088501e-05, 2.54388883e-04, 5.31433812e-05, ...,\n",
       "          1.64814743e-03, 3.27983273e-03, 3.54033048e-03],\n",
       "         [7.05197884e-05, 1.27858408e-04, 1.27532856e-04, ...,\n",
       "          2.19349700e-02, 1.95922067e-02, 1.15195542e-02],\n",
       "         [8.07039107e-05, 6.66028443e-05, 1.59780265e-04, ...,\n",
       "          1.58285970e-04, 1.28047813e-04, 7.21002375e-04],\n",
       "         ...,\n",
       "         [8.55233792e-05, 9.68071810e-05, 2.96370615e-04, ...,\n",
       "          7.60781469e-03, 4.18461608e-03, 5.93608842e-03],\n",
       "         [2.90855859e-04, 5.14872745e-04, 2.80397601e-04, ...,\n",
       "          7.37426171e-03, 6.85151308e-03, 4.50985097e-03],\n",
       "         [1.23778521e-04, 1.48539212e-04, 9.09926600e-05, ...,\n",
       "          7.02381516e-03, 6.66054431e-03, 6.96873878e-03]],\n",
       "        shape=(9054, 81920)),\n",
       "  'X_test': array([[1.17024004e-04, 1.92223988e-03, 2.47533667e-04, ...,\n",
       "          1.74405088e-02, 1.94797416e-02, 1.69365002e-02],\n",
       "         [6.61865847e-04, 6.57519175e-04, 8.91326231e-04, ...,\n",
       "          5.65716077e-03, 5.26171329e-03, 6.67676607e-03],\n",
       "         [1.21259335e-04, 4.93474673e-04, 9.75561678e-05, ...,\n",
       "          4.50339001e-03, 5.96897900e-03, 5.31493134e-03],\n",
       "         ...,\n",
       "         [6.59308696e-04, 1.64941857e-03, 4.77084565e-04, ...,\n",
       "          8.91990365e-03, 1.02799155e-02, 9.91538919e-03],\n",
       "         [1.64651020e-04, 5.24993714e-05, 2.49086920e-04, ...,\n",
       "          4.44673472e-03, 7.36823225e-03, 5.27901616e-03],\n",
       "         [1.25084449e-04, 4.17133679e-04, 1.81070908e-04, ...,\n",
       "          2.24011179e-03, 2.24232342e-04, 1.12559567e-03]],\n",
       "        shape=(9054, 81920)),\n",
       "  'y_train': array([0., 0., 0., ..., 2., 2., 2.], shape=(9054,)),\n",
       "  'y_test': array([0., 0., 0., ..., 2., 2., 2.], shape=(9054,)),\n",
       "  'origin_node': 'wavelet_transform_03_ch1'},\n",
       " 'wavelet_transform_04_ch2': {'X_train': array([[0.00636362, 0.51032548, 0.03194512, ..., 1.22754532, 1.11804852,\n",
       "          1.43962673],\n",
       "         [0.01594292, 0.49799429, 0.03085014, ..., 2.16571962, 0.26345518,\n",
       "          0.65183722],\n",
       "         [0.01839277, 0.50181298, 0.00848713, ..., 1.70138017, 0.37520004,\n",
       "          1.24683327],\n",
       "         ...,\n",
       "         [0.00716801, 0.01290732, 0.48770324, ..., 1.0395537 , 1.04540563,\n",
       "          0.55454381],\n",
       "         [0.4951966 , 0.01506523, 0.49063347, ..., 0.06599748, 0.0890063 ,\n",
       "          0.47642316],\n",
       "         [0.01126927, 1.04052827, 0.03488507, ..., 0.96435105, 0.70385304,\n",
       "          0.60448848]], shape=(9054, 81920)),\n",
       "  'X_test': array([[5.08541443e-01, 8.68264483e-03, 5.06307003e-01, ...,\n",
       "          6.02384899e-01, 2.07878650e-01, 2.07768957e-01],\n",
       "         [1.06876667e-02, 5.29383420e-01, 5.44449279e-01, ...,\n",
       "          1.19560714e-01, 5.75579765e-01, 1.78399126e-01],\n",
       "         [1.84994986e-02, 5.04210874e-01, 1.44893486e-02, ...,\n",
       "          5.30885660e-01, 2.47868260e-01, 4.57112589e-01],\n",
       "         ...,\n",
       "         [2.38401877e-02, 5.24322740e-01, 5.64683588e-01, ...,\n",
       "          1.15102217e+00, 1.95735525e+00, 1.14807585e+00],\n",
       "         [5.05081373e-01, 5.31039557e-03, 5.01085026e-01, ...,\n",
       "          2.09032855e+00, 1.51740288e+00, 2.81805592e+00],\n",
       "         [5.07630789e-01, 2.81691254e-03, 5.03844161e-01, ...,\n",
       "          1.94422180e+00, 1.43080140e+00, 2.74672473e+00]],\n",
       "        shape=(9054, 81920)),\n",
       "  'y_train': array([0., 0., 0., ..., 2., 2., 2.], shape=(9054,)),\n",
       "  'y_test': array([0., 0., 0., ..., 2., 2., 2.], shape=(9054,)),\n",
       "  'origin_node': 'wavelet_transform_04_ch2'},\n",
       " 'kurtosis_05_ch1': {'X_train': array([[4.05800155],\n",
       "         [8.788668  ],\n",
       "         [5.34421954],\n",
       "         ...,\n",
       "         [0.92455759],\n",
       "         [1.42504289],\n",
       "         [1.01051786]], shape=(9054, 1)),\n",
       "  'X_test': array([[ 0.11615717],\n",
       "         [-0.01038654],\n",
       "         [ 0.11510543],\n",
       "         ...,\n",
       "         [ 1.71735125],\n",
       "         [ 3.94204175],\n",
       "         [ 0.77518734]], shape=(9054, 1)),\n",
       "  'y_train': array([0., 0., 0., ..., 2., 2., 2.], shape=(9054,)),\n",
       "  'y_test': array([0., 0., 0., ..., 2., 2., 2.], shape=(9054,)),\n",
       "  'origin_node': 'kurtosis_05_ch1'},\n",
       " 'rms_06_ch2': {'X_train': array([[2.99577525],\n",
       "         [3.00093761],\n",
       "         [2.99334138],\n",
       "         ...,\n",
       "         [2.97324151],\n",
       "         [2.97148874],\n",
       "         [2.97790883]], shape=(9054, 1)),\n",
       "  'X_test': array([[2.93823528],\n",
       "         [2.93940068],\n",
       "         [2.93979977],\n",
       "         ...,\n",
       "         [2.98329505],\n",
       "         [2.98561471],\n",
       "         [2.98545973]], shape=(9054, 1)),\n",
       "  'y_train': array([0., 0., 0., ..., 2., 2., 2.], shape=(9054,)),\n",
       "  'y_test': array([0., 0., 0., ..., 2., 2., 2.], shape=(9054,)),\n",
       "  'origin_node': 'rms_06_ch2'},\n",
       " 'fft_01_hilbert_envelope_01_ch1': {'X_train': array([[2.73619309e+01, 1.68034173e+00, 1.69524443e+00, ...,\n",
       "          4.16709015e-02, 1.45081582e-01, 9.94688267e-02],\n",
       "         [2.45309686e+01, 1.58966846e+00, 2.48956041e+00, ...,\n",
       "          5.16264183e-02, 9.45017750e-02, 7.07822325e-02],\n",
       "         [2.57620618e+01, 3.68370319e+00, 2.08874669e+00, ...,\n",
       "          9.90094984e-02, 1.11421549e-01, 4.09130920e-02],\n",
       "         ...,\n",
       "         [4.52845566e+01, 5.26515398e+00, 2.97372899e+00, ...,\n",
       "          9.59781324e-02, 6.82855163e-02, 7.16405808e-02],\n",
       "         [3.78502572e+01, 3.50790816e+00, 5.24588922e-01, ...,\n",
       "          7.07906466e-03, 2.35110416e-02, 8.75590890e-03],\n",
       "         [5.51623452e+01, 7.31560630e+00, 5.34782956e+00, ...,\n",
       "          6.16150151e-02, 6.85861246e-02, 4.50163728e-02]],\n",
       "        shape=(9054, 2049)),\n",
       "  'X_test': array([[5.35377536e+01, 2.77467754e+00, 3.20943293e+00, ...,\n",
       "          7.09977508e-02, 8.96611169e-02, 8.74399668e-02],\n",
       "         [5.59888320e+01, 2.33402949e+00, 2.61711730e+00, ...,\n",
       "          2.18980679e-02, 3.89817609e-02, 2.60434539e-02],\n",
       "         [6.19787060e+01, 5.50780306e+00, 1.61090692e+00, ...,\n",
       "          5.06326814e-02, 4.58171634e-02, 9.65822887e-03],\n",
       "         ...,\n",
       "         [4.15002863e+01, 2.49286909e+00, 9.18993781e-01, ...,\n",
       "          1.06808647e-01, 8.65722218e-02, 1.18895567e-01],\n",
       "         [3.39100673e+01, 3.54522235e+00, 3.58972942e+00, ...,\n",
       "          6.50941474e-02, 1.04833244e-01, 1.36239950e-01],\n",
       "         [3.57418672e+01, 2.33632101e+00, 2.23576667e+00, ...,\n",
       "          1.70290951e-02, 7.90036566e-02, 3.92554605e-02]],\n",
       "        shape=(9054, 2049)),\n",
       "  'y_train': array([0., 0., 0., ..., 2., 2., 2.], shape=(9054,)),\n",
       "  'y_test': array([0., 0., 0., ..., 2., 2., 2.], shape=(9054,)),\n",
       "  'origin_node': 'fft_01_hilbert_envelope_01_ch1'},\n",
       " 'fft_02_hilbert_envelope_02_ch2': {'X_train': array([[1.28739982e+04, 7.69686058e+00, 7.96573739e+00, ...,\n",
       "          4.90675638e-01, 3.07934371e-01, 4.52016935e-01],\n",
       "         [1.29018360e+04, 3.92306496e+01, 4.30613238e+01, ...,\n",
       "          5.75969048e-01, 1.19497699e+00, 1.43270511e+00],\n",
       "         [1.28633689e+04, 5.97552835e+00, 1.24347740e+01, ...,\n",
       "          1.29805516e+00, 8.85912580e-01, 8.95641612e-01],\n",
       "         ...,\n",
       "         [1.27921556e+04, 9.60300812e-01, 4.75367820e-01, ...,\n",
       "          2.17215721e+00, 8.35564509e-01, 3.15880078e-02],\n",
       "         [1.27844180e+04, 2.98792165e+00, 3.72432368e+00, ...,\n",
       "          9.97463303e+00, 5.51914044e+00, 4.64746722e+00],\n",
       "         [1.27916823e+04, 1.95802979e+01, 4.59194084e+01, ...,\n",
       "          7.43360675e+01, 1.35075172e+02, 1.44462874e+02]],\n",
       "        shape=(9054, 2049)),\n",
       "  'X_test': array([[1.29213195e+04, 9.58154516e+00, 3.58278106e+00, ...,\n",
       "          2.95146091e+00, 1.84368316e+00, 2.23953998e+00],\n",
       "         [1.28990080e+04, 2.22390539e+01, 3.02739879e+00, ...,\n",
       "          1.05217332e+01, 1.10745715e+01, 3.28900466e+00],\n",
       "         [1.29130623e+04, 1.03094909e+01, 1.34696484e+01, ...,\n",
       "          9.74316088e+00, 8.50456574e+00, 9.41089567e+00],\n",
       "         ...,\n",
       "         [1.28453041e+04, 1.50514815e+01, 1.60067910e+01, ...,\n",
       "          4.18908621e+00, 3.03087792e+00, 4.10370918e+00],\n",
       "         [1.28592020e+04, 6.80901969e+01, 1.29252657e+02, ...,\n",
       "          2.93629625e+00, 3.00490992e+00, 2.51932104e+00],\n",
       "         [1.28701699e+04, 1.92583007e+01, 2.07527846e+01, ...,\n",
       "          4.36742540e+00, 2.60172827e+00, 3.54683512e+00]],\n",
       "        shape=(9054, 2049)),\n",
       "  'y_train': array([0., 0., 0., ..., 2., 2., 2.], shape=(9054,)),\n",
       "  'y_test': array([0., 0., 0., ..., 2., 2., 2.], shape=(9054,)),\n",
       "  'origin_node': 'fft_02_hilbert_envelope_02_ch2'},\n",
       " 'mean_03_wavelet_transform_03_ch1': {'X_train': array([[0.00019855, 0.00019855, 0.00019855, ..., 0.01357799, 0.01870692,\n",
       "          0.02093843],\n",
       "         [0.00023731, 0.00023731, 0.00023731, ..., 0.01355024, 0.01787568,\n",
       "          0.01883421],\n",
       "         [0.0001952 , 0.0001952 , 0.0001952 , ..., 0.01359377, 0.0165209 ,\n",
       "          0.02055409],\n",
       "         ...,\n",
       "         [0.00025476, 0.00025476, 0.00025476, ..., 0.0130898 , 0.01120082,\n",
       "          0.01060731],\n",
       "         [0.00029034, 0.00029034, 0.00029034, ..., 0.00980803, 0.01025813,\n",
       "          0.00996482],\n",
       "         [0.00026269, 0.00026269, 0.00026269, ..., 0.01713977, 0.01909408,\n",
       "          0.02050221]], shape=(9054, 20)),\n",
       "  'X_test': array([[0.00045797, 0.00045797, 0.00045797, ..., 0.03196523, 0.03305099,\n",
       "          0.03191492],\n",
       "         [0.00048066, 0.00048066, 0.00048066, ..., 0.03888419, 0.0412051 ,\n",
       "          0.03177986],\n",
       "         [0.0004859 , 0.0004859 , 0.0004859 , ..., 0.03515508, 0.03445929,\n",
       "          0.03408859],\n",
       "         ...,\n",
       "         [0.00024961, 0.00024961, 0.00024961, ..., 0.01168969, 0.01196942,\n",
       "          0.01058605],\n",
       "         [0.00023193, 0.00023193, 0.00023193, ..., 0.00948761, 0.01073194,\n",
       "          0.01082442],\n",
       "         [0.00025773, 0.00025773, 0.00025773, ..., 0.01097063, 0.00936391,\n",
       "          0.01197993]], shape=(9054, 20)),\n",
       "  'y_train': array([0., 0., 0., ..., 2., 2., 2.], shape=(9054,)),\n",
       "  'y_test': array([0., 0., 0., ..., 2., 2., 2.], shape=(9054,)),\n",
       "  'origin_node': 'mean_03_wavelet_transform_03_ch1'},\n",
       " 'std_04_wavelet_transform_04_ch2': {'X_train': array([[0.22390616, 0.22390616, 0.22390616, ..., 0.3764863 , 0.46842045,\n",
       "          0.6273069 ],\n",
       "         [0.22470669, 0.22470669, 0.22470669, ..., 0.37565622, 0.49713854,\n",
       "          0.68529291],\n",
       "         [0.2242354 , 0.2242354 , 0.2242354 , ..., 0.38516634, 0.47882007,\n",
       "          0.64970521],\n",
       "         ...,\n",
       "         [0.24013353, 0.24013353, 0.24013353, ..., 0.37896139, 0.48481096,\n",
       "          0.59994429],\n",
       "         [0.24010674, 0.24010674, 0.24010674, ..., 0.38896395, 0.48669663,\n",
       "          0.61905907],\n",
       "         [0.24230728, 0.24230728, 0.24230728, ..., 0.36743444, 0.45572099,\n",
       "          0.59302342]], shape=(9054, 20)),\n",
       "  'X_test': array([[0.23504592, 0.23504592, 0.23504592, ..., 0.36486441, 0.45837226,\n",
       "          0.62093845],\n",
       "         [0.23562292, 0.23562292, 0.23562292, ..., 0.35564463, 0.43685344,\n",
       "          0.6030942 ],\n",
       "         [0.23665216, 0.23665216, 0.23665216, ..., 0.37296118, 0.4563614 ,\n",
       "          0.64508954],\n",
       "         ...,\n",
       "         [0.23584998, 0.23584998, 0.23584998, ..., 0.37358384, 0.60663304,\n",
       "          0.77367947],\n",
       "         [0.2353786 , 0.2353786 , 0.2353786 , ..., 0.4227963 , 0.68440218,\n",
       "          0.74960637],\n",
       "         [0.23535919, 0.23535919, 0.23535919, ..., 0.39019052, 0.7416485 ,\n",
       "          1.23888931]], shape=(9054, 20)),\n",
       "  'y_train': array([0., 0., 0., ..., 2., 2., 2.], shape=(9054,)),\n",
       "  'y_test': array([0., 0., 0., ..., 2., 2., 2.], shape=(9054,)),\n",
       "  'origin_node': 'std_04_wavelet_transform_04_ch2'},\n",
       " 'spectral_kurtosis_05_ch1': {'X_train': array([[4.05800155],\n",
       "         [8.788668  ],\n",
       "         [5.34421954],\n",
       "         ...,\n",
       "         [0.92455759],\n",
       "         [1.42504289],\n",
       "         [1.01051786]], shape=(9054, 1)),\n",
       "  'X_test': array([[ 0.11615717],\n",
       "         [-0.01038654],\n",
       "         [ 0.11510543],\n",
       "         ...,\n",
       "         [ 1.71735125],\n",
       "         [ 3.94204175],\n",
       "         [ 0.77518734]], shape=(9054, 1)),\n",
       "  'y_train': array([0., 0., 0., ..., 2., 2., 2.], shape=(9054,)),\n",
       "  'y_test': array([0., 0., 0., ..., 2., 2., 2.], shape=(9054,)),\n",
       "  'origin_node': 'spectral_kurtosis_05_ch1'},\n",
       " 'spectral_flatness_06_ch2': {'X_train': array([[nan],\n",
       "         [nan],\n",
       "         [nan],\n",
       "         ...,\n",
       "         [nan],\n",
       "         [nan],\n",
       "         [nan]], shape=(9054, 1)),\n",
       "  'X_test': array([[nan],\n",
       "         [nan],\n",
       "         [nan],\n",
       "         ...,\n",
       "         [nan],\n",
       "         [nan],\n",
       "         [nan]], shape=(9054, 1)),\n",
       "  'y_train': array([0., 0., 0., ..., 2., 2., 2.], shape=(9054,)),\n",
       "  'y_test': array([0., 0., 0., ..., 2., 2., 2.], shape=(9054,)),\n",
       "  'origin_node': 'spectral_flatness_06_ch2'},\n",
       " 'coherence_07_ch1_ch2': {'X_train': array([[0.00265061, 0.0092229 , 0.01389148, ..., 0.01831908, 0.04593467,\n",
       "          0.02070648],\n",
       "         [0.00253043, 0.02526893, 0.08959881, ..., 0.01110386, 0.01743859,\n",
       "          0.00983505],\n",
       "         [0.02086122, 0.00793854, 0.02508861, ..., 0.01085024, 0.00412017,\n",
       "          0.01625058],\n",
       "         ...,\n",
       "         [0.03974382, 0.00793863, 0.01595733, ..., 0.01644888, 0.06734116,\n",
       "          0.06461332],\n",
       "         [0.04086062, 0.03878387, 0.00375778, ..., 0.08960886, 0.03461255,\n",
       "          0.00295105],\n",
       "         [0.01472633, 0.02623689, 0.06063912, ..., 0.12869612, 0.01836073,\n",
       "          0.0495334 ]], shape=(9054, 129)),\n",
       "  'X_test': array([[1.31932676e-02, 2.78938573e-02, 2.61479058e-02, ...,\n",
       "          1.56729720e-02, 2.23699414e-03, 9.01893218e-04],\n",
       "         [6.07445808e-04, 1.01523492e-01, 5.10973301e-02, ...,\n",
       "          2.23397971e-02, 1.08429565e-02, 4.25879469e-02],\n",
       "         [1.39726873e-01, 4.50757881e-02, 7.97488821e-04, ...,\n",
       "          3.87699898e-02, 1.06302509e-02, 8.91198438e-03],\n",
       "         ...,\n",
       "         [7.66503256e-02, 3.71572835e-02, 3.42689492e-02, ...,\n",
       "          4.02440450e-02, 2.24724671e-02, 2.65445662e-03],\n",
       "         [1.52468555e-01, 2.92917544e-02, 1.66788092e-02, ...,\n",
       "          1.11569797e-02, 3.55846254e-04, 2.02993222e-02],\n",
       "         [5.44684361e-03, 1.48586112e-01, 4.29831253e-02, ...,\n",
       "          4.16443785e-02, 4.38005710e-02, 1.04770910e-04]],\n",
       "        shape=(9054, 129)),\n",
       "  'y_train': array([0., 0., 0., ..., 2., 2., 2.], shape=(9054,)),\n",
       "  'y_test': array([0., 0., 0., ..., 2., 2., 2.], shape=(9054,)),\n",
       "  'origin_node': 'coherence_07_ch1_ch2'},\n",
       " 'mean_01_fft_01_hilbert_envelope_01_ch1': {'X_train': array([[0.15604969],\n",
       "         [0.16575514],\n",
       "         [0.15489445],\n",
       "         ...,\n",
       "         [0.20683452],\n",
       "         [0.21180831],\n",
       "         [0.23157957]], shape=(9054, 1)),\n",
       "  'X_test': array([[0.25465354],\n",
       "         [0.25116382],\n",
       "         [0.27909539],\n",
       "         ...,\n",
       "         [0.20064994],\n",
       "         [0.1773584 ],\n",
       "         [0.18260495]], shape=(9054, 1)),\n",
       "  'y_train': array([0., 0., 0., ..., 2., 2., 2.], shape=(9054,)),\n",
       "  'y_test': array([0., 0., 0., ..., 2., 2., 2.], shape=(9054,)),\n",
       "  'origin_node': 'mean_01_fft_01_hilbert_envelope_01_ch1'},\n",
       " 'kurtosis_02_fft_01_hilbert_envelope_01_ch1': {'X_train': array([[1627.60725512],\n",
       "         [1584.10827809],\n",
       "         [1554.16327473],\n",
       "         ...,\n",
       "         [1615.55466692],\n",
       "         [1662.27905144],\n",
       "         [1551.66318271]], shape=(9054, 1)),\n",
       "  'X_test': array([[1673.29553614],\n",
       "         [1688.00536639],\n",
       "         [1655.42563341],\n",
       "         ...,\n",
       "         [1641.34228008],\n",
       "         [1550.49008909],\n",
       "         [1720.76405784]], shape=(9054, 1)),\n",
       "  'y_train': array([0., 0., 0., ..., 2., 2., 2.], shape=(9054,)),\n",
       "  'y_test': array([0., 0., 0., ..., 2., 2., 2.], shape=(9054,)),\n",
       "  'origin_node': 'kurtosis_02_fft_01_hilbert_envelope_01_ch1'},\n",
       " 'std_03_fft_02_hilbert_envelope_02_ch2': {'X_train': array([[306.76485636],\n",
       "         [306.79542628],\n",
       "         [306.46581708],\n",
       "         ...,\n",
       "         [304.97341788],\n",
       "         [304.94237367],\n",
       "         [305.52922554]], shape=(9054, 1)),\n",
       "  'X_test': array([[303.97516571],\n",
       "         [303.31115254],\n",
       "         [303.29283002],\n",
       "         ...,\n",
       "         [305.76642046],\n",
       "         [306.19139651],\n",
       "         [305.53084586]], shape=(9054, 1)),\n",
       "  'y_train': array([0., 0., 0., ..., 2., 2., 2.], shape=(9054,)),\n",
       "  'y_test': array([0., 0., 0., ..., 2., 2., 2.], shape=(9054,)),\n",
       "  'origin_node': 'std_03_fft_02_hilbert_envelope_02_ch2'},\n",
       " 'skew_04_fft_02_hilbert_envelope_02_ch2': {'X_train': array([[36.98955678],\n",
       "         [36.97980879],\n",
       "         [36.89367023],\n",
       "         ...,\n",
       "         [37.19742768],\n",
       "         [37.12558356],\n",
       "         [37.05933517]], shape=(9054, 1)),\n",
       "  'X_test': array([[37.93709719],\n",
       "         [37.90290041],\n",
       "         [37.8686528 ],\n",
       "         ...,\n",
       "         [36.98701251],\n",
       "         [36.95478637],\n",
       "         [36.95579049]], shape=(9054, 1)),\n",
       "  'y_train': array([0., 0., 0., ..., 2., 2., 2.], shape=(9054,)),\n",
       "  'y_test': array([0., 0., 0., ..., 2., 2., 2.], shape=(9054,)),\n",
       "  'origin_node': 'skew_04_fft_02_hilbert_envelope_02_ch2'},\n",
       " 'mean_05_coherence_07_ch1_ch2': {'X_train': array([[0.03179849],\n",
       "         [0.03428601],\n",
       "         [0.020203  ],\n",
       "         ...,\n",
       "         [0.03225332],\n",
       "         [0.03885838],\n",
       "         [0.09237275]], shape=(9054, 1)),\n",
       "  'X_test': array([[0.02167459],\n",
       "         [0.03717876],\n",
       "         [0.03450876],\n",
       "         ...,\n",
       "         [0.02586082],\n",
       "         [0.02972759],\n",
       "         [0.03126014]], shape=(9054, 1)),\n",
       "  'y_train': array([0., 0., 0., ..., 2., 2., 2.], shape=(9054,)),\n",
       "  'y_test': array([0., 0., 0., ..., 2., 2., 2.], shape=(9054,)),\n",
       "  'origin_node': 'mean_05_coherence_07_ch1_ch2'},\n",
       " 'max_06_coherence_07_ch1_ch2': {'X_train': array([[0.16848652],\n",
       "         [0.28211511],\n",
       "         [0.09678777],\n",
       "         ...,\n",
       "         [0.17198646],\n",
       "         [0.17998912],\n",
       "         [0.32963017]], shape=(9054, 1)),\n",
       "  'X_test': array([[0.11822743],\n",
       "         [0.18654429],\n",
       "         [0.27357825],\n",
       "         ...,\n",
       "         [0.1402693 ],\n",
       "         [0.16213395],\n",
       "         [0.22484404]], shape=(9054, 1)),\n",
       "  'y_train': array([0., 0., 0., ..., 2., 2., 2.], shape=(9054,)),\n",
       "  'y_test': array([0., 0., 0., ..., 2., 2., 2.], shape=(9054,)),\n",
       "  'origin_node': 'max_06_coherence_07_ch1_ch2'},\n",
       " 'crest_factor_07_ch1': {'X_train': array([[ 8.22627593],\n",
       "         [11.60209208],\n",
       "         [ 9.26458002],\n",
       "         ...,\n",
       "         [ 6.38148206],\n",
       "         [ 6.31331723],\n",
       "         [ 4.17260238]], shape=(9054, 1)),\n",
       "  'X_test': array([[ 4.25725177],\n",
       "         [ 3.98427274],\n",
       "         [ 4.48972548],\n",
       "         ...,\n",
       "         [ 7.57344547],\n",
       "         [10.38621195],\n",
       "         [ 6.57383678]], shape=(9054, 1)),\n",
       "  'y_train': array([0., 0., 0., ..., 2., 2., 2.], shape=(9054,)),\n",
       "  'y_test': array([0., 0., 0., ..., 2., 2., 2.], shape=(9054,)),\n",
       "  'origin_node': 'crest_factor_07_ch1'},\n",
       " 'shape_factor_08_ch2': {'X_train': array([[1.40132176],\n",
       "         [1.39984672],\n",
       "         [1.40229945],\n",
       "         ...,\n",
       "         [1.40018249],\n",
       "         [1.40084239],\n",
       "         [1.40082396]], shape=(9054, 1)),\n",
       "  'X_test': array([[1.39989257],\n",
       "         [1.40038066],\n",
       "         [1.40138561],\n",
       "         ...,\n",
       "         [1.3992503 ],\n",
       "         [1.3975613 ],\n",
       "         [1.39850995]], shape=(9054, 1)),\n",
       "  'y_train': array([0., 0., 0., ..., 2., 2., 2.], shape=(9054,)),\n",
       "  'y_test': array([0., 0., 0., ..., 2., 2., 2.], shape=(9054,)),\n",
       "  'origin_node': 'shape_factor_08_ch2'}}"
      ]
     },
     "execution_count": 9,
     "metadata": {},
     "output_type": "execute_result"
    }
   ],
   "source": [
    "datasets"
   ]
  },
  {
   "cell_type": "markdown",
   "id": "7b37de8a",
   "metadata": {},
   "source": [
    "## repotting"
   ]
  },
  {
   "cell_type": "code",
   "execution_count": 3,
   "id": "584107ed",
   "metadata": {},
   "outputs": [
    {
     "name": "stdout",
     "output_type": "stream",
     "text": [
      "\n",
      "Step 4: Reporting - Generating final analysis report...\n",
      "Generating final report with 23 nodes, 14 leaves, 2 similarity stats, issues: 0\n",
      "\n",
      "--- Report Agent LLM Response ---\n",
      "好的，作为一名PHM（Prognostics and Health Management）领域的报告工程师，我将根据您提供的数据和指令生成最终诊断报告。\n",
      "\n",
      "***\n",
      "\n",
      "# 轴承变转速工况故障诊断分析报告\n",
      "\n",
      "本报告旨在分析所提供的轴承振动信号，以识别潜在的健康状况和故障模式。根据用户指令，本次分析的数据集包含变转速工况下的信号，这意味着故障特征会随转速变化而改变。参考集与测试集均包含三种状态：健康（Health）、内圈故障（Inner Race Fault）和外圈故障（Outer Race Fault）。核心目标是通过将测试信号与参考集进行对比，实现对每个测试信号的精确分类。\n",
      "\n",
      "## 1. 流程概览\n",
      "\n",
      "本次诊断任务的处理流程从两个独立的输入通道（`ch1` 和 `ch2`）采集原始振动信号开始。为了从复杂的变转速信号中提取有效的故障特征，我们设计并执行了一个多层次的信号处理与特征提取流程（DAG）：\n",
      "\n",
      "- **信号预处理**:\n",
      "  - 对两个通道的原始信号 (`ch1`, `ch2`) 分别应用了 **希尔伯特包络（Hilbert Envelope）** 和 **连续小波变换（Continuous Wavelet Transform）**。希尔ber特包络主要用于解调幅值调制信息，而小波变换则非常适合分析变转速这类非平稳信号的时频特性。\n",
      "\n",
      "- **特征提取**:\n",
      "  - **时域与频域统计特征**: 直接从原始信号 `ch1` 和 `ch2` 中提取了多种统计指标，例如峰度（Kurtosis）、峭度因子（Crest Factor）、均方根（RMS）、波形因子（Shape Factor）等。\n",
      "  - **包络谱特征**: 对希尔伯特包络信号进行 **快速傅里叶变换（FFT）**，得到包络谱。并从包络谱中提取了均值（Mean）、标准差（Std）、峰度（Kurtosis）和偏度（Skew）等特征。\n",
      "  - **小波特征**: 对小波变换后的时频矩阵，我们计算了其在不同尺度（Scale）上的能量均值（Mean）和标准差（Std）。\n",
      "  - **多通道特征**: 计算了两个通道间的 **相干性（Coherence）**，并提取了其均值和最大值，以评估通道间的线性相关性。\n",
      "\n",
      "- **分类与诊断**:\n",
      "  - 所有提取出的特征被用于训练和评估一个机器学习分类模型。最终，通过一个 **集成模型（Ensemble Model）** 结合所有特征的优势，对测试信号的健康状态进行最终分类。\n",
      "\n",
      "## 2. 特征洞察\n",
      "\n",
      "本次分析未提供特征间的相似度统计数据（`similarity_stats` 为空），因此无法对特征的区分度进行直接的量化比较。然而，我们可以通过各特征在机器学习模型中的独立表现来间接评估其有效性。\n",
      "\n",
      "- **表现最优的特征**:\n",
      "  - `mean_03_wavelet_transform_03_ch1` (F1-score: 0.994): 基于 **`ch1` 小波变换的均值特征** 取得了近乎完美的分类效果。这表明小波变换成功地捕捉到了与转速变化无关的、稳定的故障模式能量分布，是本次诊断任务中最具区分度的特征。\n",
      "  - `wavelet_transform_03_ch1` (F1-score: 0.991): 完整的小波变换时频图本身也包含极高的信息量，分类准确率极高。\n",
      "  - `fft_01_hilbert_envelope_01_ch1` (F1-score: 0.967): 基于 **`ch1` 包络谱的分析** 也表现出色。这是经典的轴承故障诊断方法，通过解调发现故障引起的周期性冲击，在变转速工况下依然有效。\n",
      "\n",
      "- **表现最差的特征**:\n",
      "  - `spectral_flatness_06_ch2` (F1-score: 0.168): **`ch2` 的谱平坦度** 几乎没有提供任何有用的分类信息。\n",
      "  - 绝大多数来自 `ch2` 的特征（如 `rms_06_ch2`, `hilbert_envelope_02_ch2` 等）以及部分单值统计量（如 `crest_factor_07_ch1`）的 F1 分数均在 0.33 左右，这与三分类问题中的随机猜测水平相当。\n",
      "\n",
      "- **原因推测**:\n",
      "  - **通道 `ch1` 是关键信息源**。无论是小波分析还是包络谱分析，`ch1` 提供的信号质量远高于 `ch2`。这可能与传感器的安装位置有关，`ch1` 的位置更接近故障源，能够更清晰地捕捉到故障冲击。\n",
      "  - **`ch2` 可能存在噪声干扰或信息冗余**。`ch2` 信号的特征区分度普遍较低，表明该通道可能受到严重噪声污染，或者其测量位置无法有效反映轴承的健康状态。\n",
      "  - **高级信号处理方法的优越性**。在变转速工况下，小波变换和包络谱分析等能够处理非平稳信号的方法，显著优于传统的时域统计指标（如RMS、Kurtosis），后者因无法解耦转速变化和故障冲击而失效。\n",
      "\n",
      "## 3. 模型评估\n",
      "\n",
      "为了对轴承的健康状态进行准确分类，我们评估了基于不同特征的机器学习模型性能，并构建了一个集成模型以综合所有特征的诊断能力。详细性能指标如下表所示，其中交叉验证（CV）结果反映了模型在不同数据子集上的泛化能力。\n",
      "\n",
      "| 特征/模型 | Accuracy | F1 Score | CV Accuracy | CV F1 Score | CV Accuracy Std | CV F1 Std |\n",
      "|:---|---:|---:|---:|---:|---:|---:|\n",
      "| hilbert_envelope_01_ch1 | 0.706539 | 0.709033 | 0.758891 | 0.754649 | 0.050594 | 0.055472 |\n",
      "| hilbert_envelope_02_ch2 | 0.339629 | 0.338302 | 0.320853 | 0.319765 | 0.007129 | 0.006871 |\n",
      "| wavelet_transform_03_ch1 | 0.991385 | 0.991385 | 0.988072 | 0.988065 | 0.008678 | 0.008691 |\n",
      "| wavelet_transform_04_ch2 | 0.341507 | 0.338874 | 0.308924 | 0.304770 | 0.007241 | 0.008161 |\n",
      "| kurtosis_05_ch1 | 0.392092 | 0.391570 | 0.407334 | 0.407307 | 0.007945 | 0.008217 |\n",
      "| rms_06_ch2 | 0.339518 | 0.339495 | 0.335984 | 0.335905 | 0.007096 | 0.007089 |\n",
      "| fft_01_hilbert_envelope_01_ch1 | 0.966424 | 0.966527 | 0.978131 | 0.978082 | 0.013140 | 0.013155 |\n",
      "| fft_02_hilbert_envelope_02_ch2 | 0.341286 | 0.339787 | 0.316877 | 0.316231 | 0.005372 | 0.005857 |\n",
      "| mean_03_wavelet_transform_03_ch1 | 0.994036 | 0.994035 | 0.997460 | 0.997459 | 0.002203 | 0.002205 |\n",
      "| std_04_wavelet_transform_04_ch2 | 0.372322 | 0.371580 | 0.371880 | 0.369775 | 0.025249 | 0.024441 |\n",
      "| spectral_kurtosis_05_ch1 | 0.392092 | 0.391570 | 0.407334 | 0.407307 | 0.007945 | 0.008217 |\n",
      "| spectral_flatness_06_ch2 | 0.333444 | 0.167892 | 0.330572 | 0.166595 | 0.004159 | 0.001950 |\n",
      "| coherence_07_ch1_ch2 | 0.360062 | 0.359801 | 0.369781 | 0.369117 | 0.003902 | 0.004314 |\n",
      "| mean_01_fft_01_hilbert_envelope_01_ch1 | 0.654738 | 0.657363 | 0.678706 | 0.678195 | 0.009204 | 0.010631 |\n",
      "| kurtosis_02_fft_01_hilbert_envelope_01_ch1 | 0.586812 | 0.590621 | 0.529379 | 0.535723 | 0.059563 | 0.056071 |\n",
      "| std_03_fft_02_hilbert_envelope_02_ch2 | 0.329689 | 0.329697 | 0.326927 | 0.326968 | 0.011221 | 0.011365 |\n",
      "| skew_04_fft_02_hilbert_envelope_02_ch2 | 0.330683 | 0.330621 | 0.333554 | 0.333495 | 0.004141 | 0.004046 |\n",
      "| mean_05_coherence_07_ch1_ch2 | 0.332339 | 0.332322 | 0.334769 | 0.334596 | 0.003572 | 0.003538 |\n",
      "| max_06_coherence_07_ch1_ch2 | 0.340623 | 0.340616 | 0.333665 | 0.333521 | 0.003788 | 0.003845 |\n",
      "| crest_factor_07_ch1 | 0.352883 | 0.351947 | 0.336315 | 0.334518 | 0.021045 | 0.021810 |\n",
      "| shape_factor_08_ch2 | 0.357301 | 0.357108 | 0.375856 | 0.374888 | 0.003961 | 0.004455 |\n",
      "| **ensemble** | **0.993042** | **0.993037** | **nan** | **nan** | **nan** | **nan** |\n",
      "\n",
      "**评估摘要**:\n",
      "- **集成模型表现卓越**：最终的 **集成模型（Ensemble）** 取得了 **99.3%** 的准确率和F1分数。这一结果证明，通过整合多个维度的特征（尤其是 `ch1` 的小波和包络谱特征），模型能够非常可靠地对轴承在变转速工况下的三种状态（健康、内圈故障、外圈故障）进行区分。\n",
      "- **单特征性能差异巨大**：如前所述，不同特征的诊断能力相差悬殊。这突显了在复杂工况下选择正确信号处理方法和特征的重要性。\n",
      "\n",
      "## 4. 结论与建议\n",
      "\n",
      "**诊断结论**:\n",
      "- 本次分析所采用的诊断流程 **非常成功**。集成模型达到了 99.3% 的分类准确率，表明该方法能够有效、可靠地识别变转速工况下的轴承健康状态及内、外圈故障。\n",
      "- 诊断模型的成功主要归功于对 **`ch1` 信号的深度处理**，特别是 **小波变换** 和 **包络谱分析** 两种技术，它们是应对变转速挑战的关键。\n",
      "\n",
      "**维护建议**:\n",
      "1.  **部署诊断模型**：鉴于集成模型的高精度和高可靠性，建议将此分析流程和模型部署到实际的设备健康监测系统中，用于在线、自动化的故障预警和诊断。\n",
      "2.  **审查 `ch2` 传感器**：通道 `ch2` 及其衍生特征在本轮分析中几乎未提供有效信息。建议对 `ch2` 对应的传感器进行检查，包括其 **物理安装位置、连接线路和自身健康状况**，以确认其是否工作正常或安装位置是否合理。若确认无效，可在未来监测中考虑将其移除，以降低数据采集和计算成本。\n",
      "3.  **优化特征集**：为提高计算效率，未来可考虑精简特征集，仅保留 `wavelet_transform_03_ch1`, `fft_01_hilbert_envelope_01_ch1` 等少数几个表现最优的特征进行建模。这可以在基本不损失精度的情况下，大幅减少计算负担。\n",
      "\n",
      "## 5. Code 代码部分\n",
      "\n",
      "在数据处理流程（DAG）中，小波变换（`wavelet_transform`）等计算密集型算子是潜在的性能瓶颈。以下代码片段展示了如何通过并行化处理来优化该算子，以提高大规模数据集分析的效率。\n",
      "\n",
      "这里我们使用 `joblib` 库对多个信号的连续小波变换（CWT）进行并行计算。\n",
      "\n",
      "```python\n",
      "import numpy as np\n",
      "import pywt\n",
      "from joblib import Parallel, delayed\n",
      "\n",
      "def compute_cwt(signal, scales, wavelet_name):\n",
      "    \"\"\"\n",
      "    计算单个信号的连续小波变换。\n",
      "\n",
      "    Args:\n",
      "        signal (np.ndarray): 一维输入信号。\n",
      "        scales (np.ndarray): 小波变换的尺度数组。\n",
      "        wavelet_name (str): 小波函数名称, e.g., 'morl'。\n",
      "\n",
      "    Returns:\n",
      "        np.ndarray: CWT系数矩阵。\n",
      "    \"\"\"\n",
      "    # 确保信号是一维的\n",
      "    if signal.ndim > 1:\n",
      "        signal = signal.flatten()\n",
      "        \n",
      "    coefficients, _ = pywt.cwt(signal, scales, wavelet_name)\n",
      "    return coefficients\n",
      "\n",
      "def optimized_wavelet_transform_on_batch(signals_batch, scales, wavelet_name='morl', n_jobs=-1):\n",
      "    \"\"\"\n",
      "    使用并行计算优化对一批信号的小波变换处理。\n",
      "\n",
      "    Args:\n",
      "        signals_batch (list of np.ndarray or np.ndarray): 包含多个信号的列表或二维数组。\n",
      "        scales (np.ndarray): 小波变换的尺度数组。\n",
      "        wavelet_name (str): 小波函数名称。\n",
      "        n_jobs (int): 并行处理使用的CPU核心数。-1表示使用所有可用核心。\n",
      "\n",
      "    Returns:\n",
      "        list of np.ndarray: 每个信号对应的CWT系数矩阵列表。\n",
      "    \"\"\"\n",
      "    # 使用joblib的Parallel和delayed函数实现并行化\n",
      "    # delayed(compute_cwt) 创建一个函数的“延迟”版本\n",
      "    # Parallel(...) 会在多个CPU核心上并行执行这些延迟的函数调用\n",
      "    cwt_results = Parallel(n_jobs=n_jobs)(\n",
      "        delayed(compute_cwt)(signal, scales, wavelet_name) for signal in signals_batch\n",
      "    )\n",
      "    \n",
      "    return cwt_results\n",
      "\n",
      "# --- 示例 ---\n",
      "# 假设我们有一批信号数据 (例如，100个信号，每个信号长度为4096)\n",
      "# signals_to_process = np.random.rand(100, 4096) \n",
      "# scales_to_use = np.arange(1, 129)\n",
      "\n",
      "# # 调用优化后的函数\n",
      "# # cwt_matrices = optimized_wavelet_transform_on_batch(signals_to_process, scales_to_use)\n",
      "\n",
      "# print(\"通过并行化，小波变换算子的计算效率得到显著提升，特别是在处理大量信号时。\")\n",
      "\n",
      "```\n",
      "**优化说明**：上述代码通过 `joblib.Parallel` 将原本需要串行循环处理的多个信号的小波变换任务，分配到多个CPU核心上并行执行。这种方式可以成倍缩短处理时间，尤其适用于包含大量测试样本的诊断场景，是提升整个DAG执行效率的有效手段。\n",
      "--------------------------------\n",
      "\n",
      "Output: Updated state with the final report.\n"
     ]
    },
    {
     "name": "stderr",
     "output_type": "stream",
     "text": [
      "/tmp/ipykernel_663415/1608283778.py:4: PydanticDeprecatedSince20: The `copy` method is deprecated; use `model_copy` instead. See the docstring of `BaseModel.copy` for details about how to handle `include` and `exclude`. Deprecated in Pydantic V2.0 to be removed in V3.0. See Pydantic V2 Migration Guide at https://errors.pydantic.dev/2.11/migration/\n",
      "  state = state.copy(update=report_updates)\n"
     ]
    }
   ],
   "source": [
    "# 4. Report Agent: Generate the final report\n",
    "print(\"\\nStep 4: Reporting - Generating final analysis report...\")\n",
    "report_updates = report_agent_node(state)\n",
    "state = state.copy(update=report_updates)\n",
    "print(\"Output: Updated state with the final report.\")"
   ]
  },
  {
   "cell_type": "code",
   "execution_count": null,
   "id": "87366921",
   "metadata": {},
   "outputs": [],
   "source": []
  },
  {
   "cell_type": "code",
   "execution_count": 6,
   "id": "f03a56f8",
   "metadata": {},
   "outputs": [
    {
     "name": "stdout",
     "output_type": "stream",
     "text": [
      "\n",
      "--- Workflow Finished ---\n",
      "\n",
      "Final Report:\n",
      "好的，作为一名PHM（Prognostics and Health Management）领域的报告工程师，我将根据您提供的数据和指令生成最终诊断报告。\n",
      "\n",
      "***\n",
      "\n",
      "# 轴承变转速工况故障诊断分析报告\n",
      "\n",
      "本报告旨在分析所提供的轴承振动信号，以识别潜在的健康状况和故障模式。根据用户指令，本次分析的数据集包含变转速工况下的信号，这意味着故障特征会随转速变化而改变。参考集与测试集均包含三种状态：健康（Health）、内圈故障（Inner Race Fault）和外圈故障（Outer Race Fault）。核心目标是通过将测试信号与参考集进行对比，实现对每个测试信号的精确分类。\n",
      "\n",
      "## 1. 流程概览\n",
      "\n",
      "本次诊断任务的处理流程从两个独立的输入通道（`ch1` 和 `ch2`）采集原始振动信号开始。为了从复杂的变转速信号中提取有效的故障特征，我们设计并执行了一个多层次的信号处理与特征提取流程（DAG）：\n",
      "\n",
      "- **信号预处理**:\n",
      "  - 对两个通道的原始信号 (`ch1`, `ch2`) 分别应用了 **希尔伯特包络（Hilbert Envelope）** 和 **连续小波变换（Continuous Wavelet Transform）**。希尔ber特包络主要用于解调幅值调制信息，而小波变换则非常适合分析变转速这类非平稳信号的时频特性。\n",
      "\n",
      "- **特征提取**:\n",
      "  - **时域与频域统计特征**: 直接从原始信号 `ch1` 和 `ch2` 中提取了多种统计指标，例如峰度（Kurtosis）、峭度因子（Crest Factor）、均方根（RMS）、波形因子（Shape Factor）等。\n",
      "  - **包络谱特征**: 对希尔伯特包络信号进行 **快速傅里叶变换（FFT）**，得到包络谱。并从包络谱中提取了均值（Mean）、标准差（Std）、峰度（Kurtosis）和偏度（Skew）等特征。\n",
      "  - **小波特征**: 对小波变换后的时频矩阵，我们计算了其在不同尺度（Scale）上的能量均值（Mean）和标准差（Std）。\n",
      "  - **多通道特征**: 计算了两个通道间的 **相干性（Coherence）**，并提取了其均值和最大值，以评估通道间的线性相关性。\n",
      "\n",
      "- **分类与诊断**:\n",
      "  - 所有提取出的特征被用于训练和评估一个机器学习分类模型。最终，通过一个 **集成模型（Ensemble Model）** 结合所有特征的优势，对测试信号的健康状态进行最终分类。\n",
      "\n",
      "## 2. 特征洞察\n",
      "\n",
      "本次分析未提供特征间的相似度统计数据（`similarity_stats` 为空），因此无法对特征的区分度进行直接的量化比较。然而，我们可以通过各特征在机器学习模型中的独立表现来间接评估其有效性。\n",
      "\n",
      "- **表现最优的特征**:\n",
      "  - `mean_03_wavelet_transform_03_ch1` (F1-score: 0.994): 基于 **`ch1` 小波变换的均值特征** 取得了近乎完美的分类效果。这表明小波变换成功地捕捉到了与转速变化无关的、稳定的故障模式能量分布，是本次诊断任务中最具区分度的特征。\n",
      "  - `wavelet_transform_03_ch1` (F1-score: 0.991): 完整的小波变换时频图本身也包含极高的信息量，分类准确率极高。\n",
      "  - `fft_01_hilbert_envelope_01_ch1` (F1-score: 0.967): 基于 **`ch1` 包络谱的分析** 也表现出色。这是经典的轴承故障诊断方法，通过解调发现故障引起的周期性冲击，在变转速工况下依然有效。\n",
      "\n",
      "- **表现最差的特征**:\n",
      "  - `spectral_flatness_06_ch2` (F1-score: 0.168): **`ch2` 的谱平坦度** 几乎没有提供任何有用的分类信息。\n",
      "  - 绝大多数来自 `ch2` 的特征（如 `rms_06_ch2`, `hilbert_envelope_02_ch2` 等）以及部分单值统计量（如 `crest_factor_07_ch1`）的 F1 分数均在 0.33 左右，这与三分类问题中的随机猜测水平相当。\n",
      "\n",
      "- **原因推测**:\n",
      "  - **通道 `ch1` 是关键信息源**。无论是小波分析还是包络谱分析，`ch1` 提供的信号质量远高于 `ch2`。这可能与传感器的安装位置有关，`ch1` 的位置更接近故障源，能够更清晰地捕捉到故障冲击。\n",
      "  - **`ch2` 可能存在噪声干扰或信息冗余**。`ch2` 信号的特征区分度普遍较低，表明该通道可能受到严重噪声污染，或者其测量位置无法有效反映轴承的健康状态。\n",
      "  - **高级信号处理方法的优越性**。在变转速工况下，小波变换和包络谱分析等能够处理非平稳信号的方法，显著优于传统的时域统计指标（如RMS、Kurtosis），后者因无法解耦转速变化和故障冲击而失效。\n",
      "\n",
      "## 3. 模型评估\n",
      "\n",
      "为了对轴承的健康状态进行准确分类，我们评估了基于不同特征的机器学习模型性能，并构建了一个集成模型以综合所有特征的诊断能力。详细性能指标如下表所示，其中交叉验证（CV）结果反映了模型在不同数据子集上的泛化能力。\n",
      "\n",
      "| 特征/模型 | Accuracy | F1 Score | CV Accuracy | CV F1 Score | CV Accuracy Std | CV F1 Std |\n",
      "|:---|---:|---:|---:|---:|---:|---:|\n",
      "| hilbert_envelope_01_ch1 | 0.706539 | 0.709033 | 0.758891 | 0.754649 | 0.050594 | 0.055472 |\n",
      "| hilbert_envelope_02_ch2 | 0.339629 | 0.338302 | 0.320853 | 0.319765 | 0.007129 | 0.006871 |\n",
      "| wavelet_transform_03_ch1 | 0.991385 | 0.991385 | 0.988072 | 0.988065 | 0.008678 | 0.008691 |\n",
      "| wavelet_transform_04_ch2 | 0.341507 | 0.338874 | 0.308924 | 0.304770 | 0.007241 | 0.008161 |\n",
      "| kurtosis_05_ch1 | 0.392092 | 0.391570 | 0.407334 | 0.407307 | 0.007945 | 0.008217 |\n",
      "| rms_06_ch2 | 0.339518 | 0.339495 | 0.335984 | 0.335905 | 0.007096 | 0.007089 |\n",
      "| fft_01_hilbert_envelope_01_ch1 | 0.966424 | 0.966527 | 0.978131 | 0.978082 | 0.013140 | 0.013155 |\n",
      "| fft_02_hilbert_envelope_02_ch2 | 0.341286 | 0.339787 | 0.316877 | 0.316231 | 0.005372 | 0.005857 |\n",
      "| mean_03_wavelet_transform_03_ch1 | 0.994036 | 0.994035 | 0.997460 | 0.997459 | 0.002203 | 0.002205 |\n",
      "| std_04_wavelet_transform_04_ch2 | 0.372322 | 0.371580 | 0.371880 | 0.369775 | 0.025249 | 0.024441 |\n",
      "| spectral_kurtosis_05_ch1 | 0.392092 | 0.391570 | 0.407334 | 0.407307 | 0.007945 | 0.008217 |\n",
      "| spectral_flatness_06_ch2 | 0.333444 | 0.167892 | 0.330572 | 0.166595 | 0.004159 | 0.001950 |\n",
      "| coherence_07_ch1_ch2 | 0.360062 | 0.359801 | 0.369781 | 0.369117 | 0.003902 | 0.004314 |\n",
      "| mean_01_fft_01_hilbert_envelope_01_ch1 | 0.654738 | 0.657363 | 0.678706 | 0.678195 | 0.009204 | 0.010631 |\n",
      "| kurtosis_02_fft_01_hilbert_envelope_01_ch1 | 0.586812 | 0.590621 | 0.529379 | 0.535723 | 0.059563 | 0.056071 |\n",
      "| std_03_fft_02_hilbert_envelope_02_ch2 | 0.329689 | 0.329697 | 0.326927 | 0.326968 | 0.011221 | 0.011365 |\n",
      "| skew_04_fft_02_hilbert_envelope_02_ch2 | 0.330683 | 0.330621 | 0.333554 | 0.333495 | 0.004141 | 0.004046 |\n",
      "| mean_05_coherence_07_ch1_ch2 | 0.332339 | 0.332322 | 0.334769 | 0.334596 | 0.003572 | 0.003538 |\n",
      "| max_06_coherence_07_ch1_ch2 | 0.340623 | 0.340616 | 0.333665 | 0.333521 | 0.003788 | 0.003845 |\n",
      "| crest_factor_07_ch1 | 0.352883 | 0.351947 | 0.336315 | 0.334518 | 0.021045 | 0.021810 |\n",
      "| shape_factor_08_ch2 | 0.357301 | 0.357108 | 0.375856 | 0.374888 | 0.003961 | 0.004455 |\n",
      "| **ensemble** | **0.993042** | **0.993037** | **nan** | **nan** | **nan** | **nan** |\n",
      "\n",
      "**评估摘要**:\n",
      "- **集成模型表现卓越**：最终的 **集成模型（Ensemble）** 取得了 **99.3%** 的准确率和F1分数。这一结果证明，通过整合多个维度的特征（尤其是 `ch1` 的小波和包络谱特征），模型能够非常可靠地对轴承在变转速工况下的三种状态（健康、内圈故障、外圈故障）进行区分。\n",
      "- **单特征性能差异巨大**：如前所述，不同特征的诊断能力相差悬殊。这突显了在复杂工况下选择正确信号处理方法和特征的重要性。\n",
      "\n",
      "## 4. 结论与建议\n",
      "\n",
      "**诊断结论**:\n",
      "- 本次分析所采用的诊断流程 **非常成功**。集成模型达到了 99.3% 的分类准确率，表明该方法能够有效、可靠地识别变转速工况下的轴承健康状态及内、外圈故障。\n",
      "- 诊断模型的成功主要归功于对 **`ch1` 信号的深度处理**，特别是 **小波变换** 和 **包络谱分析** 两种技术，它们是应对变转速挑战的关键。\n",
      "\n",
      "**维护建议**:\n",
      "1.  **部署诊断模型**：鉴于集成模型的高精度和高可靠性，建议将此分析流程和模型部署到实际的设备健康监测系统中，用于在线、自动化的故障预警和诊断。\n",
      "2.  **审查 `ch2` 传感器**：通道 `ch2` 及其衍生特征在本轮分析中几乎未提供有效信息。建议对 `ch2` 对应的传感器进行检查，包括其 **物理安装位置、连接线路和自身健康状况**，以确认其是否工作正常或安装位置是否合理。若确认无效，可在未来监测中考虑将其移除，以降低数据采集和计算成本。\n",
      "3.  **优化特征集**：为提高计算效率，未来可考虑精简特征集，仅保留 `wavelet_transform_03_ch1`, `fft_01_hilbert_envelope_01_ch1` 等少数几个表现最优的特征进行建模。这可以在基本不损失精度的情况下，大幅减少计算负担。\n",
      "\n",
      "## 5. Code 代码部分\n",
      "\n",
      "在数据处理流程（DAG）中，小波变换（`wavelet_transform`）等计算密集型算子是潜在的性能瓶颈。以下代码片段展示了如何通过并行化处理来优化该算子，以提高大规模数据集分析的效率。\n",
      "\n",
      "这里我们使用 `joblib` 库对多个信号的连续小波变换（CWT）进行并行计算。\n",
      "\n",
      "```python\n",
      "import numpy as np\n",
      "import pywt\n",
      "from joblib import Parallel, delayed\n",
      "\n",
      "def compute_cwt(signal, scales, wavelet_name):\n",
      "    \"\"\"\n",
      "    计算单个信号的连续小波变换。\n",
      "\n",
      "    Args:\n",
      "        signal (np.ndarray): 一维输入信号。\n",
      "        scales (np.ndarray): 小波变换的尺度数组。\n",
      "        wavelet_name (str): 小波函数名称, e.g., 'morl'。\n",
      "\n",
      "    Returns:\n",
      "        np.ndarray: CWT系数矩阵。\n",
      "    \"\"\"\n",
      "    # 确保信号是一维的\n",
      "    if signal.ndim > 1:\n",
      "        signal = signal.flatten()\n",
      "        \n",
      "    coefficients, _ = pywt.cwt(signal, scales, wavelet_name)\n",
      "    return coefficients\n",
      "\n",
      "def optimized_wavelet_transform_on_batch(signals_batch, scales, wavelet_name='morl', n_jobs=-1):\n",
      "    \"\"\"\n",
      "    使用并行计算优化对一批信号的小波变换处理。\n",
      "\n",
      "    Args:\n",
      "        signals_batch (list of np.ndarray or np.ndarray): 包含多个信号的列表或二维数组。\n",
      "        scales (np.ndarray): 小波变换的尺度数组。\n",
      "        wavelet_name (str): 小波函数名称。\n",
      "        n_jobs (int): 并行处理使用的CPU核心数。-1表示使用所有可用核心。\n",
      "\n",
      "    Returns:\n",
      "        list of np.ndarray: 每个信号对应的CWT系数矩阵列表。\n",
      "    \"\"\"\n",
      "    # 使用joblib的Parallel和delayed函数实现并行化\n",
      "    # delayed(compute_cwt) 创建一个函数的“延迟”版本\n",
      "    # Parallel(...) 会在多个CPU核心上并行执行这些延迟的函数调用\n",
      "    cwt_results = Parallel(n_jobs=n_jobs)(\n",
      "        delayed(compute_cwt)(signal, scales, wavelet_name) for signal in signals_batch\n",
      "    )\n",
      "    \n",
      "    return cwt_results\n",
      "\n",
      "# --- 示例 ---\n",
      "# 假设我们有一批信号数据 (例如，100个信号，每个信号长度为4096)\n",
      "# signals_to_process = np.random.rand(100, 4096) \n",
      "# scales_to_use = np.arange(1, 129)\n",
      "\n",
      "# # 调用优化后的函数\n",
      "# # cwt_matrices = optimized_wavelet_transform_on_batch(signals_to_process, scales_to_use)\n",
      "\n",
      "# print(\"通过并行化，小波变换算子的计算效率得到显著提升，特别是在处理大量信号时。\")\n",
      "\n",
      "```\n",
      "**优化说明**：上述代码通过 `joblib.Parallel` 将原本需要串行循环处理的多个信号的小波变换任务，分配到多个CPU核心上并行执行。这种方式可以成倍缩短处理时间，尤其适用于包含大量测试样本的诊断场景，是提升整个DAG执行效率的有效手段。\n",
      "Report saved to /mnt/crucial/LQ/save/cache/final_report.md\n",
      "\n",
      "Final Report:\n",
      "None\n"
     ]
    }
   ],
   "source": [
    "from src.utils import generate_final_report\n",
    "report = generate_final_report(state,'/mnt/crucial/LQ/save/cache/final_report.md')\n",
    "print(\"\\nFinal Report:\")\n",
    "print(report)"
   ]
  },
  {
   "cell_type": "markdown",
   "id": "ec5f42b7",
   "metadata": {},
   "source": [
    "## plot"
   ]
  },
  {
   "cell_type": "code",
   "execution_count": 13,
   "id": "7d68fa10",
   "metadata": {},
   "outputs": [
    {
     "name": "stdout",
     "output_type": "stream",
     "text": [
      "--- Generating UMAP visualizations for 21 datasets ---\n",
      "Processing: hilbert_envelope_01_ch1\n",
      "  Subsampling data from 9054 to max 1000 per class.\n"
     ]
    },
    {
     "name": "stderr",
     "output_type": "stream",
     "text": [
      "/home/lq/LQcode/2_project/PHMBench/PHMGA/src/utils/visualization.py:23: FutureWarning: DataFrameGroupBy.apply operated on the grouping columns. This behavior is deprecated, and in a future version of pandas the grouping columns will be excluded from the operation. Either pass `include_groups=False` to exclude the groupings or explicitly select the grouping columns after groupby to silence this warning.\n",
      "  sampled_df = df.groupby('label').apply(\n"
     ]
    },
    {
     "name": "stdout",
     "output_type": "stream",
     "text": [
      "  New sample size: 3000\n",
      "  Saved visualization to /home/lq/LQcode/2_project/PHMBench/PHMGA/save/exp2.5ottawa/hilbert_envelope_01_ch1_umap.png\n",
      "Processing: hilbert_envelope_02_ch2\n",
      "  Subsampling data from 9054 to max 1000 per class.\n"
     ]
    },
    {
     "name": "stderr",
     "output_type": "stream",
     "text": [
      "/home/lq/LQcode/2_project/PHMBench/PHMGA/src/utils/visualization.py:23: FutureWarning: DataFrameGroupBy.apply operated on the grouping columns. This behavior is deprecated, and in a future version of pandas the grouping columns will be excluded from the operation. Either pass `include_groups=False` to exclude the groupings or explicitly select the grouping columns after groupby to silence this warning.\n",
      "  sampled_df = df.groupby('label').apply(\n"
     ]
    },
    {
     "name": "stdout",
     "output_type": "stream",
     "text": [
      "  New sample size: 3000\n",
      "  Saved visualization to /home/lq/LQcode/2_project/PHMBench/PHMGA/save/exp2.5ottawa/hilbert_envelope_02_ch2_umap.png\n",
      "Processing: wavelet_transform_03_ch1\n",
      "  Subsampling data from 9054 to max 1000 per class.\n"
     ]
    },
    {
     "name": "stderr",
     "output_type": "stream",
     "text": [
      "/home/lq/LQcode/2_project/PHMBench/PHMGA/src/utils/visualization.py:23: FutureWarning: DataFrameGroupBy.apply operated on the grouping columns. This behavior is deprecated, and in a future version of pandas the grouping columns will be excluded from the operation. Either pass `include_groups=False` to exclude the groupings or explicitly select the grouping columns after groupby to silence this warning.\n",
      "  sampled_df = df.groupby('label').apply(\n"
     ]
    },
    {
     "name": "stdout",
     "output_type": "stream",
     "text": [
      "  New sample size: 3000\n",
      "  Saved visualization to /home/lq/LQcode/2_project/PHMBench/PHMGA/save/exp2.5ottawa/wavelet_transform_03_ch1_umap.png\n",
      "Processing: wavelet_transform_04_ch2\n",
      "  Subsampling data from 9054 to max 1000 per class.\n"
     ]
    },
    {
     "name": "stderr",
     "output_type": "stream",
     "text": [
      "/home/lq/LQcode/2_project/PHMBench/PHMGA/src/utils/visualization.py:23: FutureWarning: DataFrameGroupBy.apply operated on the grouping columns. This behavior is deprecated, and in a future version of pandas the grouping columns will be excluded from the operation. Either pass `include_groups=False` to exclude the groupings or explicitly select the grouping columns after groupby to silence this warning.\n",
      "  sampled_df = df.groupby('label').apply(\n"
     ]
    },
    {
     "name": "stdout",
     "output_type": "stream",
     "text": [
      "  New sample size: 3000\n",
      "  Saved visualization to /home/lq/LQcode/2_project/PHMBench/PHMGA/save/exp2.5ottawa/wavelet_transform_04_ch2_umap.png\n",
      "Processing: kurtosis_05_ch1\n",
      "  Subsampling data from 9054 to max 1000 per class.\n",
      "  New sample size: 3000\n"
     ]
    },
    {
     "name": "stderr",
     "output_type": "stream",
     "text": [
      "/home/lq/LQcode/2_project/PHMBench/PHMGA/src/utils/visualization.py:23: FutureWarning: DataFrameGroupBy.apply operated on the grouping columns. This behavior is deprecated, and in a future version of pandas the grouping columns will be excluded from the operation. Either pass `include_groups=False` to exclude the groupings or explicitly select the grouping columns after groupby to silence this warning.\n",
      "  sampled_df = df.groupby('label').apply(\n"
     ]
    },
    {
     "name": "stdout",
     "output_type": "stream",
     "text": [
      "  Saved visualization to /home/lq/LQcode/2_project/PHMBench/PHMGA/save/exp2.5ottawa/kurtosis_05_ch1_umap.png\n",
      "Processing: rms_06_ch2\n",
      "  Subsampling data from 9054 to max 1000 per class.\n",
      "  New sample size: 3000\n"
     ]
    },
    {
     "name": "stderr",
     "output_type": "stream",
     "text": [
      "/home/lq/LQcode/2_project/PHMBench/PHMGA/src/utils/visualization.py:23: FutureWarning: DataFrameGroupBy.apply operated on the grouping columns. This behavior is deprecated, and in a future version of pandas the grouping columns will be excluded from the operation. Either pass `include_groups=False` to exclude the groupings or explicitly select the grouping columns after groupby to silence this warning.\n",
      "  sampled_df = df.groupby('label').apply(\n"
     ]
    },
    {
     "name": "stdout",
     "output_type": "stream",
     "text": [
      "  Saved visualization to /home/lq/LQcode/2_project/PHMBench/PHMGA/save/exp2.5ottawa/rms_06_ch2_umap.png\n",
      "Processing: fft_01_hilbert_envelope_01_ch1\n",
      "  Subsampling data from 9054 to max 1000 per class.\n",
      "  New sample size: 3000\n"
     ]
    },
    {
     "name": "stderr",
     "output_type": "stream",
     "text": [
      "/home/lq/LQcode/2_project/PHMBench/PHMGA/src/utils/visualization.py:23: FutureWarning: DataFrameGroupBy.apply operated on the grouping columns. This behavior is deprecated, and in a future version of pandas the grouping columns will be excluded from the operation. Either pass `include_groups=False` to exclude the groupings or explicitly select the grouping columns after groupby to silence this warning.\n",
      "  sampled_df = df.groupby('label').apply(\n"
     ]
    },
    {
     "name": "stdout",
     "output_type": "stream",
     "text": [
      "  Saved visualization to /home/lq/LQcode/2_project/PHMBench/PHMGA/save/exp2.5ottawa/fft_01_hilbert_envelope_01_ch1_umap.png\n",
      "Processing: fft_02_hilbert_envelope_02_ch2\n",
      "  Subsampling data from 9054 to max 1000 per class.\n",
      "  New sample size: 3000\n"
     ]
    },
    {
     "name": "stderr",
     "output_type": "stream",
     "text": [
      "/home/lq/LQcode/2_project/PHMBench/PHMGA/src/utils/visualization.py:23: FutureWarning: DataFrameGroupBy.apply operated on the grouping columns. This behavior is deprecated, and in a future version of pandas the grouping columns will be excluded from the operation. Either pass `include_groups=False` to exclude the groupings or explicitly select the grouping columns after groupby to silence this warning.\n",
      "  sampled_df = df.groupby('label').apply(\n"
     ]
    },
    {
     "name": "stdout",
     "output_type": "stream",
     "text": [
      "  Saved visualization to /home/lq/LQcode/2_project/PHMBench/PHMGA/save/exp2.5ottawa/fft_02_hilbert_envelope_02_ch2_umap.png\n",
      "Processing: mean_03_wavelet_transform_03_ch1\n",
      "  Subsampling data from 9054 to max 1000 per class.\n",
      "  New sample size: 3000\n"
     ]
    },
    {
     "name": "stderr",
     "output_type": "stream",
     "text": [
      "/home/lq/LQcode/2_project/PHMBench/PHMGA/src/utils/visualization.py:23: FutureWarning: DataFrameGroupBy.apply operated on the grouping columns. This behavior is deprecated, and in a future version of pandas the grouping columns will be excluded from the operation. Either pass `include_groups=False` to exclude the groupings or explicitly select the grouping columns after groupby to silence this warning.\n",
      "  sampled_df = df.groupby('label').apply(\n"
     ]
    },
    {
     "name": "stdout",
     "output_type": "stream",
     "text": [
      "  Saved visualization to /home/lq/LQcode/2_project/PHMBench/PHMGA/save/exp2.5ottawa/mean_03_wavelet_transform_03_ch1_umap.png\n",
      "Processing: std_04_wavelet_transform_04_ch2\n",
      "  Subsampling data from 9054 to max 1000 per class.\n",
      "  New sample size: 3000\n"
     ]
    },
    {
     "name": "stderr",
     "output_type": "stream",
     "text": [
      "/home/lq/LQcode/2_project/PHMBench/PHMGA/src/utils/visualization.py:23: FutureWarning: DataFrameGroupBy.apply operated on the grouping columns. This behavior is deprecated, and in a future version of pandas the grouping columns will be excluded from the operation. Either pass `include_groups=False` to exclude the groupings or explicitly select the grouping columns after groupby to silence this warning.\n",
      "  sampled_df = df.groupby('label').apply(\n"
     ]
    },
    {
     "name": "stdout",
     "output_type": "stream",
     "text": [
      "  Saved visualization to /home/lq/LQcode/2_project/PHMBench/PHMGA/save/exp2.5ottawa/std_04_wavelet_transform_04_ch2_umap.png\n",
      "Processing: spectral_kurtosis_05_ch1\n",
      "  Subsampling data from 9054 to max 1000 per class.\n",
      "  New sample size: 3000\n"
     ]
    },
    {
     "name": "stderr",
     "output_type": "stream",
     "text": [
      "/home/lq/LQcode/2_project/PHMBench/PHMGA/src/utils/visualization.py:23: FutureWarning: DataFrameGroupBy.apply operated on the grouping columns. This behavior is deprecated, and in a future version of pandas the grouping columns will be excluded from the operation. Either pass `include_groups=False` to exclude the groupings or explicitly select the grouping columns after groupby to silence this warning.\n",
      "  sampled_df = df.groupby('label').apply(\n"
     ]
    },
    {
     "name": "stdout",
     "output_type": "stream",
     "text": [
      "  Saved visualization to /home/lq/LQcode/2_project/PHMBench/PHMGA/save/exp2.5ottawa/spectral_kurtosis_05_ch1_umap.png\n",
      "Processing: spectral_flatness_06_ch2\n",
      "  Skipping spectral_flatness_06_ch2: Data contains NaN values.\n",
      "Processing: coherence_07_ch1_ch2\n",
      "  Subsampling data from 9054 to max 1000 per class.\n",
      "  New sample size: 3000\n"
     ]
    },
    {
     "name": "stderr",
     "output_type": "stream",
     "text": [
      "/home/lq/LQcode/2_project/PHMBench/PHMGA/src/utils/visualization.py:23: FutureWarning: DataFrameGroupBy.apply operated on the grouping columns. This behavior is deprecated, and in a future version of pandas the grouping columns will be excluded from the operation. Either pass `include_groups=False` to exclude the groupings or explicitly select the grouping columns after groupby to silence this warning.\n",
      "  sampled_df = df.groupby('label').apply(\n"
     ]
    },
    {
     "name": "stdout",
     "output_type": "stream",
     "text": [
      "  Saved visualization to /home/lq/LQcode/2_project/PHMBench/PHMGA/save/exp2.5ottawa/coherence_07_ch1_ch2_umap.png\n",
      "Processing: mean_01_fft_01_hilbert_envelope_01_ch1\n",
      "  Subsampling data from 9054 to max 1000 per class.\n",
      "  New sample size: 3000\n"
     ]
    },
    {
     "name": "stderr",
     "output_type": "stream",
     "text": [
      "/home/lq/LQcode/2_project/PHMBench/PHMGA/src/utils/visualization.py:23: FutureWarning: DataFrameGroupBy.apply operated on the grouping columns. This behavior is deprecated, and in a future version of pandas the grouping columns will be excluded from the operation. Either pass `include_groups=False` to exclude the groupings or explicitly select the grouping columns after groupby to silence this warning.\n",
      "  sampled_df = df.groupby('label').apply(\n"
     ]
    },
    {
     "name": "stdout",
     "output_type": "stream",
     "text": [
      "  Saved visualization to /home/lq/LQcode/2_project/PHMBench/PHMGA/save/exp2.5ottawa/mean_01_fft_01_hilbert_envelope_01_ch1_umap.png\n",
      "Processing: kurtosis_02_fft_01_hilbert_envelope_01_ch1\n",
      "  Subsampling data from 9054 to max 1000 per class.\n",
      "  New sample size: 3000\n"
     ]
    },
    {
     "name": "stderr",
     "output_type": "stream",
     "text": [
      "/home/lq/LQcode/2_project/PHMBench/PHMGA/src/utils/visualization.py:23: FutureWarning: DataFrameGroupBy.apply operated on the grouping columns. This behavior is deprecated, and in a future version of pandas the grouping columns will be excluded from the operation. Either pass `include_groups=False` to exclude the groupings or explicitly select the grouping columns after groupby to silence this warning.\n",
      "  sampled_df = df.groupby('label').apply(\n"
     ]
    },
    {
     "name": "stdout",
     "output_type": "stream",
     "text": [
      "  Saved visualization to /home/lq/LQcode/2_project/PHMBench/PHMGA/save/exp2.5ottawa/kurtosis_02_fft_01_hilbert_envelope_01_ch1_umap.png\n",
      "Processing: std_03_fft_02_hilbert_envelope_02_ch2\n",
      "  Subsampling data from 9054 to max 1000 per class.\n",
      "  New sample size: 3000\n"
     ]
    },
    {
     "name": "stderr",
     "output_type": "stream",
     "text": [
      "/home/lq/LQcode/2_project/PHMBench/PHMGA/src/utils/visualization.py:23: FutureWarning: DataFrameGroupBy.apply operated on the grouping columns. This behavior is deprecated, and in a future version of pandas the grouping columns will be excluded from the operation. Either pass `include_groups=False` to exclude the groupings or explicitly select the grouping columns after groupby to silence this warning.\n",
      "  sampled_df = df.groupby('label').apply(\n"
     ]
    },
    {
     "name": "stdout",
     "output_type": "stream",
     "text": [
      "  Saved visualization to /home/lq/LQcode/2_project/PHMBench/PHMGA/save/exp2.5ottawa/std_03_fft_02_hilbert_envelope_02_ch2_umap.png\n",
      "Processing: skew_04_fft_02_hilbert_envelope_02_ch2\n",
      "  Subsampling data from 9054 to max 1000 per class.\n",
      "  New sample size: 3000\n"
     ]
    },
    {
     "name": "stderr",
     "output_type": "stream",
     "text": [
      "/home/lq/LQcode/2_project/PHMBench/PHMGA/src/utils/visualization.py:23: FutureWarning: DataFrameGroupBy.apply operated on the grouping columns. This behavior is deprecated, and in a future version of pandas the grouping columns will be excluded from the operation. Either pass `include_groups=False` to exclude the groupings or explicitly select the grouping columns after groupby to silence this warning.\n",
      "  sampled_df = df.groupby('label').apply(\n"
     ]
    },
    {
     "name": "stdout",
     "output_type": "stream",
     "text": [
      "  Saved visualization to /home/lq/LQcode/2_project/PHMBench/PHMGA/save/exp2.5ottawa/skew_04_fft_02_hilbert_envelope_02_ch2_umap.png\n",
      "Processing: mean_05_coherence_07_ch1_ch2\n",
      "  Subsampling data from 9054 to max 1000 per class.\n",
      "  New sample size: 3000\n"
     ]
    },
    {
     "name": "stderr",
     "output_type": "stream",
     "text": [
      "/home/lq/LQcode/2_project/PHMBench/PHMGA/src/utils/visualization.py:23: FutureWarning: DataFrameGroupBy.apply operated on the grouping columns. This behavior is deprecated, and in a future version of pandas the grouping columns will be excluded from the operation. Either pass `include_groups=False` to exclude the groupings or explicitly select the grouping columns after groupby to silence this warning.\n",
      "  sampled_df = df.groupby('label').apply(\n"
     ]
    },
    {
     "name": "stdout",
     "output_type": "stream",
     "text": [
      "  Saved visualization to /home/lq/LQcode/2_project/PHMBench/PHMGA/save/exp2.5ottawa/mean_05_coherence_07_ch1_ch2_umap.png\n",
      "Processing: max_06_coherence_07_ch1_ch2\n",
      "  Subsampling data from 9054 to max 1000 per class.\n",
      "  New sample size: 3000\n"
     ]
    },
    {
     "name": "stderr",
     "output_type": "stream",
     "text": [
      "/home/lq/LQcode/2_project/PHMBench/PHMGA/src/utils/visualization.py:23: FutureWarning: DataFrameGroupBy.apply operated on the grouping columns. This behavior is deprecated, and in a future version of pandas the grouping columns will be excluded from the operation. Either pass `include_groups=False` to exclude the groupings or explicitly select the grouping columns after groupby to silence this warning.\n",
      "  sampled_df = df.groupby('label').apply(\n"
     ]
    },
    {
     "name": "stdout",
     "output_type": "stream",
     "text": [
      "  Saved visualization to /home/lq/LQcode/2_project/PHMBench/PHMGA/save/exp2.5ottawa/max_06_coherence_07_ch1_ch2_umap.png\n",
      "Processing: crest_factor_07_ch1\n",
      "  Subsampling data from 9054 to max 1000 per class.\n",
      "  New sample size: 3000\n"
     ]
    },
    {
     "name": "stderr",
     "output_type": "stream",
     "text": [
      "/home/lq/LQcode/2_project/PHMBench/PHMGA/src/utils/visualization.py:23: FutureWarning: DataFrameGroupBy.apply operated on the grouping columns. This behavior is deprecated, and in a future version of pandas the grouping columns will be excluded from the operation. Either pass `include_groups=False` to exclude the groupings or explicitly select the grouping columns after groupby to silence this warning.\n",
      "  sampled_df = df.groupby('label').apply(\n"
     ]
    },
    {
     "name": "stdout",
     "output_type": "stream",
     "text": [
      "  Saved visualization to /home/lq/LQcode/2_project/PHMBench/PHMGA/save/exp2.5ottawa/crest_factor_07_ch1_umap.png\n",
      "Processing: shape_factor_08_ch2\n",
      "  Subsampling data from 9054 to max 1000 per class.\n",
      "  New sample size: 3000\n"
     ]
    },
    {
     "name": "stderr",
     "output_type": "stream",
     "text": [
      "/home/lq/LQcode/2_project/PHMBench/PHMGA/src/utils/visualization.py:23: FutureWarning: DataFrameGroupBy.apply operated on the grouping columns. This behavior is deprecated, and in a future version of pandas the grouping columns will be excluded from the operation. Either pass `include_groups=False` to exclude the groupings or explicitly select the grouping columns after groupby to silence this warning.\n",
      "  sampled_df = df.groupby('label').apply(\n"
     ]
    },
    {
     "name": "stdout",
     "output_type": "stream",
     "text": [
      "  Saved visualization to /home/lq/LQcode/2_project/PHMBench/PHMGA/save/exp2.5ottawa/shape_factor_08_ch2_umap.png\n",
      "\n",
      "--- UMAP visualization process finished. ---\n"
     ]
    }
   ],
   "source": [
    "from src.utils.visualization import visualize_datasets_umap\n",
    "save_dir = '/home/lq/LQcode/2_project/PHMBench/PHMGA/save/exp2.5ottawa'\n",
    "visualize_datasets_umap(datasets, save_dir=save_dir)"
   ]
  }
 ],
 "metadata": {
  "kernelspec": {
   "display_name": "PA",
   "language": "python",
   "name": "python3"
  },
  "language_info": {
   "codemirror_mode": {
    "name": "ipython",
    "version": 3
   },
   "file_extension": ".py",
   "mimetype": "text/x-python",
   "name": "python",
   "nbconvert_exporter": "python",
   "pygments_lexer": "ipython3",
   "version": "3.11.13"
  }
 },
 "nbformat": 4,
 "nbformat_minor": 5
}
