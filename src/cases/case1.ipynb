{
 "cells": [
  {
   "cell_type": "markdown",
   "id": "6ae939a9",
   "metadata": {},
   "source": [
    "# case 1"
   ]
  },
  {
   "cell_type": "code",
   "execution_count": 1,
   "id": "59655a3a",
   "metadata": {},
   "outputs": [
    {
     "name": "stdout",
     "output_type": "stream",
     "text": [
      "Current working directory: /home/lq/LQcode/2_project/PHMBench/PHMGA\n"
     ]
    },
    {
     "name": "stderr",
     "output_type": "stream",
     "text": [
      "/home/lq/.conda/envs/PA/lib/python3.11/site-packages/tqdm/auto.py:21: TqdmWarning: IProgress not found. Please update jupyter and ipywidgets. See https://ipywidgets.readthedocs.io/en/stable/user_install.html\n",
      "  from .autonotebook import tqdm as notebook_tqdm\n"
     ]
    }
   ],
   "source": [
    "from __future__ import annotations\n",
    "import os\n",
    "os.chdir('/home/lq/LQcode/2_project/PHMBench/PHMGA/')\n",
    "print(f\"Current working directory: {os.getcwd()}\")\n",
    "from langgraph.graph import StateGraph, END, START\n",
    "\n",
    "from src.agents.dataset_preparer_agent import dataset_preparer_agent\n",
    "from src.agents.execute_agent import execute_agent\n",
    "from src.agents.inquirer_agent import inquirer_agent\n",
    "from src.agents.plan_agent import plan_agent\n",
    "from src.agents.reflect_agent import reflect_agent_node\n",
    "from src.agents.report_agent import report_agent_node\n",
    "from src.agents.shallow_ml_agent import shallow_ml_agent\n",
    "from src.states.phm_states import PHMState\n",
    "import yaml\n",
    "import os\n",
    "from src.utils import load_state, save_state\n",
    "\n"
   ]
  },
  {
   "cell_type": "code",
   "execution_count": 2,
   "id": "ba2f6d34",
   "metadata": {},
   "outputs": [
    {
     "name": "stdout",
     "output_type": "stream",
     "text": [
      "--- Loading configuration from config/case_exp2.yaml ---\n",
      "\n",
      "--- Found existing state file at /home/lq/LQcode/2_project/PHMBench/PHMGA/save/exp2/exp2_built_state.pkl. Skipping builder workflow. ---\n",
      "\n",
      "--- Loading state from /home/lq/LQcode/2_project/PHMBench/PHMGA/save/exp2/exp2_built_state.pkl ---\n",
      "...done.\n",
      "Successfully loaded state with 40 nodes.\n"
     ]
    }
   ],
   "source": [
    "\n",
    "\n",
    "config_path = \"config/case_exp2.yaml\"\n",
    "print(f\"--- Loading configuration from {config_path} ---\")\n",
    "with open(config_path, 'r') as f:\n",
    "    config = yaml.safe_load(f)\n",
    "\n",
    "state_save_path = config['state_save_path']\n",
    "builder_cfg = config.get('builder', {})\n",
    "min_depth = builder_cfg.get('min_depth', 0)\n",
    "max_depth = builder_cfg.get('max_depth', float('inf'))\n",
    "\n",
    "# --- Check for existing state ---\n",
    "if os.path.exists(state_save_path):\n",
    "    print(f\"\\n--- Found existing state file at {state_save_path}. Skipping builder workflow. ---\")\n",
    "    state = load_state(state_save_path)\n",
    "\n",
    "\n",
    "\n",
    "\n"
   ]
  },
  {
   "cell_type": "markdown",
   "id": "e98b52e4",
   "metadata": {},
   "source": [
    "## 1 inquiring"
   ]
  },
  {
   "cell_type": "code",
   "execution_count": 8,
   "id": "9b02f687",
   "metadata": {},
   "outputs": [
    {
     "name": "stdout",
     "output_type": "stream",
     "text": [
      "\n",
      "Step 1: Inquiring - Performing similarity analysis...\n",
      "Calculating similarity for 32 leaf nodes with metrics: ['cosine', 'euclidean']\n",
      "Calculated cosine similarity for node rms_05_ch1\n",
      "Calculated euclidean similarity for node rms_05_ch1\n",
      "Calculated cosine similarity for node rms_06_ch2\n",
      "Calculated euclidean similarity for node rms_06_ch2\n",
      "Calculated cosine similarity for node kurtosis_01_hilbert_envelope_01_ch1\n",
      "Calculated euclidean similarity for node kurtosis_01_hilbert_envelope_01_ch1\n",
      "Calculated cosine similarity for node kurtosis_02_hilbert_envelope_02_ch2\n",
      "Calculated euclidean similarity for node kurtosis_02_hilbert_envelope_02_ch2\n",
      "Calculated cosine similarity for node spectral_kurtosis_03_fft_03_ch1\n",
      "Calculated euclidean similarity for node spectral_kurtosis_03_fft_03_ch1\n",
      "Calculated cosine similarity for node spectral_kurtosis_04_fft_04_ch2\n",
      "Calculated euclidean similarity for node spectral_kurtosis_04_fft_04_ch2\n",
      "Calculated cosine similarity for node entropy_05_ch1\n",
      "Calculated euclidean similarity for node entropy_05_ch1\n",
      "Calculated cosine similarity for node entropy_06_ch2\n",
      "Calculated euclidean similarity for node entropy_06_ch2\n",
      "Calculated cosine similarity for node rms_01_hilbert_envelope_01_ch1\n",
      "Calculated euclidean similarity for node rms_01_hilbert_envelope_01_ch1\n",
      "Calculated cosine similarity for node rms_02_hilbert_envelope_02_ch2\n",
      "Calculated euclidean similarity for node rms_02_hilbert_envelope_02_ch2\n",
      "Calculated cosine similarity for node spectral_centroid_03_fft_03_ch1\n",
      "Calculated euclidean similarity for node spectral_centroid_03_fft_03_ch1\n",
      "Calculated cosine similarity for node spectral_centroid_04_fft_04_ch2\n",
      "Calculated euclidean similarity for node spectral_centroid_04_fft_04_ch2\n",
      "Calculated cosine similarity for node crest_factor_05_ch1\n",
      "Calculated euclidean similarity for node crest_factor_05_ch1\n",
      "Calculated cosine similarity for node crest_factor_06_ch2\n",
      "Calculated euclidean similarity for node crest_factor_06_ch2\n",
      "Calculated cosine similarity for node std_01_hilbert_envelope_01_ch1\n",
      "Calculated euclidean similarity for node std_01_hilbert_envelope_01_ch1\n",
      "Calculated cosine similarity for node std_02_hilbert_envelope_02_ch2\n",
      "Calculated euclidean similarity for node std_02_hilbert_envelope_02_ch2\n",
      "Calculated cosine similarity for node spectral_skewness_03_fft_03_ch1\n",
      "Calculated euclidean similarity for node spectral_skewness_03_fft_03_ch1\n",
      "Calculated cosine similarity for node spectral_skewness_04_fft_04_ch2\n",
      "Calculated euclidean similarity for node spectral_skewness_04_fft_04_ch2\n",
      "Calculated cosine similarity for node spectral_flatness_05_fft_03_ch1\n",
      "Calculated euclidean similarity for node spectral_flatness_05_fft_03_ch1\n",
      "Calculated cosine similarity for node spectral_flatness_06_fft_04_ch2\n",
      "Calculated euclidean similarity for node spectral_flatness_06_fft_04_ch2\n",
      "Calculated cosine similarity for node skew_07_ch1\n",
      "Calculated euclidean similarity for node skew_07_ch1\n",
      "Calculated cosine similarity for node skew_08_ch2\n",
      "Calculated euclidean similarity for node skew_08_ch2\n",
      "Calculated cosine similarity for node mean_01_hilbert_envelope_01_ch1\n",
      "Calculated euclidean similarity for node mean_01_hilbert_envelope_01_ch1\n",
      "Calculated cosine similarity for node mean_02_hilbert_envelope_02_ch2\n",
      "Calculated euclidean similarity for node mean_02_hilbert_envelope_02_ch2\n",
      "Calculated cosine similarity for node mean_03_fft_03_ch1\n",
      "Calculated euclidean similarity for node mean_03_fft_03_ch1\n",
      "Calculated cosine similarity for node mean_04_fft_04_ch2\n",
      "Calculated euclidean similarity for node mean_04_fft_04_ch2\n",
      "Calculated cosine similarity for node std_05_hilbert_envelope_01_ch1\n",
      "Calculated euclidean similarity for node std_05_hilbert_envelope_01_ch1\n",
      "Calculated cosine similarity for node std_06_hilbert_envelope_02_ch2\n",
      "Calculated euclidean similarity for node std_06_hilbert_envelope_02_ch2\n",
      "Calculated cosine similarity for node std_07_fft_03_ch1\n",
      "Calculated euclidean similarity for node std_07_fft_03_ch1\n",
      "Calculated cosine similarity for node std_08_fft_04_ch2\n",
      "Calculated euclidean similarity for node std_08_fft_04_ch2\n",
      "Calculated cosine similarity for node mean_09_band_power_07_fft_03_ch1\n",
      "Calculated euclidean similarity for node mean_09_band_power_07_fft_03_ch1\n",
      "Calculated cosine similarity for node mean_10_band_power_08_fft_04_ch2\n",
      "Calculated euclidean similarity for node mean_10_band_power_08_fft_04_ch2\n",
      "Output: Updated state with similarity_results.\n"
     ]
    },
    {
     "name": "stderr",
     "output_type": "stream",
     "text": [
      "/tmp/ipykernel_520428/2378391913.py:3: PydanticDeprecatedSince20: The `copy` method is deprecated; use `model_copy` instead. See the docstring of `BaseModel.copy` for details about how to handle `include` and `exclude`. Deprecated in Pydantic V2.0 to be removed in V3.0. See Pydantic V2 Migration Guide at https://errors.pydantic.dev/2.11/migration/\n",
      "  state = state.copy(update=inquirer_updates)\n"
     ]
    }
   ],
   "source": [
    "print(\"\\nStep 1: Inquiring - Performing similarity analysis...\")\n",
    "inquirer_updates = inquirer_agent(state, metrics=[\"cosine\", \"euclidean\"])\n",
    "state = state.copy(update=inquirer_updates)\n",
    "print(f\"Output: Updated state with similarity_results.\")"
   ]
  },
  {
   "cell_type": "code",
   "execution_count": null,
   "id": "f853a81c",
   "metadata": {},
   "outputs": [],
   "source": []
  },
  {
   "cell_type": "markdown",
   "id": "94a5e70c",
   "metadata": {},
   "source": [
    "## 2 data preparation"
   ]
  },
  {
   "cell_type": "code",
   "execution_count": null,
   "id": "5a1e805d",
   "metadata": {},
   "outputs": [
    {
     "name": "stdout",
     "output_type": "stream",
     "text": [
      "Loading data for IDs: [47050, 47052, 47044, 47046, 47047, 47049, 47053, 47055, 47056, 47058]\n",
      "Loading data for IDs: [47051, 47045, 47048, 47054, 47057]\n"
     ]
    }
   ],
   "source": [
    "# from src.utils import load_signal_data\n",
    "# metadata_path, h5_path, ref_ids,test_ids = config['metadata_path'], config['h5_path'], config['ref_ids'], config['test_ids']\n",
    "# ref_signals, ref_labels,test_metadata_df = load_signal_data(metadata_path, h5_path, ref_ids)\n",
    "# test_signals, test_labels,test_metadata_df = load_signal_data(metadata_path, h5_path, test_ids)\n"
   ]
  },
  {
   "cell_type": "code",
   "execution_count": 3,
   "id": "a048dc60",
   "metadata": {},
   "outputs": [
    {
     "name": "stdout",
     "output_type": "stream",
     "text": [
      "\n",
      "Step 2: Preparing - Creating datasets for ML model...\n",
      "Output: Updated state with datasets.\n"
     ]
    },
    {
     "name": "stderr",
     "output_type": "stream",
     "text": [
      "/tmp/ipykernel_520428/1127098262.py:4: PydanticDeprecatedSince20: The `copy` method is deprecated; use `model_copy` instead. See the docstring of `BaseModel.copy` for details about how to handle `include` and `exclude`. Deprecated in Pydantic V2.0 to be removed in V3.0. See Pydantic V2 Migration Guide at https://errors.pydantic.dev/2.11/migration/\n",
      "  state = state.copy(update=preparer_updates)\n"
     ]
    }
   ],
   "source": [
    "# 2. Dataset Preparer Agent: Prepare datasets for ML\n",
    "print(\"\\nStep 2: Preparing - Creating datasets for ML model...\")\n",
    "preparer_updates = dataset_preparer_agent(state)\n",
    "state = state.copy(update=preparer_updates)\n",
    "print(f\"Output: Updated state with datasets.\")\n",
    "\n",
    "datasets = preparer_updates['datasets']\n"
   ]
  },
  {
   "cell_type": "markdown",
   "id": "bd01f184",
   "metadata": {},
   "source": [
    "## save and load dataset"
   ]
  },
  {
   "cell_type": "code",
   "execution_count": null,
   "id": "f7429aae",
   "metadata": {},
   "outputs": [],
   "source": [
    "# save and load dataset dict\n",
    "import pickle\n",
    "import os\n",
    "# save_dir  = '/home/lq/LQcode/2_project/PHMBench/PHMGA/save/exp2.5/'\n",
    "save_dir = config.get('save_dir', 'save/exp2/')\n",
    "os.makedirs(save_dir, exist_ok=True)\n",
    "save_path = os.path.join(save_dir, 'exp2/datasets.pkl')\n",
    "with open(save_path, 'wb') as f:\n",
    "    pickle.dump(datasets, f)\n",
    "# with open(save_path, 'rb') as f:\n",
    "#     datasets = pickle.load(f)"
   ]
  },
  {
   "cell_type": "code",
   "execution_count": 5,
   "id": "af603484",
   "metadata": {},
   "outputs": [
    {
     "data": {
      "text/plain": [
       "{'name': 'exp2',\n",
       " 'save_dir': '/home/lq/LQcode/2_project/PHMBench/PHMGA/save',\n",
       " 'metadata_path': '/mnt/crucial/LQ/PHM-Vibench/metadata_6_11.xlsx',\n",
       " 'h5_path': '/mnt/crucial/LQ/PHM-Vibench/cache.h5',\n",
       " 'state_save_path': '/home/lq/LQcode/2_project/PHMBench/PHMGA/save/exp2/exp2_built_state.pkl',\n",
       " 'report_path': '/home/lq/LQcode/2_project/PHMBench/PHMGA/save/exp2/exp2_final_report.md',\n",
       " 'ref_ids': [47050,\n",
       "  47052,\n",
       "  47044,\n",
       "  47046,\n",
       "  47047,\n",
       "  47049,\n",
       "  47053,\n",
       "  47055,\n",
       "  47056,\n",
       "  47058],\n",
       " 'test_ids': [47051, 47045, 47048, 47054, 47057],\n",
       " 'builder': {'min_depth': 4, 'max_depth': 8},\n",
       " 'user_instruction': 'Analyze the bearing signals for potential faults. The reference set contains signals for 5 different states (health, ball, cage, inner, outer). The test set also contains signals for the same 5 states. The goal is to correctly classify each test signal by comparing it to the reference set.\\n'}"
      ]
     },
     "execution_count": 5,
     "metadata": {},
     "output_type": "execute_result"
    }
   ],
   "source": [
    "config"
   ]
  },
  {
   "cell_type": "code",
   "execution_count": null,
   "id": "9c0a2cea",
   "metadata": {},
   "outputs": [],
   "source": []
  },
  {
   "cell_type": "markdown",
   "id": "162bd3f6",
   "metadata": {},
   "source": [
    "## 3  train model"
   ]
  },
  {
   "cell_type": "code",
   "execution_count": null,
   "id": "f83d6468",
   "metadata": {},
   "outputs": [],
   "source": []
  },
  {
   "cell_type": "code",
   "execution_count": 7,
   "id": "90d3a901",
   "metadata": {},
   "outputs": [],
   "source": [
    "%load_ext autoreload\n",
    "%autoreload 2"
   ]
  },
  {
   "cell_type": "code",
   "execution_count": null,
   "id": "99f07cdb",
   "metadata": {},
   "outputs": [
    {
     "name": "stdout",
     "output_type": "stream",
     "text": [
      "\n",
      "Step 3: Training - Running shallow ML model...\n"
     ]
    },
    {
     "name": "stdout",
     "output_type": "stream",
     "text": [
      "--- Ensemble: Found 2 models with CV accuracy > 90% for ensembling.\n",
      "--- High-quality models: ['fft_03_ch1', 'fft_04_ch2']\n",
      "Output: Updated state with ml_results.\n"
     ]
    }
   ],
   "source": [
    "# 3. Shallow ML Agent: Train and evaluate a simple ML model\n",
    "print(\"\\nStep 3: Training - Running shallow ML model...\")\n",
    "# Note: shallow_ml_agent directly takes the datasets, not the full state\n",
    "ml_updates = {\"ml_results\": shallow_ml_agent(datasets)}\n",
    "\n",
    "print(f\"Output: Updated state with ml_results.\")\n",
    "\n"
   ]
  },
  {
   "cell_type": "code",
   "execution_count": null,
   "id": "5357b182",
   "metadata": {},
   "outputs": [],
   "source": [
    "state = state.copy(update=ml_updates)"
   ]
  },
  {
   "cell_type": "code",
   "execution_count": 13,
   "id": "e0b76b40",
   "metadata": {},
   "outputs": [
    {
     "ename": "",
     "evalue": "",
     "output_type": "error",
     "traceback": [
      "\u001b[1;31m无法执行代码，已释放会话。请尝试重新启动内核。"
     ]
    },
    {
     "ename": "",
     "evalue": "",
     "output_type": "error",
     "traceback": [
      "\u001b[1;31m无法执行代码，已释放会话。请尝试重新启动内核。. \n",
      "\u001b[1;31m有关更多详细信息，请查看 Jupyter <a href='command:jupyter.viewOutput'>log</a>。"
     ]
    }
   ],
   "source": [
    "result = ml_updates['ml_results']['metrics_markdown']\n",
    "result"
   ]
  },
  {
   "cell_type": "markdown",
   "id": "aebc6d9e",
   "metadata": {},
   "source": [
    "## 4 reporting"
   ]
  },
  {
   "cell_type": "code",
   "execution_count": 12,
   "id": "2e42b235",
   "metadata": {},
   "outputs": [
    {
     "name": "stdout",
     "output_type": "stream",
     "text": [
      "\n",
      "Step 4: Reporting - Generating final analysis report...\n",
      "Generating final report with 40 nodes, 32 leaves, 32 similarity stats, 0 ML models, 0 ensemble metrics, issues: 0\n"
     ]
    },
    {
     "ename": "DecodeError",
     "evalue": "Error parsing message with type 'google.ai.generativelanguage.v1beta.Part'",
     "output_type": "error",
     "traceback": [
      "\u001b[31m---------------------------------------------------------------------------\u001b[39m",
      "\u001b[31mDecodeError\u001b[39m                               Traceback (most recent call last)",
      "\u001b[36mCell\u001b[39m\u001b[36m \u001b[39m\u001b[32mIn[12]\u001b[39m\u001b[32m, line 3\u001b[39m\n\u001b[32m      1\u001b[39m \u001b[38;5;66;03m# 4. Report Agent: Generate the final report\u001b[39;00m\n\u001b[32m      2\u001b[39m \u001b[38;5;28mprint\u001b[39m(\u001b[33m\"\u001b[39m\u001b[38;5;130;01m\\n\u001b[39;00m\u001b[33mStep 4: Reporting - Generating final analysis report...\u001b[39m\u001b[33m\"\u001b[39m)\n\u001b[32m----> \u001b[39m\u001b[32m3\u001b[39m report_updates = \u001b[43mreport_agent_node\u001b[49m\u001b[43m(\u001b[49m\u001b[43mstate\u001b[49m\u001b[43m)\u001b[49m\n\u001b[32m      4\u001b[39m state = state.copy(update=report_updates)\n\u001b[32m      5\u001b[39m \u001b[38;5;28mprint\u001b[39m(\u001b[33m\"\u001b[39m\u001b[33mOutput: Updated state with the final report.\u001b[39m\u001b[33m\"\u001b[39m)\n",
      "\u001b[36mFile \u001b[39m\u001b[32m~/LQcode/2_project/PHMBench/PHMGA/src/agents/report_agent.py:73\u001b[39m, in \u001b[36mreport_agent_node\u001b[39m\u001b[34m(state)\u001b[39m\n\u001b[32m     66\u001b[39m \u001b[38;5;66;03m# calculate the payload for each section\u001b[39;00m\n\u001b[32m     67\u001b[39m \u001b[38;5;28mprint\u001b[39m(\u001b[33mf\u001b[39m\u001b[33m\"\u001b[39m\u001b[33mGenerating final report with \u001b[39m\u001b[38;5;132;01m{\u001b[39;00m\u001b[38;5;28mlen\u001b[39m(state.dag_state.nodes)\u001b[38;5;132;01m}\u001b[39;00m\u001b[33m nodes, \u001b[39m\u001b[33m\"\u001b[39m\n\u001b[32m     68\u001b[39m       \u001b[33mf\u001b[39m\u001b[33m\"\u001b[39m\u001b[38;5;132;01m{\u001b[39;00m\u001b[38;5;28mlen\u001b[39m(state.dag_state.leaves)\u001b[38;5;132;01m}\u001b[39;00m\u001b[33m leaves, \u001b[39m\u001b[33m\"\u001b[39m\n\u001b[32m     69\u001b[39m       \u001b[33mf\u001b[39m\u001b[33m\"\u001b[39m\u001b[38;5;132;01m{\u001b[39;00m\u001b[38;5;28mlen\u001b[39m(similarity_stats)\u001b[38;5;132;01m}\u001b[39;00m\u001b[33m similarity stats, \u001b[39m\u001b[33m\"\u001b[39m\n\u001b[32m     70\u001b[39m       \u001b[33mf\u001b[39m\u001b[33m\"\u001b[39m\u001b[38;5;132;01m{\u001b[39;00m\u001b[38;5;28mlen\u001b[39m(ml_results.get(\u001b[33m'\u001b[39m\u001b[33mmodels\u001b[39m\u001b[33m'\u001b[39m,\u001b[38;5;250m \u001b[39m{}))\u001b[38;5;132;01m}\u001b[39;00m\u001b[33m ML models, \u001b[39m\u001b[33m\"\u001b[39m\n\u001b[32m     71\u001b[39m       \u001b[33mf\u001b[39m\u001b[33m\"\u001b[39m\u001b[38;5;132;01m{\u001b[39;00m\u001b[38;5;28mlen\u001b[39m(ml_results.get(\u001b[33m'\u001b[39m\u001b[33mensemble_metrics\u001b[39m\u001b[33m'\u001b[39m,\u001b[38;5;250m \u001b[39m{}))\u001b[38;5;132;01m}\u001b[39;00m\u001b[33m ensemble metrics, \u001b[39m\u001b[33m\"\u001b[39m\n\u001b[32m     72\u001b[39m       \u001b[33mf\u001b[39m\u001b[33m\"\u001b[39m\u001b[33missues: \u001b[39m\u001b[38;5;132;01m{\u001b[39;00m\u001b[38;5;28mlen\u001b[39m(state.dag_state.error_log)\u001b[38;5;132;01m}\u001b[39;00m\u001b[33m\"\u001b[39m)\n\u001b[32m---> \u001b[39m\u001b[32m73\u001b[39m out = \u001b[43mreport_agent\u001b[49m\u001b[43m(\u001b[49m\n\u001b[32m     74\u001b[39m \u001b[43m    \u001b[49m\u001b[43minstruction\u001b[49m\u001b[43m=\u001b[49m\u001b[43mstate\u001b[49m\u001b[43m.\u001b[49m\u001b[43muser_instruction\u001b[49m\u001b[43m,\u001b[49m\n\u001b[32m     75\u001b[39m \u001b[43m    \u001b[49m\u001b[43mdag_overview\u001b[49m\u001b[43m=\u001b[49m\u001b[43mdag_overview\u001b[49m\u001b[43m,\u001b[49m\n\u001b[32m     76\u001b[39m \u001b[43m    \u001b[49m\u001b[43msimilarity_stats\u001b[49m\u001b[43m=\u001b[49m\u001b[43msimilarity_stats\u001b[49m\u001b[43m,\u001b[49m\n\u001b[32m     77\u001b[39m \u001b[43m    \u001b[49m\u001b[43mml_results\u001b[49m\u001b[43m=\u001b[49m\u001b[43mml_results\u001b[49m\u001b[43m,\u001b[49m\n\u001b[32m     78\u001b[39m \u001b[43m    \u001b[49m\u001b[43missues_summary\u001b[49m\u001b[43m=\u001b[49m\u001b[43missues_summary\u001b[49m\u001b[43m,\u001b[49m\n\u001b[32m     79\u001b[39m \u001b[43m\u001b[49m\u001b[43m)\u001b[49m\n\u001b[32m     80\u001b[39m \u001b[38;5;28;01mreturn\u001b[39;00m {\u001b[33m\"\u001b[39m\u001b[33mfinal_report\u001b[39m\u001b[33m\"\u001b[39m: out[\u001b[33m\"\u001b[39m\u001b[33mreport_markdown\u001b[39m\u001b[33m\"\u001b[39m]}\n",
      "\u001b[36mFile \u001b[39m\u001b[32m~/LQcode/2_project/PHMBench/PHMGA/src/agents/report_agent.py:28\u001b[39m, in \u001b[36mreport_agent\u001b[39m\u001b[34m(instruction, dag_overview, similarity_stats, ml_results, issues_summary)\u001b[39m\n\u001b[32m     26\u001b[39m prompt = ChatPromptTemplate.from_template(REPORT_PROMPT)\n\u001b[32m     27\u001b[39m chain = prompt | llm\n\u001b[32m---> \u001b[39m\u001b[32m28\u001b[39m resp = \u001b[43mchain\u001b[49m\u001b[43m.\u001b[49m\u001b[43minvoke\u001b[49m\u001b[43m(\u001b[49m\n\u001b[32m     29\u001b[39m \u001b[43m    \u001b[49m\u001b[43m{\u001b[49m\n\u001b[32m     30\u001b[39m \u001b[43m        \u001b[49m\u001b[33;43m\"\u001b[39;49m\u001b[33;43minstruction\u001b[39;49m\u001b[33;43m\"\u001b[39;49m\u001b[43m:\u001b[49m\u001b[43m \u001b[49m\u001b[43minstruction\u001b[49m\u001b[43m,\u001b[49m\n\u001b[32m     31\u001b[39m \u001b[43m        \u001b[49m\u001b[33;43m\"\u001b[39;49m\u001b[33;43mdag_overview\u001b[39;49m\u001b[33;43m\"\u001b[39;49m\u001b[43m:\u001b[49m\u001b[43m \u001b[49m\u001b[43mjson\u001b[49m\u001b[43m.\u001b[49m\u001b[43mdumps\u001b[49m\u001b[43m(\u001b[49m\u001b[43mdag_overview\u001b[49m\u001b[43m,\u001b[49m\u001b[43m \u001b[49m\u001b[43mensure_ascii\u001b[49m\u001b[43m=\u001b[49m\u001b[38;5;28;43;01mFalse\u001b[39;49;00m\u001b[43m)\u001b[49m\u001b[43m,\u001b[49m\n\u001b[32m     32\u001b[39m \u001b[43m        \u001b[49m\u001b[33;43m\"\u001b[39;49m\u001b[33;43msimilarity_stats\u001b[39;49m\u001b[33;43m\"\u001b[39;49m\u001b[43m:\u001b[49m\u001b[43m \u001b[49m\u001b[43mjson\u001b[49m\u001b[43m.\u001b[49m\u001b[43mdumps\u001b[49m\u001b[43m(\u001b[49m\u001b[43msimilarity_stats\u001b[49m\u001b[43m,\u001b[49m\u001b[43m \u001b[49m\u001b[43mensure_ascii\u001b[49m\u001b[43m=\u001b[49m\u001b[38;5;28;43;01mFalse\u001b[39;49;00m\u001b[43m)\u001b[49m\u001b[43m,\u001b[49m\n\u001b[32m     33\u001b[39m \u001b[43m        \u001b[49m\u001b[33;43m\"\u001b[39;49m\u001b[33;43mml_results\u001b[39;49m\u001b[33;43m\"\u001b[39;49m\u001b[43m:\u001b[49m\u001b[43m \u001b[49m\u001b[43mjson\u001b[49m\u001b[43m.\u001b[49m\u001b[43mdumps\u001b[49m\u001b[43m(\u001b[49m\u001b[43mml_results\u001b[49m\u001b[43m,\u001b[49m\u001b[43m \u001b[49m\u001b[43mensure_ascii\u001b[49m\u001b[43m=\u001b[49m\u001b[38;5;28;43;01mFalse\u001b[39;49;00m\u001b[43m)\u001b[49m\u001b[43m,\u001b[49m\n\u001b[32m     34\u001b[39m \u001b[43m        \u001b[49m\u001b[33;43m\"\u001b[39;49m\u001b[33;43missues_summary\u001b[39;49m\u001b[33;43m\"\u001b[39;49m\u001b[43m:\u001b[49m\u001b[43m \u001b[49m\u001b[43missues_summary\u001b[49m\u001b[43m \u001b[49m\u001b[38;5;129;43;01mor\u001b[39;49;00m\u001b[43m \u001b[49m\u001b[33;43m\"\u001b[39;49m\u001b[33;43m\"\u001b[39;49m\u001b[43m,\u001b[49m\n\u001b[32m     35\u001b[39m \u001b[43m    \u001b[49m\u001b[43m}\u001b[49m\n\u001b[32m     36\u001b[39m \u001b[43m\u001b[49m\u001b[43m)\u001b[49m\n\u001b[32m     37\u001b[39m \u001b[38;5;66;03m# 漂亮地打印出LLM的响应以供调试\u001b[39;00m\n\u001b[32m     38\u001b[39m \u001b[38;5;28mprint\u001b[39m(\u001b[33m\"\u001b[39m\u001b[38;5;130;01m\\n\u001b[39;00m\u001b[33m--- Report Agent LLM Response ---\u001b[39m\u001b[33m\"\u001b[39m)\n",
      "\u001b[36mFile \u001b[39m\u001b[32m~/.conda/envs/PA/lib/python3.11/site-packages/langchain_core/runnables/base.py:3046\u001b[39m, in \u001b[36mRunnableSequence.invoke\u001b[39m\u001b[34m(self, input, config, **kwargs)\u001b[39m\n\u001b[32m   3044\u001b[39m                 input_ = context.run(step.invoke, input_, config, **kwargs)\n\u001b[32m   3045\u001b[39m             \u001b[38;5;28;01melse\u001b[39;00m:\n\u001b[32m-> \u001b[39m\u001b[32m3046\u001b[39m                 input_ = \u001b[43mcontext\u001b[49m\u001b[43m.\u001b[49m\u001b[43mrun\u001b[49m\u001b[43m(\u001b[49m\u001b[43mstep\u001b[49m\u001b[43m.\u001b[49m\u001b[43minvoke\u001b[49m\u001b[43m,\u001b[49m\u001b[43m \u001b[49m\u001b[43minput_\u001b[49m\u001b[43m,\u001b[49m\u001b[43m \u001b[49m\u001b[43mconfig\u001b[49m\u001b[43m)\u001b[49m\n\u001b[32m   3047\u001b[39m \u001b[38;5;66;03m# finish the root run\u001b[39;00m\n\u001b[32m   3048\u001b[39m \u001b[38;5;28;01mexcept\u001b[39;00m \u001b[38;5;167;01mBaseException\u001b[39;00m \u001b[38;5;28;01mas\u001b[39;00m e:\n",
      "\u001b[36mFile \u001b[39m\u001b[32m~/.conda/envs/PA/lib/python3.11/site-packages/langchain_core/language_models/chat_models.py:395\u001b[39m, in \u001b[36mBaseChatModel.invoke\u001b[39m\u001b[34m(self, input, config, stop, **kwargs)\u001b[39m\n\u001b[32m    383\u001b[39m \u001b[38;5;129m@override\u001b[39m\n\u001b[32m    384\u001b[39m \u001b[38;5;28;01mdef\u001b[39;00m\u001b[38;5;250m \u001b[39m\u001b[34minvoke\u001b[39m(\n\u001b[32m    385\u001b[39m     \u001b[38;5;28mself\u001b[39m,\n\u001b[32m   (...)\u001b[39m\u001b[32m    390\u001b[39m     **kwargs: Any,\n\u001b[32m    391\u001b[39m ) -> BaseMessage:\n\u001b[32m    392\u001b[39m     config = ensure_config(config)\n\u001b[32m    393\u001b[39m     \u001b[38;5;28;01mreturn\u001b[39;00m cast(\n\u001b[32m    394\u001b[39m         \u001b[33m\"\u001b[39m\u001b[33mChatGeneration\u001b[39m\u001b[33m\"\u001b[39m,\n\u001b[32m--> \u001b[39m\u001b[32m395\u001b[39m         \u001b[38;5;28;43mself\u001b[39;49m\u001b[43m.\u001b[49m\u001b[43mgenerate_prompt\u001b[49m\u001b[43m(\u001b[49m\n\u001b[32m    396\u001b[39m \u001b[43m            \u001b[49m\u001b[43m[\u001b[49m\u001b[38;5;28;43mself\u001b[39;49m\u001b[43m.\u001b[49m\u001b[43m_convert_input\u001b[49m\u001b[43m(\u001b[49m\u001b[38;5;28;43minput\u001b[39;49m\u001b[43m)\u001b[49m\u001b[43m]\u001b[49m\u001b[43m,\u001b[49m\n\u001b[32m    397\u001b[39m \u001b[43m            \u001b[49m\u001b[43mstop\u001b[49m\u001b[43m=\u001b[49m\u001b[43mstop\u001b[49m\u001b[43m,\u001b[49m\n\u001b[32m    398\u001b[39m \u001b[43m            \u001b[49m\u001b[43mcallbacks\u001b[49m\u001b[43m=\u001b[49m\u001b[43mconfig\u001b[49m\u001b[43m.\u001b[49m\u001b[43mget\u001b[49m\u001b[43m(\u001b[49m\u001b[33;43m\"\u001b[39;49m\u001b[33;43mcallbacks\u001b[39;49m\u001b[33;43m\"\u001b[39;49m\u001b[43m)\u001b[49m\u001b[43m,\u001b[49m\n\u001b[32m    399\u001b[39m \u001b[43m            \u001b[49m\u001b[43mtags\u001b[49m\u001b[43m=\u001b[49m\u001b[43mconfig\u001b[49m\u001b[43m.\u001b[49m\u001b[43mget\u001b[49m\u001b[43m(\u001b[49m\u001b[33;43m\"\u001b[39;49m\u001b[33;43mtags\u001b[39;49m\u001b[33;43m\"\u001b[39;49m\u001b[43m)\u001b[49m\u001b[43m,\u001b[49m\n\u001b[32m    400\u001b[39m \u001b[43m            \u001b[49m\u001b[43mmetadata\u001b[49m\u001b[43m=\u001b[49m\u001b[43mconfig\u001b[49m\u001b[43m.\u001b[49m\u001b[43mget\u001b[49m\u001b[43m(\u001b[49m\u001b[33;43m\"\u001b[39;49m\u001b[33;43mmetadata\u001b[39;49m\u001b[33;43m\"\u001b[39;49m\u001b[43m)\u001b[49m\u001b[43m,\u001b[49m\n\u001b[32m    401\u001b[39m \u001b[43m            \u001b[49m\u001b[43mrun_name\u001b[49m\u001b[43m=\u001b[49m\u001b[43mconfig\u001b[49m\u001b[43m.\u001b[49m\u001b[43mget\u001b[49m\u001b[43m(\u001b[49m\u001b[33;43m\"\u001b[39;49m\u001b[33;43mrun_name\u001b[39;49m\u001b[33;43m\"\u001b[39;49m\u001b[43m)\u001b[49m\u001b[43m,\u001b[49m\n\u001b[32m    402\u001b[39m \u001b[43m            \u001b[49m\u001b[43mrun_id\u001b[49m\u001b[43m=\u001b[49m\u001b[43mconfig\u001b[49m\u001b[43m.\u001b[49m\u001b[43mpop\u001b[49m\u001b[43m(\u001b[49m\u001b[33;43m\"\u001b[39;49m\u001b[33;43mrun_id\u001b[39;49m\u001b[33;43m\"\u001b[39;49m\u001b[43m,\u001b[49m\u001b[43m \u001b[49m\u001b[38;5;28;43;01mNone\u001b[39;49;00m\u001b[43m)\u001b[49m\u001b[43m,\u001b[49m\n\u001b[32m    403\u001b[39m \u001b[43m            \u001b[49m\u001b[43m*\u001b[49m\u001b[43m*\u001b[49m\u001b[43mkwargs\u001b[49m\u001b[43m,\u001b[49m\n\u001b[32m    404\u001b[39m \u001b[43m        \u001b[49m\u001b[43m)\u001b[49m.generations[\u001b[32m0\u001b[39m][\u001b[32m0\u001b[39m],\n\u001b[32m    405\u001b[39m     ).message\n",
      "\u001b[36mFile \u001b[39m\u001b[32m~/.conda/envs/PA/lib/python3.11/site-packages/langchain_core/language_models/chat_models.py:980\u001b[39m, in \u001b[36mBaseChatModel.generate_prompt\u001b[39m\u001b[34m(self, prompts, stop, callbacks, **kwargs)\u001b[39m\n\u001b[32m    971\u001b[39m \u001b[38;5;129m@override\u001b[39m\n\u001b[32m    972\u001b[39m \u001b[38;5;28;01mdef\u001b[39;00m\u001b[38;5;250m \u001b[39m\u001b[34mgenerate_prompt\u001b[39m(\n\u001b[32m    973\u001b[39m     \u001b[38;5;28mself\u001b[39m,\n\u001b[32m   (...)\u001b[39m\u001b[32m    977\u001b[39m     **kwargs: Any,\n\u001b[32m    978\u001b[39m ) -> LLMResult:\n\u001b[32m    979\u001b[39m     prompt_messages = [p.to_messages() \u001b[38;5;28;01mfor\u001b[39;00m p \u001b[38;5;129;01min\u001b[39;00m prompts]\n\u001b[32m--> \u001b[39m\u001b[32m980\u001b[39m     \u001b[38;5;28;01mreturn\u001b[39;00m \u001b[38;5;28;43mself\u001b[39;49m\u001b[43m.\u001b[49m\u001b[43mgenerate\u001b[49m\u001b[43m(\u001b[49m\u001b[43mprompt_messages\u001b[49m\u001b[43m,\u001b[49m\u001b[43m \u001b[49m\u001b[43mstop\u001b[49m\u001b[43m=\u001b[49m\u001b[43mstop\u001b[49m\u001b[43m,\u001b[49m\u001b[43m \u001b[49m\u001b[43mcallbacks\u001b[49m\u001b[43m=\u001b[49m\u001b[43mcallbacks\u001b[49m\u001b[43m,\u001b[49m\u001b[43m \u001b[49m\u001b[43m*\u001b[49m\u001b[43m*\u001b[49m\u001b[43mkwargs\u001b[49m\u001b[43m)\u001b[49m\n",
      "\u001b[36mFile \u001b[39m\u001b[32m~/.conda/envs/PA/lib/python3.11/site-packages/langchain_core/language_models/chat_models.py:799\u001b[39m, in \u001b[36mBaseChatModel.generate\u001b[39m\u001b[34m(self, messages, stop, callbacks, tags, metadata, run_name, run_id, **kwargs)\u001b[39m\n\u001b[32m    796\u001b[39m \u001b[38;5;28;01mfor\u001b[39;00m i, m \u001b[38;5;129;01min\u001b[39;00m \u001b[38;5;28menumerate\u001b[39m(input_messages):\n\u001b[32m    797\u001b[39m     \u001b[38;5;28;01mtry\u001b[39;00m:\n\u001b[32m    798\u001b[39m         results.append(\n\u001b[32m--> \u001b[39m\u001b[32m799\u001b[39m             \u001b[38;5;28;43mself\u001b[39;49m\u001b[43m.\u001b[49m\u001b[43m_generate_with_cache\u001b[49m\u001b[43m(\u001b[49m\n\u001b[32m    800\u001b[39m \u001b[43m                \u001b[49m\u001b[43mm\u001b[49m\u001b[43m,\u001b[49m\n\u001b[32m    801\u001b[39m \u001b[43m                \u001b[49m\u001b[43mstop\u001b[49m\u001b[43m=\u001b[49m\u001b[43mstop\u001b[49m\u001b[43m,\u001b[49m\n\u001b[32m    802\u001b[39m \u001b[43m                \u001b[49m\u001b[43mrun_manager\u001b[49m\u001b[43m=\u001b[49m\u001b[43mrun_managers\u001b[49m\u001b[43m[\u001b[49m\u001b[43mi\u001b[49m\u001b[43m]\u001b[49m\u001b[43m \u001b[49m\u001b[38;5;28;43;01mif\u001b[39;49;00m\u001b[43m \u001b[49m\u001b[43mrun_managers\u001b[49m\u001b[43m \u001b[49m\u001b[38;5;28;43;01melse\u001b[39;49;00m\u001b[43m \u001b[49m\u001b[38;5;28;43;01mNone\u001b[39;49;00m\u001b[43m,\u001b[49m\n\u001b[32m    803\u001b[39m \u001b[43m                \u001b[49m\u001b[43m*\u001b[49m\u001b[43m*\u001b[49m\u001b[43mkwargs\u001b[49m\u001b[43m,\u001b[49m\n\u001b[32m    804\u001b[39m \u001b[43m            \u001b[49m\u001b[43m)\u001b[49m\n\u001b[32m    805\u001b[39m         )\n\u001b[32m    806\u001b[39m     \u001b[38;5;28;01mexcept\u001b[39;00m \u001b[38;5;167;01mBaseException\u001b[39;00m \u001b[38;5;28;01mas\u001b[39;00m e:\n\u001b[32m    807\u001b[39m         \u001b[38;5;28;01mif\u001b[39;00m run_managers:\n",
      "\u001b[36mFile \u001b[39m\u001b[32m~/.conda/envs/PA/lib/python3.11/site-packages/langchain_core/language_models/chat_models.py:1045\u001b[39m, in \u001b[36mBaseChatModel._generate_with_cache\u001b[39m\u001b[34m(self, messages, stop, run_manager, **kwargs)\u001b[39m\n\u001b[32m   1043\u001b[39m     result = generate_from_stream(\u001b[38;5;28miter\u001b[39m(chunks))\n\u001b[32m   1044\u001b[39m \u001b[38;5;28;01melif\u001b[39;00m inspect.signature(\u001b[38;5;28mself\u001b[39m._generate).parameters.get(\u001b[33m\"\u001b[39m\u001b[33mrun_manager\u001b[39m\u001b[33m\"\u001b[39m):\n\u001b[32m-> \u001b[39m\u001b[32m1045\u001b[39m     result = \u001b[38;5;28;43mself\u001b[39;49m\u001b[43m.\u001b[49m\u001b[43m_generate\u001b[49m\u001b[43m(\u001b[49m\n\u001b[32m   1046\u001b[39m \u001b[43m        \u001b[49m\u001b[43mmessages\u001b[49m\u001b[43m,\u001b[49m\u001b[43m \u001b[49m\u001b[43mstop\u001b[49m\u001b[43m=\u001b[49m\u001b[43mstop\u001b[49m\u001b[43m,\u001b[49m\u001b[43m \u001b[49m\u001b[43mrun_manager\u001b[49m\u001b[43m=\u001b[49m\u001b[43mrun_manager\u001b[49m\u001b[43m,\u001b[49m\u001b[43m \u001b[49m\u001b[43m*\u001b[49m\u001b[43m*\u001b[49m\u001b[43mkwargs\u001b[49m\n\u001b[32m   1047\u001b[39m \u001b[43m    \u001b[49m\u001b[43m)\u001b[49m\n\u001b[32m   1048\u001b[39m \u001b[38;5;28;01melse\u001b[39;00m:\n\u001b[32m   1049\u001b[39m     result = \u001b[38;5;28mself\u001b[39m._generate(messages, stop=stop, **kwargs)\n",
      "\u001b[36mFile \u001b[39m\u001b[32m~/.conda/envs/PA/lib/python3.11/site-packages/langchain_google_genai/chat_models.py:950\u001b[39m, in \u001b[36mChatGoogleGenerativeAI._generate\u001b[39m\u001b[34m(self, messages, stop, run_manager, tools, functions, safety_settings, tool_config, generation_config, cached_content, tool_choice, **kwargs)\u001b[39m\n\u001b[32m    935\u001b[39m \u001b[38;5;28;01mdef\u001b[39;00m\u001b[38;5;250m \u001b[39m\u001b[34m_generate\u001b[39m(\n\u001b[32m    936\u001b[39m     \u001b[38;5;28mself\u001b[39m,\n\u001b[32m    937\u001b[39m     messages: List[BaseMessage],\n\u001b[32m   (...)\u001b[39m\u001b[32m    948\u001b[39m     **kwargs: Any,\n\u001b[32m    949\u001b[39m ) -> ChatResult:\n\u001b[32m--> \u001b[39m\u001b[32m950\u001b[39m     request = \u001b[38;5;28;43mself\u001b[39;49m\u001b[43m.\u001b[49m\u001b[43m_prepare_request\u001b[49m\u001b[43m(\u001b[49m\n\u001b[32m    951\u001b[39m \u001b[43m        \u001b[49m\u001b[43mmessages\u001b[49m\u001b[43m,\u001b[49m\n\u001b[32m    952\u001b[39m \u001b[43m        \u001b[49m\u001b[43mstop\u001b[49m\u001b[43m=\u001b[49m\u001b[43mstop\u001b[49m\u001b[43m,\u001b[49m\n\u001b[32m    953\u001b[39m \u001b[43m        \u001b[49m\u001b[43mtools\u001b[49m\u001b[43m=\u001b[49m\u001b[43mtools\u001b[49m\u001b[43m,\u001b[49m\n\u001b[32m    954\u001b[39m \u001b[43m        \u001b[49m\u001b[43mfunctions\u001b[49m\u001b[43m=\u001b[49m\u001b[43mfunctions\u001b[49m\u001b[43m,\u001b[49m\n\u001b[32m    955\u001b[39m \u001b[43m        \u001b[49m\u001b[43msafety_settings\u001b[49m\u001b[43m=\u001b[49m\u001b[43msafety_settings\u001b[49m\u001b[43m,\u001b[49m\n\u001b[32m    956\u001b[39m \u001b[43m        \u001b[49m\u001b[43mtool_config\u001b[49m\u001b[43m=\u001b[49m\u001b[43mtool_config\u001b[49m\u001b[43m,\u001b[49m\n\u001b[32m    957\u001b[39m \u001b[43m        \u001b[49m\u001b[43mgeneration_config\u001b[49m\u001b[43m=\u001b[49m\u001b[43mgeneration_config\u001b[49m\u001b[43m,\u001b[49m\n\u001b[32m    958\u001b[39m \u001b[43m        \u001b[49m\u001b[43mcached_content\u001b[49m\u001b[43m=\u001b[49m\u001b[43mcached_content\u001b[49m\u001b[43m \u001b[49m\u001b[38;5;129;43;01mor\u001b[39;49;00m\u001b[43m \u001b[49m\u001b[38;5;28;43mself\u001b[39;49m\u001b[43m.\u001b[49m\u001b[43mcached_content\u001b[49m\u001b[43m,\u001b[49m\n\u001b[32m    959\u001b[39m \u001b[43m        \u001b[49m\u001b[43mtool_choice\u001b[49m\u001b[43m=\u001b[49m\u001b[43mtool_choice\u001b[49m\u001b[43m,\u001b[49m\n\u001b[32m    960\u001b[39m \u001b[43m    \u001b[49m\u001b[43m)\u001b[49m\n\u001b[32m    961\u001b[39m     response: GenerateContentResponse = _chat_with_retry(\n\u001b[32m    962\u001b[39m         request=request,\n\u001b[32m    963\u001b[39m         **kwargs,\n\u001b[32m    964\u001b[39m         generation_method=\u001b[38;5;28mself\u001b[39m.client.generate_content,\n\u001b[32m    965\u001b[39m         metadata=\u001b[38;5;28mself\u001b[39m.default_metadata,\n\u001b[32m    966\u001b[39m     )\n\u001b[32m    967\u001b[39m     \u001b[38;5;28;01mreturn\u001b[39;00m _response_to_result(response)\n",
      "\u001b[36mFile \u001b[39m\u001b[32m~/.conda/envs/PA/lib/python3.11/site-packages/langchain_google_genai/chat_models.py:1180\u001b[39m, in \u001b[36mChatGoogleGenerativeAI._prepare_request\u001b[39m\u001b[34m(self, messages, stop, tools, functions, safety_settings, tool_config, tool_choice, generation_config, cached_content)\u001b[39m\n\u001b[32m   1177\u001b[39m \u001b[38;5;28;01melif\u001b[39;00m functions:\n\u001b[32m   1178\u001b[39m     formatted_tools = [convert_to_genai_function_declarations(functions)]\n\u001b[32m-> \u001b[39m\u001b[32m1180\u001b[39m system_instruction, history = \u001b[43m_parse_chat_history\u001b[49m\u001b[43m(\u001b[49m\n\u001b[32m   1181\u001b[39m \u001b[43m    \u001b[49m\u001b[43mmessages\u001b[49m\u001b[43m,\u001b[49m\n\u001b[32m   1182\u001b[39m \u001b[43m    \u001b[49m\u001b[43mconvert_system_message_to_human\u001b[49m\u001b[43m=\u001b[49m\u001b[38;5;28;43mself\u001b[39;49m\u001b[43m.\u001b[49m\u001b[43mconvert_system_message_to_human\u001b[49m\u001b[43m,\u001b[49m\n\u001b[32m   1183\u001b[39m \u001b[43m\u001b[49m\u001b[43m)\u001b[49m\n\u001b[32m   1184\u001b[39m \u001b[38;5;28;01mif\u001b[39;00m tool_choice:\n\u001b[32m   1185\u001b[39m     \u001b[38;5;28;01mif\u001b[39;00m \u001b[38;5;129;01mnot\u001b[39;00m formatted_tools:\n",
      "\u001b[36mFile \u001b[39m\u001b[32m~/.conda/envs/PA/lib/python3.11/site-packages/langchain_google_genai/chat_models.py:418\u001b[39m, in \u001b[36m_parse_chat_history\u001b[39m\u001b[34m(input_messages, convert_system_message_to_human)\u001b[39m\n\u001b[32m    413\u001b[39m     \u001b[38;5;28;01melse\u001b[39;00m:\n\u001b[32m    414\u001b[39m         \u001b[38;5;28;01mraise\u001b[39;00m \u001b[38;5;167;01mValueError\u001b[39;00m(\n\u001b[32m    415\u001b[39m             \u001b[33mf\u001b[39m\u001b[33m\"\u001b[39m\u001b[33mUnexpected message with type \u001b[39m\u001b[38;5;132;01m{\u001b[39;00m\u001b[38;5;28mtype\u001b[39m(message)\u001b[38;5;132;01m}\u001b[39;00m\u001b[33m at the position \u001b[39m\u001b[38;5;132;01m{\u001b[39;00mi\u001b[38;5;132;01m}\u001b[39;00m\u001b[33m.\u001b[39m\u001b[33m\"\u001b[39m\n\u001b[32m    416\u001b[39m         )\n\u001b[32m--> \u001b[39m\u001b[32m418\u001b[39m     messages.append(\u001b[43mContent\u001b[49m\u001b[43m(\u001b[49m\u001b[43mrole\u001b[49m\u001b[43m=\u001b[49m\u001b[43mrole\u001b[49m\u001b[43m,\u001b[49m\u001b[43m \u001b[49m\u001b[43mparts\u001b[49m\u001b[43m=\u001b[49m\u001b[43mparts\u001b[49m\u001b[43m)\u001b[49m)\n\u001b[32m    419\u001b[39m \u001b[38;5;28;01mreturn\u001b[39;00m system_instruction, messages\n",
      "\u001b[36mFile \u001b[39m\u001b[32m~/.conda/envs/PA/lib/python3.11/site-packages/proto/message.py:734\u001b[39m, in \u001b[36mMessage.__init__\u001b[39m\u001b[34m(self, mapping, ignore_unknown_fields, **kwargs)\u001b[39m\n\u001b[32m    731\u001b[39m         params[key] = pb_value\n\u001b[32m    733\u001b[39m \u001b[38;5;66;03m# Create the internal protocol buffer.\u001b[39;00m\n\u001b[32m--> \u001b[39m\u001b[32m734\u001b[39m \u001b[38;5;28msuper\u001b[39m().\u001b[34m__setattr__\u001b[39m(\u001b[33m\"\u001b[39m\u001b[33m_pb\u001b[39m\u001b[33m\"\u001b[39m, \u001b[38;5;28;43mself\u001b[39;49m\u001b[43m.\u001b[49m\u001b[43m_meta\u001b[49m\u001b[43m.\u001b[49m\u001b[43mpb\u001b[49m\u001b[43m(\u001b[49m\u001b[43m*\u001b[49m\u001b[43m*\u001b[49m\u001b[43mparams\u001b[49m\u001b[43m)\u001b[49m)\n",
      "\u001b[31mDecodeError\u001b[39m: Error parsing message with type 'google.ai.generativelanguage.v1beta.Part'"
     ]
    }
   ],
   "source": [
    "# 4. Report Agent: Generate the final report\n",
    "print(\"\\nStep 4: Reporting - Generating final analysis report...\")\n",
    "report_updates = report_agent_node(state)\n",
    "state = state.copy(update=report_updates)\n",
    "print(\"Output: Updated state with the final report.\")"
   ]
  },
  {
   "cell_type": "code",
   "execution_count": null,
   "id": "a2a331d9",
   "metadata": {},
   "outputs": [
    {
     "name": "stdout",
     "output_type": "stream",
     "text": [
      "\n",
      "--- Workflow Finished ---\n"
     ]
    },
    {
     "ename": "AttributeError",
     "evalue": "'PHMState' object has no attribute 'get'",
     "output_type": "error",
     "traceback": [
      "\u001b[31m---------------------------------------------------------------------------\u001b[39m",
      "\u001b[31mAttributeError\u001b[39m                            Traceback (most recent call last)",
      "\u001b[36mCell\u001b[39m\u001b[36m \u001b[39m\u001b[32mIn[7]\u001b[39m\u001b[32m, line 2\u001b[39m\n\u001b[32m      1\u001b[39m \u001b[38;5;28;01mfrom\u001b[39;00m\u001b[38;5;250m \u001b[39m\u001b[34;01msrc\u001b[39;00m\u001b[34;01m.\u001b[39;00m\u001b[34;01mutils\u001b[39;00m\u001b[38;5;250m \u001b[39m\u001b[38;5;28;01mimport\u001b[39;00m generate_final_report\n\u001b[32m----> \u001b[39m\u001b[32m2\u001b[39m report = \u001b[43mgenerate_final_report\u001b[49m\u001b[43m(\u001b[49m\u001b[43mstate\u001b[49m\u001b[43m,\u001b[49m\u001b[33;43m'\u001b[39;49m\u001b[33;43m./src/reports/final_report.md\u001b[39;49m\u001b[33;43m'\u001b[39;49m\u001b[43m)\u001b[49m\n\u001b[32m      3\u001b[39m \u001b[38;5;28mprint\u001b[39m(\u001b[33m\"\u001b[39m\u001b[38;5;130;01m\\n\u001b[39;00m\u001b[33mFinal Report:\u001b[39m\u001b[33m\"\u001b[39m)\n\u001b[32m      4\u001b[39m \u001b[38;5;28mprint\u001b[39m(report)\n",
      "\u001b[36mFile \u001b[39m\u001b[32m<string>:6\u001b[39m, in \u001b[36mgenerate_final_report\u001b[39m\u001b[34m(final_state, report_path)\u001b[39m\n",
      "\u001b[36mFile \u001b[39m\u001b[32m~/.conda/envs/PA/lib/python3.11/site-packages/pydantic/main.py:991\u001b[39m, in \u001b[36mBaseModel.__getattr__\u001b[39m\u001b[34m(self, item)\u001b[39m\n\u001b[32m    988\u001b[39m     \u001b[38;5;28;01mreturn\u001b[39;00m \u001b[38;5;28msuper\u001b[39m().\u001b[34m__getattribute__\u001b[39m(item)  \u001b[38;5;66;03m# Raises AttributeError if appropriate\u001b[39;00m\n\u001b[32m    989\u001b[39m \u001b[38;5;28;01melse\u001b[39;00m:\n\u001b[32m    990\u001b[39m     \u001b[38;5;66;03m# this is the current error\u001b[39;00m\n\u001b[32m--> \u001b[39m\u001b[32m991\u001b[39m     \u001b[38;5;28;01mraise\u001b[39;00m \u001b[38;5;167;01mAttributeError\u001b[39;00m(\u001b[33mf\u001b[39m\u001b[33m'\u001b[39m\u001b[38;5;132;01m{\u001b[39;00m\u001b[38;5;28mtype\u001b[39m(\u001b[38;5;28mself\u001b[39m).\u001b[34m__name__\u001b[39m\u001b[38;5;132;01m!r}\u001b[39;00m\u001b[33m object has no attribute \u001b[39m\u001b[38;5;132;01m{\u001b[39;00mitem\u001b[38;5;132;01m!r}\u001b[39;00m\u001b[33m'\u001b[39m)\n",
      "\u001b[31mAttributeError\u001b[39m: 'PHMState' object has no attribute 'get'"
     ]
    }
   ],
   "source": [
    "from src.utils import generate_final_report\n",
    "report = generate_final_report(state,'./src/reports/final_report.md')\n",
    "print(\"\\nFinal Report:\")\n",
    "print(report)"
   ]
  },
  {
   "cell_type": "markdown",
   "id": "1f952500",
   "metadata": {},
   "source": [
    "## u-map"
   ]
  },
  {
   "cell_type": "code",
   "execution_count": 10,
   "id": "3b6551b6",
   "metadata": {},
   "outputs": [],
   "source": [
    "from src.utils.visualization import visualize_datasets_umap"
   ]
  },
  {
   "cell_type": "code",
   "execution_count": 11,
   "id": "1029dc20",
   "metadata": {},
   "outputs": [
    {
     "name": "stdout",
     "output_type": "stream",
     "text": [
      "--- Generating UMAP visualizations for 38 datasets ---\n",
      "Processing: hilbert_envelope_01_ch1\n",
      "  Saved visualization to /home/lq/LQcode/2_project/PHMBench/PHMGA/save/exp2/hilbert_envelope_01_ch1_umap.png\n",
      "Processing: hilbert_envelope_02_ch2\n",
      "  Saved visualization to /home/lq/LQcode/2_project/PHMBench/PHMGA/save/exp2/hilbert_envelope_02_ch2_umap.png\n",
      "Processing: fft_03_ch1\n",
      "  Saved visualization to /home/lq/LQcode/2_project/PHMBench/PHMGA/save/exp2/fft_03_ch1_umap.png\n",
      "Processing: fft_04_ch2\n",
      "  Saved visualization to /home/lq/LQcode/2_project/PHMBench/PHMGA/save/exp2/fft_04_ch2_umap.png\n",
      "Processing: rms_05_ch1\n",
      "  Saved visualization to /home/lq/LQcode/2_project/PHMBench/PHMGA/save/exp2/rms_05_ch1_umap.png\n",
      "Processing: rms_06_ch2\n",
      "  Saved visualization to /home/lq/LQcode/2_project/PHMBench/PHMGA/save/exp2/rms_06_ch2_umap.png\n",
      "Processing: kurtosis_01_hilbert_envelope_01_ch1\n",
      "  Saved visualization to /home/lq/LQcode/2_project/PHMBench/PHMGA/save/exp2/kurtosis_01_hilbert_envelope_01_ch1_umap.png\n",
      "Processing: kurtosis_02_hilbert_envelope_02_ch2\n",
      "  Saved visualization to /home/lq/LQcode/2_project/PHMBench/PHMGA/save/exp2/kurtosis_02_hilbert_envelope_02_ch2_umap.png\n",
      "Processing: spectral_kurtosis_03_fft_03_ch1\n",
      "  Saved visualization to /home/lq/LQcode/2_project/PHMBench/PHMGA/save/exp2/spectral_kurtosis_03_fft_03_ch1_umap.png\n",
      "Processing: spectral_kurtosis_04_fft_04_ch2\n",
      "  Saved visualization to /home/lq/LQcode/2_project/PHMBench/PHMGA/save/exp2/spectral_kurtosis_04_fft_04_ch2_umap.png\n",
      "Processing: entropy_05_ch1\n",
      "  Saved visualization to /home/lq/LQcode/2_project/PHMBench/PHMGA/save/exp2/entropy_05_ch1_umap.png\n",
      "Processing: entropy_06_ch2\n",
      "  Saved visualization to /home/lq/LQcode/2_project/PHMBench/PHMGA/save/exp2/entropy_06_ch2_umap.png\n",
      "Processing: rms_01_hilbert_envelope_01_ch1\n",
      "  Saved visualization to /home/lq/LQcode/2_project/PHMBench/PHMGA/save/exp2/rms_01_hilbert_envelope_01_ch1_umap.png\n",
      "Processing: rms_02_hilbert_envelope_02_ch2\n",
      "  Saved visualization to /home/lq/LQcode/2_project/PHMBench/PHMGA/save/exp2/rms_02_hilbert_envelope_02_ch2_umap.png\n",
      "Processing: spectral_centroid_03_fft_03_ch1\n",
      "  Saved visualization to /home/lq/LQcode/2_project/PHMBench/PHMGA/save/exp2/spectral_centroid_03_fft_03_ch1_umap.png\n",
      "Processing: spectral_centroid_04_fft_04_ch2\n",
      "  Saved visualization to /home/lq/LQcode/2_project/PHMBench/PHMGA/save/exp2/spectral_centroid_04_fft_04_ch2_umap.png\n",
      "Processing: crest_factor_05_ch1\n",
      "  Saved visualization to /home/lq/LQcode/2_project/PHMBench/PHMGA/save/exp2/crest_factor_05_ch1_umap.png\n",
      "Processing: crest_factor_06_ch2\n",
      "  Saved visualization to /home/lq/LQcode/2_project/PHMBench/PHMGA/save/exp2/crest_factor_06_ch2_umap.png\n",
      "Processing: band_power_07_fft_03_ch1\n",
      "  Saved visualization to /home/lq/LQcode/2_project/PHMBench/PHMGA/save/exp2/band_power_07_fft_03_ch1_umap.png\n",
      "Processing: band_power_08_fft_04_ch2\n",
      "  Saved visualization to /home/lq/LQcode/2_project/PHMBench/PHMGA/save/exp2/band_power_08_fft_04_ch2_umap.png\n",
      "Processing: std_01_hilbert_envelope_01_ch1\n",
      "  Saved visualization to /home/lq/LQcode/2_project/PHMBench/PHMGA/save/exp2/std_01_hilbert_envelope_01_ch1_umap.png\n",
      "Processing: std_02_hilbert_envelope_02_ch2\n",
      "  Saved visualization to /home/lq/LQcode/2_project/PHMBench/PHMGA/save/exp2/std_02_hilbert_envelope_02_ch2_umap.png\n",
      "Processing: spectral_skewness_03_fft_03_ch1\n",
      "  Saved visualization to /home/lq/LQcode/2_project/PHMBench/PHMGA/save/exp2/spectral_skewness_03_fft_03_ch1_umap.png\n",
      "Processing: spectral_skewness_04_fft_04_ch2\n",
      "  Saved visualization to /home/lq/LQcode/2_project/PHMBench/PHMGA/save/exp2/spectral_skewness_04_fft_04_ch2_umap.png\n",
      "Processing: spectral_flatness_05_fft_03_ch1\n",
      "  Saved visualization to /home/lq/LQcode/2_project/PHMBench/PHMGA/save/exp2/spectral_flatness_05_fft_03_ch1_umap.png\n",
      "Processing: spectral_flatness_06_fft_04_ch2\n",
      "  Saved visualization to /home/lq/LQcode/2_project/PHMBench/PHMGA/save/exp2/spectral_flatness_06_fft_04_ch2_umap.png\n",
      "Processing: skew_07_ch1\n",
      "  Saved visualization to /home/lq/LQcode/2_project/PHMBench/PHMGA/save/exp2/skew_07_ch1_umap.png\n",
      "Processing: skew_08_ch2\n",
      "  Saved visualization to /home/lq/LQcode/2_project/PHMBench/PHMGA/save/exp2/skew_08_ch2_umap.png\n",
      "Processing: mean_01_hilbert_envelope_01_ch1\n",
      "  Saved visualization to /home/lq/LQcode/2_project/PHMBench/PHMGA/save/exp2/mean_01_hilbert_envelope_01_ch1_umap.png\n",
      "Processing: mean_02_hilbert_envelope_02_ch2\n",
      "  Saved visualization to /home/lq/LQcode/2_project/PHMBench/PHMGA/save/exp2/mean_02_hilbert_envelope_02_ch2_umap.png\n",
      "Processing: mean_03_fft_03_ch1\n",
      "  Saved visualization to /home/lq/LQcode/2_project/PHMBench/PHMGA/save/exp2/mean_03_fft_03_ch1_umap.png\n",
      "Processing: mean_04_fft_04_ch2\n",
      "  Saved visualization to /home/lq/LQcode/2_project/PHMBench/PHMGA/save/exp2/mean_04_fft_04_ch2_umap.png\n",
      "Processing: std_05_hilbert_envelope_01_ch1\n",
      "  Saved visualization to /home/lq/LQcode/2_project/PHMBench/PHMGA/save/exp2/std_05_hilbert_envelope_01_ch1_umap.png\n",
      "Processing: std_06_hilbert_envelope_02_ch2\n",
      "  Saved visualization to /home/lq/LQcode/2_project/PHMBench/PHMGA/save/exp2/std_06_hilbert_envelope_02_ch2_umap.png\n",
      "Processing: std_07_fft_03_ch1\n",
      "  Saved visualization to /home/lq/LQcode/2_project/PHMBench/PHMGA/save/exp2/std_07_fft_03_ch1_umap.png\n",
      "Processing: std_08_fft_04_ch2\n",
      "  Saved visualization to /home/lq/LQcode/2_project/PHMBench/PHMGA/save/exp2/std_08_fft_04_ch2_umap.png\n",
      "Processing: mean_09_band_power_07_fft_03_ch1\n",
      "  Saved visualization to /home/lq/LQcode/2_project/PHMBench/PHMGA/save/exp2/mean_09_band_power_07_fft_03_ch1_umap.png\n",
      "Processing: mean_10_band_power_08_fft_04_ch2\n",
      "  Saved visualization to /home/lq/LQcode/2_project/PHMBench/PHMGA/save/exp2/mean_10_band_power_08_fft_04_ch2_umap.png\n",
      "\n",
      "--- UMAP visualization process finished. ---\n"
     ]
    }
   ],
   "source": [
    "save_dir = '/home/lq/LQcode/2_project/PHMBench/PHMGA/save/exp2/'\n",
    "visualize_datasets_umap(datasets, save_dir=save_dir)"
   ]
  },
  {
   "cell_type": "markdown",
   "id": "668af993",
   "metadata": {},
   "source": [
    "# save state"
   ]
  },
  {
   "cell_type": "code",
   "execution_count": 7,
   "id": "4ad83b9e",
   "metadata": {},
   "outputs": [
    {
     "data": {
      "text/plain": [
       "'/home/lq/LQcode/2_project/PHMBench/PHMGA/save/exp2.5/exp2.5_built_state.pkl'"
      ]
     },
     "execution_count": 7,
     "metadata": {},
     "output_type": "execute_result"
    }
   ],
   "source": [
    "state_save_path = config['state_save_path']\n",
    "state_save_path\n"
   ]
  },
  {
   "cell_type": "code",
   "execution_count": 8,
   "id": "83b7b6e1",
   "metadata": {},
   "outputs": [
    {
     "name": "stdout",
     "output_type": "stream",
     "text": [
      "\n",
      "--- Saving final state to /home/lq/LQcode/2_project/PHMBench/PHMGA/save/exp2.5/exp2.5_built_state.pkl ---\n",
      "\n",
      "--- Saving state to /home/lq/LQcode/2_project/PHMBench/PHMGA/save/exp2.5/exp2.5_built_state.pkl ---\n",
      "...done.\n"
     ]
    },
    {
     "data": {
      "text/plain": [
       "True"
      ]
     },
     "execution_count": 8,
     "metadata": {},
     "output_type": "execute_result"
    }
   ],
   "source": [
    "\n",
    "# Save the final state\n",
    "print(f\"\\n--- Saving final state to {state_save_path} ---\")\n",
    "save_state(state, state_save_path)"
   ]
  },
  {
   "cell_type": "markdown",
   "id": "6dc34f5a",
   "metadata": {},
   "source": [
    "# case 2.0"
   ]
  },
  {
   "cell_type": "markdown",
   "id": "bdc7b44a",
   "metadata": {},
   "source": [
    "# case rerun new"
   ]
  },
  {
   "cell_type": "markdown",
   "id": "54068062",
   "metadata": {},
   "source": [
    "# new data"
   ]
  }
 ],
 "metadata": {
  "kernelspec": {
   "display_name": "PA",
   "language": "python",
   "name": "python3"
  },
  "language_info": {
   "codemirror_mode": {
    "name": "ipython",
    "version": 3
   },
   "file_extension": ".py",
   "mimetype": "text/x-python",
   "name": "python",
   "nbconvert_exporter": "python",
   "pygments_lexer": "ipython3",
   "version": "3.11.13"
  }
 },
 "nbformat": 4,
 "nbformat_minor": 5
}
