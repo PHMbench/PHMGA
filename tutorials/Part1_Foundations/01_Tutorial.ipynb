{
 "cells": [
  {
   "cell_type": "markdown",
   "metadata": {},
   "source": [
    "# Part 1: Foundations - Graph Agent 基础入门\n",
    "\n",
    "**学习目标**：Agent概念、LLM Provider、Graph Agent实现\n",
    "\n",
    "**预计时长**：1.5-2小时\n",
    "\n",
    "📚 **详细文档**：请先阅读 [README.md](README.md) 了解理论背景"
   ]
  },
  {
   "cell_type": "code",
   "execution_count": null,
   "metadata": {},
   "outputs": [],
   "source": "# 环境设置和依赖导入\nimport sys\nfrom pathlib import Path\n\n# 添加tutorials目录到路径 (修复导入路径问题)\ntutorials_dir = Path.cwd().parent if Path.cwd().name != 'tutorials' else Path.cwd()\nsys.path.insert(0, str(tutorials_dir))\n\ntry:\n    # 导入我们的模块 (使用正确的路径)\n    from Part1_Foundations.modules import agent_basics, llm_providers_unified, graph_agent_intro\n    print(\"✅ 所有模块导入成功\")\nexcept ImportError as e:\n    print(f\"⚠️ 模块导入失败: {e}\")\n    print(\"请确保您在tutorials目录中运行此notebook\")\n    # 使用模拟模式继续演示\n    print(\"🔄 启用模拟模式进行演示...\")"
  },
  {
   "cell_type": "code",
   "execution_count": null,
   "metadata": {},
   "outputs": [],
   "source": "# 1. Agent基础概念演示\nprint(\"🤖 Agent基础概念\")\n\ntry:\n    # 演示简单Agent (修复类名: SimpleAgent -> SimpleRuleAgent)\n    simple_agent = agent_basics.SimpleRuleAgent(\"演示Agent\")\n    result = simple_agent.run_cycle(\"轴承温度异常，需要诊断\")\n    print(f\"Simple Rule Agent结果: {result.get('action', 'N/A')} - {result.get('description', 'N/A')}\")\n    \n    # 演示Agent演进\n    print(\"\\n📈 Agent演进演示:\")\n    rule_agent, reactive_agent, learning_agent = agent_basics.demonstrate_agent_evolution()\n    \nexcept Exception as e:\n    print(f\"⚠️ 演示失败: {e}\")\n    print(\"💡 提示: 确保模块正确导入并检查类名\")"
  },
  {
   "cell_type": "code",
   "execution_count": null,
   "metadata": {},
   "outputs": [],
   "source": "# 2. LLM Provider统一接口\nprint(\"🔧 LLM Provider集成\")\n\ntry:\n    # 检查可用的Provider\n    available_providers = llm_providers_unified.UnifiedLLMProvider.list_available_providers()\n    print(f\"可用Provider: {list(available_providers.keys())}\")\n    \n    # 获取最佳Provider\n    best_provider = llm_providers_unified.UnifiedLLMProvider.get_best_available_provider()\n    print(f\"推荐使用: {best_provider}\")\n    \n    # 测试LLM调用\n    if best_provider != \"mock\":\n        llm = llm_providers_unified.create_llm(best_provider)\n        response = llm.invoke(\"什么是预测性健康管理？\")\n        print(f\"LLM回答: {response.content[:100]}...\")\n    else:\n        print(\"使用Mock Provider进行演示\")\n        mock_response = \"预测性健康管理(PHM)是通过监测设备状态，预测故障发生时间，优化维护策略的技术。\"\n        print(f\"Mock回答: {mock_response}\")\n        \nexcept Exception as e:\n    print(f\"⚠️ LLM Provider演示失败: {e}\")\n    print(\"💡 提示: 请检查API密钥配置或使用Mock模式\")"
  },
  {
   "cell_type": "code",
   "execution_count": null,
   "metadata": {},
   "outputs": [],
   "source": "# 3. 简单Graph Agent\nprint(\"🕸️ Graph Agent基础\")\n\ntry:\n    # 创建简单Graph Agent\n    simple_graph = graph_agent_intro.SimpleGraphAgent()\n    result = simple_graph.run(\"轴承温度传感器读数异常\")\n    \n    print(f\"输入: 轴承温度传感器读数异常\")\n    print(f\"执行步骤: {' → '.join(result.get('steps', []))}\")\n    print(f\"结果: {result.get('result', 'N/A')}\")\n    \nexcept Exception as e:\n    print(f\"⚠️ Graph Agent演示失败: {e}\")\n    print(\"🔄 使用模拟演示:\")\n    mock_steps = [\"感知输入\", \"分析数据\", \"做出决策\", \"执行行动\"]\n    print(f\"执行步骤: {' → '.join(mock_steps)}\")\n    print(\"结果: 检测到异常，建议检查传感器连接\")"
  },
  {
   "cell_type": "code",
   "execution_count": null,
   "metadata": {},
   "outputs": [],
   "source": "# 4. LLM增强的Graph Agent\nprint(\"🧠 LLM增强Graph Agent\")\n\ntry:\n    # 使用之前获取的最佳Provider\n    if 'best_provider' in locals():\n        llm_graph = graph_agent_intro.LLMGraphAgent(llm_provider=best_provider)\n    else:\n        llm_graph = graph_agent_intro.LLMGraphAgent(llm_provider=\"mock\")\n    \n    # 测试复杂场景\n    scenario = \"设备振动频率突然增加，幅度超过正常值30%\"\n    result = llm_graph.run(scenario)\n    \n    print(f\"场景: {scenario}\")\n    print(f\"执行步骤: {' → '.join(result.get('steps', []))}\")\n    analysis = result.get('result', result.get('analysis', 'N/A'))\n    if isinstance(analysis, str) and len(analysis) > 200:\n        analysis = analysis[:200] + \"...\"\n    print(f\"LLM分析: {analysis}\")\n    \nexcept Exception as e:\n    print(f\"⚠️ LLM Graph Agent演示失败: {e}\")\n    print(\"🔄 使用模拟演示:\")\n    print(f\"场景: {scenario}\")\n    print(\"执行步骤: 数据预处理 → 特征提取 → LLM分析 → 决策生成\")\n    print(\"LLM分析: 振动频率异常增加30%可能指示轴承磨损或不平衡。建议立即检查轴承状态并考虑停机维护...\")"
  },
  {
   "cell_type": "code",
   "execution_count": null,
   "metadata": {},
   "outputs": [],
   "source": "# 5. 条件路由Graph Agent\nprint(\"🌿 条件路由演示\")\n\ntry:\n    # 使用最佳Provider创建条件Graph Agent\n    if 'best_provider' in locals():\n        conditional_graph = graph_agent_intro.ConditionalGraphAgent(llm_provider=best_provider)\n    else:\n        conditional_graph = graph_agent_intro.ConditionalGraphAgent(llm_provider=\"mock\")\n    \n    # 测试不同严重程度的数据\n    test_cases = [\n        {\"name\": \"正常\", \"data\": {\"temperature\": 0.45, \"pressure\": 0.52, \"vibration\": 0.48}},\n        {\"name\": \"异常\", \"data\": {\"temperature\": 0.95, \"pressure\": 0.15, \"vibration\": 0.88}}\n    ]\n    \n    for case in test_cases:\n        result = conditional_graph.run(case[\"data\"])\n        print(f\"\\n{case['name']}: {case['data']}\")\n        \n        steps = result.get('steps_completed', result.get('steps', []))\n        print(f\"路径: {' → '.join(steps)}\")\n        \n        diagnosis = result.get('diagnosis', result.get('result', 'N/A'))\n        if isinstance(diagnosis, str) and len(diagnosis) > 80:\n            diagnosis = diagnosis[:80] + \"...\"\n        print(f\"诊断: {diagnosis}\")\n        \nexcept Exception as e:\n    print(f\"⚠️ 条件路由演示失败: {e}\")\n    print(\"🔄 使用模拟演示:\")\n    \n    # 模拟演示\n    for case in [{\"name\": \"正常\", \"data\": {\"temperature\": 0.45, \"pressure\": 0.52, \"vibration\": 0.48}},\n                 {\"name\": \"异常\", \"data\": {\"temperature\": 0.95, \"pressure\": 0.15, \"vibration\": 0.88}}]:\n        print(f\"\\n{case['name']}: {case['data']}\")\n        if case['name'] == '正常':\n            print(\"路径: 数据收集 → 正常路径 → 监控模式\")\n            print(\"诊断: 所有参数在正常范围内，系统运行良好\")\n        else:\n            print(\"路径: 数据收集 → 异常检测 → 紧急响应 → 诊断分析\")\n            print(\"诊断: 多项参数异常，温度过高且压力不足，需要立即停机检修\")"
  },
  {
   "cell_type": "code",
   "execution_count": null,
   "metadata": {},
   "outputs": [],
   "source": "# 6. Provider性能对比\nprint(\"📊 LLM Provider性能对比\")\n\ntry:\n    # 运行性能基准测试\n    comparison_results = llm_providers_unified.demo_provider_comparison()\n    print(\"✅ 性能对比完成 - 详细结果请查看上面的输出\")\n    \nexcept Exception as e:\n    print(f\"⚠️ 性能对比失败: {e}\")\n    print(\"🔄 模拟对比结果:\")\n    \n    providers = [\"Google Gemini\", \"OpenAI GPT\", \"Mock Provider\"]\n    metrics = [\"响应时间\", \"准确性\", \"成本效率\", \"可用性\"]\n    \n    print(\"Provider性能对比:\")\n    for provider in providers:\n        print(f\"\\n{provider}:\")\n        if \"Mock\" in provider:\n            print(\"  响应时间: 极快 (0.01s)\")\n            print(\"  准确性: 模拟 (N/A)\")\n            print(\"  成本效率: 免费\")\n            print(\"  可用性: 100%\")\n        else:\n            print(\"  响应时间: 中等 (1-3s)\")\n            print(\"  准确性: 高\")\n            print(\"  成本效率: 中等\")\n            print(\"  可用性: 取决于API密钥配置\")\n    \n    print(\"\\n💡 建议: 配置API密钥以使用真实LLM进行更好的体验\")"
  },
  {
   "cell_type": "code",
   "execution_count": null,
   "metadata": {},
   "outputs": [],
   "source": "# 7. 实践练习\nprint(\"📝 实践练习\")\n\ntry:\n    # 练习：创建自定义诊断Agent (修复类继承)\n    class MyDiagnosticAgent(agent_basics.SimpleRuleAgent):\n        def think(self, perception):\n            # 获取原始输入用于分析\n            raw_input = perception.get('raw_input', '').lower()\n            \n            # TODO: 添加您的诊断逻辑\n            if \"温度\" in raw_input and \"异常\" in raw_input:\n                return {\n                    \"action\": \"temperature_check\",\n                    \"confidence\": 0.9,\n                    \"reasoning\": \"高温警告：检查散热系统\"\n                }\n            elif \"振动\" in raw_input:\n                return {\n                    \"action\": \"vibration_analysis\",\n                    \"confidence\": 0.8,\n                    \"reasoning\": \"振动异常：检查轴承和平衡\"\n                }\n            else:\n                return super().think(perception)\n        \n        def act(self, decision):\n            # 自定义行动映射\n            custom_actions = {\n                \"temperature_check\": \"启动散热系统检查，监控温度传感器\",\n                \"vibration_analysis\": \"进行振动分析，检查机械组件\"\n            }\n            \n            if decision[\"action\"] in custom_actions:\n                return {\n                    \"action\": decision[\"action\"],\n                    \"description\": custom_actions[decision[\"action\"]],\n                    \"status\": \"completed\",\n                    \"custom\": True\n                }\n            else:\n                return super().act(decision)\n    \n    # 测试自定义Agent\n    my_agent = MyDiagnosticAgent(\"自定义诊断Agent\")\n    \n    test_cases = [\n        \"轴承温度异常上升\",\n        \"设备振动频率增加\",\n        \"系统压力正常\"\n    ]\n    \n    for test_case in test_cases:\n        result = my_agent.run_cycle(test_case)\n        print(f\"\\n测试: {test_case}\")\n        print(f\"结果: {result.get('description', result.get('action', 'N/A'))}\")\n    \n    print(\"\\n💡 挑战完成！您已成功创建了自定义诊断Agent\")\n    print(\"🚀 进阶挑战: 尝试添加更多传感器类型的处理逻辑\")\n    \nexcept Exception as e:\n    print(f\"⚠️ 实践练习失败: {e}\")\n    print(\"🔄 模拟练习结果:\")\n    print(\"测试: 轴承温度异常上升 -> 启动散热系统检查\")\n    print(\"测试: 设备振动频率增加 -> 进行振动分析\")\n    print(\"测试: 系统压力正常 -> 继续正常运行\")\n    print(\"\\n💡 提示: 检查类继承和方法实现\")"
  },
  {
   "cell_type": "markdown",
   "metadata": {},
   "source": [
    "---\n",
    "\n",
    "## 🎯 Part 1 总结\n",
    "\n",
    "您已经学会了：\n",
    "- ✅ Agent基础概念和工作原理\n",
    "- ✅ LLM Provider的统一使用\n",
    "- ✅ Graph Agent的创建和配置\n",
    "- ✅ 条件路由和状态管理\n",
    "\n",
    "### 下一步\n",
    "\n",
    "继续学习 **Part 2: Building Blocks** - 状态管理和LangGraph工作流\n",
    "\n",
    "<div style=\"text-align: center; margin: 20px;\">\n",
    "    <a href=\"../Part2_Building_Blocks/02_Tutorial.ipynb\" \n",
    "       style=\"background: #2196F3; color: white; padding: 10px 20px; text-decoration: none; border-radius: 5px;\">\n",
    "       🏗️ 继续 Part 2\n",
    "    </a>\n",
    "</div>"
   ]
  }
 ],
 "metadata": {
  "kernelspec": {
   "display_name": "PA",
   "language": "python",
   "name": "python3"
  },
  "language_info": {
   "codemirror_mode": {
    "name": "ipython",
    "version": 3
   },
   "file_extension": ".py",
   "mimetype": "text/x-python",
   "name": "python",
   "nbconvert_exporter": "python",
   "pygments_lexer": "ipython3",
   "version": "3.11.13"
  }
 },
 "nbformat": 4,
 "nbformat_minor": 4
}