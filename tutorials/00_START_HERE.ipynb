{
 "cells": [
  {
   "cell_type": "markdown",
   "metadata": {},
   "source": "# 🚀 PHMGA Tutorial Series - PHM Graph Agent 循序渐进学习路径\n\n欢迎来到 **PHM Graph Agent (PHMGA)** 系统教程！本教程将带您从基础概念到生产部署，完整掌握基于图结构的智能预测性健康管理系统。\n\n## 📚 课程结构\n\n| Part | 主题 | 时长 | 重点内容 |\n|------|------|------|----------|\n| **Part 1** | **Foundations 基础** | 2-3小时 | Graph Agent概念, LLM Provider集成 |\n| **Part 2** | **Building Blocks 构建块** | 3-4小时 | 状态管理, LangGraph, Router模式 |\n| **Part 3** | **Agent Architectures 架构** | 4-5小时 | ReAct模式, 多Agent协作, 图工作流 |\n| **Part 4** | **PHM Integration 集成** | 5-6小时 | 完整PHM系统, 信号处理DAG, 生产部署 |\n| **Part 5** | **Complete PHMGA 完整系统** | 4-5小时 | 实际案例, 生产部署, 系统优化 |\n\n## 🎯 学习目标\n\n完成本教程后，您将能够：\n\n- ✅ **理解Graph Agent架构** - 掌握图结构智能体的核心概念\n- ✅ **多LLM Provider切换** - 无缝使用Google、OpenAI、通义千问、智谱GLM\n- ✅ **构建ReAct模式Agent** - 实现推理-行动循环的智能体\n- ✅ **设计多Agent协作系统** - 创建专业化的Agent团队\n- ✅ **集成PHM框架** - 使用真实的预测性维护组件\n- ✅ **部署生产系统** - 监控、扩展和维护PHM系统\n\n## 🛠️ 技术栈\n\n本教程使用的主要技术：\n\n- **LangGraph** - 图结构工作流框架\n- **LangChain** - 统一的LLM接口\n- **Multiple LLM Providers** - Google Gemini, OpenAI GPT, 通义千问, 智谱GLM\n- **NumPy/SciPy** - 信号处理和科学计算\n- **Jupyter Notebooks** - 交互式学习环境"
  },
  {
   "cell_type": "markdown",
   "metadata": {},
   "source": [
    "## 🔧 快速开始\n",
    "\n",
    "### 第一步：环境配置\n",
    "\n",
    "首先，请运行环境配置笔记本来设置您的开发环境："
   ]
  },
  {
   "cell_type": "code",
   "execution_count": 2,
   "metadata": {},
   "outputs": [
    {
     "data": {
      "text/html": [
       "\n",
       "<div style=\"background-color: #e7f3ff; border: 2px solid #2196F3; border-radius: 10px; padding: 20px; margin: 10px 0;\">\n",
       "    <h3 style=\"color: #1976D2; margin-top: 0;\">📦 环境配置</h3>\n",
       "    <p>请先配置您的开发环境和API密钥：</p>\n",
       "    <a href=\"setup_environment.ipynb\" target=\"_blank\" \n",
       "       style=\"background-color: #2196F3; color: white; padding: 10px 20px; text-decoration: none; border-radius: 5px; font-weight: bold;\">\n",
       "       🔧 打开环境配置向导\n",
       "    </a>\n",
       "</div>\n"
      ],
      "text/plain": [
       "<IPython.core.display.HTML object>"
      ]
     },
     "metadata": {},
     "output_type": "display_data"
    }
   ],
   "source": [
    "from IPython.display import display, HTML\n",
    "\n",
    "# 显示环境配置链接\n",
    "display(HTML('''\n",
    "<div style=\"background-color: #e7f3ff; border: 2px solid #2196F3; border-radius: 10px; padding: 20px; margin: 10px 0;\">\n",
    "    <h3 style=\"color: #1976D2; margin-top: 0;\">📦 环境配置</h3>\n",
    "    <p>请先配置您的开发环境和API密钥：</p>\n",
    "    <a href=\"setup_environment.ipynb\" target=\"_blank\" \n",
    "       style=\"background-color: #2196F3; color: white; padding: 10px 20px; text-decoration: none; border-radius: 5px; font-weight: bold;\">\n",
    "       🔧 打开环境配置向导\n",
    "    </a>\n",
    "</div>\n",
    "'''))"
   ]
  },
  {
   "cell_type": "markdown",
   "metadata": {},
   "source": [
    "### 第二步：检查环境状态"
   ]
  },
  {
   "cell_type": "code",
   "execution_count": 3,
   "metadata": {},
   "outputs": [
    {
     "name": "stdout",
     "output_type": "stream",
     "text": [
      "🔍 检查依赖包状态:\n",
      "  langchain: ✅ 已安装\n",
      "  langgraph: ✅ 已安装\n",
      "  langchain-core: ✅ 已安装\n",
      "  langchain-community: ✅ 已安装\n",
      "  langchain-google-genai: ✅ 已安装\n",
      "  langchain-openai: ✅ 已安装\n",
      "  numpy: ✅ 已安装\n",
      "  matplotlib: ✅ 已安装\n",
      "  jupyter: ✅ 已安装\n",
      "\n",
      "🔑 检查API密钥状态:\n",
      "  Google Gemini: ✅ 已配置\n",
      "  OpenAI GPT: ✅ 已配置\n",
      "  通义千问 (Tongyi/Qwen): ❌ 未配置\n",
      "  智谱GLM: ❌ 未配置\n",
      "\n",
      "✅ 可用的LLM Provider: Google Gemini, OpenAI GPT\n"
     ]
    }
   ],
   "source": [
    "import os\n",
    "import sys\n",
    "from IPython.display import display, Markdown\n",
    "import importlib.util\n",
    "\n",
    "def check_package(package_name, import_name=None):\n",
    "    \"\"\"检查包是否已安装\"\"\"\n",
    "    if import_name is None:\n",
    "        import_name = package_name\n",
    "    \n",
    "    spec = importlib.util.find_spec(import_name)\n",
    "    return spec is not None\n",
    "\n",
    "# 检查核心依赖\n",
    "dependencies = [\n",
    "    (\"langchain\", \"langchain\"),\n",
    "    (\"langgraph\", \"langgraph\"), \n",
    "    (\"langchain-core\", \"langchain_core\"),\n",
    "    (\"langchain-community\", \"langchain_community\"),\n",
    "    (\"langchain-google-genai\", \"langchain_google_genai\"),\n",
    "    (\"langchain-openai\", \"langchain_openai\"),\n",
    "    (\"numpy\", \"numpy\"),\n",
    "    (\"matplotlib\", \"matplotlib\"),\n",
    "    (\"jupyter\", \"jupyter\")\n",
    "]\n",
    "\n",
    "print(\"🔍 检查依赖包状态:\")\n",
    "dependency_status = []\n",
    "for package, import_name in dependencies:\n",
    "    status = \"✅ 已安装\" if check_package(package, import_name) else \"❌ 未安装\"\n",
    "    dependency_status.append(f\"- **{package}**: {status}\")\n",
    "    print(f\"  {package}: {status}\")\n",
    "\n",
    "print(\"\\n🔑 检查API密钥状态:\")\n",
    "api_keys = [\n",
    "    (\"GEMINI_API_KEY\", \"Google Gemini\"),\n",
    "    (\"OPENAI_API_KEY\", \"OpenAI GPT\"),\n",
    "    (\"DASHSCOPE_API_KEY\", \"通义千问 (Tongyi/Qwen)\"),\n",
    "    (\"ZHIPUAI_API_KEY\", \"智谱GLM\")\n",
    "]\n",
    "\n",
    "providers_status = []\n",
    "available_providers = []\n",
    "for key, name in api_keys:\n",
    "    if os.getenv(key):\n",
    "        status = \"✅ 已配置\"\n",
    "        available_providers.append(name)\n",
    "    else:\n",
    "        status = \"❌ 未配置\"\n",
    "    providers_status.append(f\"- **{name}**: {status}\")\n",
    "    print(f\"  {name}: {status}\")\n",
    "\n",
    "print(f\"\\n✅ 可用的LLM Provider: {', '.join(available_providers) if available_providers else '无（将使用Mock Provider）'}\")"
   ]
  },
  {
   "cell_type": "markdown",
   "metadata": {},
   "source": [
    "## 📖 学习路径导航\n",
    "\n",
    "请按照以下顺序学习各个部分。每个部分都建立在前面的基础之上："
   ]
  },
  {
   "cell_type": "code",
   "execution_count": null,
   "metadata": {},
   "outputs": [],
   "source": "from IPython.display import display, HTML\n\n# 学习路径配置\ntutorials = [\n    {\n        \"title\": \"Part 1: Foundations 基础\",\n        \"notebook\": \"Part1_Foundations/01_Tutorial.ipynb\",\n        \"theory\": \"Part1_Foundations/README.md\", \n        \"description\": \"Graph Agent概念、LLM Providers、基础实现\",\n        \"duration\": \"2-3小时\",\n        \"topics\": [\"什么是Graph Agent\", \"LangChain统一接口\", \"多Provider切换\"]\n    },\n    {\n        \"title\": \"Part 2: Building Blocks 构建块\", \n        \"notebook\": \"Part2_Building_Blocks/02_Tutorial.ipynb\",\n        \"theory\": \"Part2_Building_Blocks/README.md\",\n        \"description\": \"状态管理、LangGraph、Router模式\",\n        \"duration\": \"3-4小时\",\n        \"topics\": [\"PHMState/DAGState\", \"LangGraph工作流\", \"Router模式\"]\n    },\n    {\n        \"title\": \"Part 3: Agent Architectures 架构\",\n        \"notebook\": \"Part3_Agent_Architectures/03_Tutorial.ipynb\",\n        \"theory\": \"Part3_Agent_Architectures/README.md\",\n        \"description\": \"ReAct模式、多Agent团队、工具集成\",\n        \"duration\": \"4-5小时\",\n        \"topics\": [\"ReAct推理-行动\", \"多Agent协作\", \"条件路由\"]\n    },\n    {\n        \"title\": \"Part 4: PHM Integration 集成\",\n        \"notebook\": \"Part4_PHM_Integration/04_Tutorial.ipynb\",\n        \"theory\": \"Part4_PHM_Integration/README.md\",\n        \"description\": \"完整PHM系统、信号处理DAG、生产部署\", \n        \"duration\": \"5-6小时\",\n        \"topics\": [\"真实PHM组件\", \"轴承故障诊断\", \"生产环境部署\"]\n    },\n    {\n        \"title\": \"Part 5: Complete PHMGA 完整系统\",\n        \"notebook\": \"Part5_PHMGA_Complete/05_Tutorial.ipynb\", \n        \"theory\": \"Part5_PHMGA_Complete/README.md\",\n        \"description\": \"实际案例运行、系统优化、生产部署\",\n        \"duration\": \"4-5小时\",\n        \"topics\": [\"完整系统集成\", \"真实案例分析\", \"性能优化\"]\n    }\n]\n\n# 生成学习路径HTML - 新的模块化设计\nhtml_content = \"\"\"\n<div style=\"font-family: Arial, sans-serif;\">\n<div style=\"background-color: #fff3cd; border: 1px solid #ffeeba; border-radius: 5px; padding: 15px; margin-bottom: 20px;\">\n    <h4 style=\"color: #856404; margin: 0 0 10px 0;\">📖 新的模块化学习方式</h4>\n    <p style=\"margin: 0; color: #856404; font-size: 14px;\">每个部分包含两个文件：<strong>理论学习(README.md)</strong> 和 <strong>实践操作(Notebook)</strong>。建议先阅读理论，再进行实践。</p>\n</div>\n\"\"\"\n\nfor i, tutorial in enumerate(tutorials, 1):\n    colors = [\"#4CAF50\", \"#2196F3\", \"#FF9800\", \"#9C27B0\", \"#E91E63\"]\n    color = colors[i-1] if i <= len(colors) else \"#607D8B\"\n    \n    html_content += f\"\"\"\n    <div style=\"background-color: {color}15; border-left: 5px solid {color}; margin: 20px 0; padding: 20px; border-radius: 5px;\">\n        <h3 style=\"color: {color}; margin-top: 0; display: flex; align-items: center;\">\n            <span style=\"background-color: {color}; color: white; border-radius: 50%; width: 30px; height: 30px; display: inline-flex; align-items: center; justify-content: center; margin-right: 10px; font-size: 14px;\">{i}</span>\n            {tutorial['title']}\n        </h3>\n        <p style=\"margin: 10px 0; color: #666;\">{tutorial['description']}</p>\n        <p style=\"margin: 5px 0; font-size: 14px;\"><strong>预计时长:</strong> {tutorial['duration']}</p>\n        <p style=\"margin: 5px 0; font-size: 14px;\"><strong>主要内容:</strong> {' • '.join(tutorial['topics'])}</p>\n        <div style=\"margin-top: 15px;\">\n            <a href=\"{tutorial['theory']}\" target=\"_blank\" \n               style=\"display: inline-block; background-color: {color}; color: white; padding: 8px 16px; text-decoration: none; border-radius: 4px; margin-right: 10px; font-size: 14px;\">\n               📖 理论学习\n            </a>\n            <a href=\"{tutorial['notebook']}\" target=\"_blank\" \n               style=\"display: inline-block; background-color: {color}; color: white; padding: 8px 16px; text-decoration: none; border-radius: 4px; font-size: 14px;\">\n               💻 实践操作\n            </a>\n        </div>\n    </div>\n    \"\"\"\n\nhtml_content += \"</div>\"\ndisplay(HTML(html_content))"
  },
  {
   "cell_type": "markdown",
   "metadata": {},
   "source": [
    "## 🎓 学习建议\n",
    "\n",
    "### 📋 学习前准备\n",
    "1. **Python基础** - 熟悉Python语法和面向对象编程\n",
    "2. **Jupyter使用** - 了解如何运行Jupyter Notebook\n",
    "3. **基础概念** - 对AI Agent和LLM有基本了解\n",
    "\n",
    "### 🚀 学习策略\n",
    "- **循序渐进** - 严格按照Part 1 → 2 → 3 → 4的顺序学习\n",
    "- **动手实践** - 每个示例都要亲自运行和修改\n",
    "- **完成练习** - 每个Part的练习题都要认真完成\n",
    "- **记录笔记** - 在Notebook中添加自己的理解和注释\n",
    "\n",
    "### 📚 额外资源\n",
    "- [LangGraph 官方文档](https://langchain-ai.github.io/langgraph/)\n",
    "- [LangChain Provider 集成](https://python.langchain.com/docs/integrations/)\n",
    "- [PHM基础概念](https://en.wikipedia.org/wiki/Prognostics_and_health_management)"
   ]
  },
  {
   "cell_type": "markdown",
   "metadata": {},
   "source": [
    "## 🆘 获取帮助\n",
    "\n",
    "学习过程中遇到问题？\n",
    "\n",
    "### 常见问题\n",
    "1. **环境配置问题** - 检查Python版本和依赖安装\n",
    "2. **API密钥问题** - 确保正确设置环境变量\n",
    "3. **导入错误** - 检查PYTHONPATH是否正确设置\n",
    "\n",
    "### 调试技巧\n",
    "- 使用Mock Provider进行测试（无需API密钥）\n",
    "- 查看详细错误信息和堆栈跟踪\n",
    "- 逐步运行代码cell，找到出错位置\n",
    "\n",
    "### 联系支持\n",
    "- 项目GitHub Issues\n",
    "- 技术文档Wiki\n",
    "- 开发团队邮箱"
   ]
  },
  {
   "cell_type": "markdown",
   "metadata": {},
   "source": "---\n\n## 🎯 准备开始？\n\n1. ✅ 确保环境已正确配置\n2. ✅ 至少配置一个LLM Provider（或使用Mock）\n3. ✅ 了解学习路径和时间安排\n\n**现在就开始您的PHM Graph Agent学习之旅吧！**\n\n<div style=\"text-align: center; margin: 30px 0;\">\n    <a href=\"Part1_Foundations/README.md\" \n       style=\"background: linear-gradient(45deg, #4CAF50, #45a049); color: white; padding: 12px 25px; text-decoration: none; border-radius: 20px; font-size: 16px; font-weight: bold; box-shadow: 0 4px 8px rgba(0,0,0,0.2); margin-right: 10px;\">\n       📖 Part 1 理论\n    </a>\n    <a href=\"Part1_Foundations/01_Tutorial.ipynb\" \n       style=\"background: linear-gradient(45deg, #2196F3, #1976D2); color: white; padding: 12px 25px; text-decoration: none; border-radius: 20px; font-size: 16px; font-weight: bold; box-shadow: 0 4px 8px rgba(0,0,0,0.2);\">\n       💻 Part 1 实践\n    </a>\n</div>"
  }
 ],
 "metadata": {
  "kernelspec": {
   "display_name": "PA",
   "language": "python",
   "name": "python3"
  },
  "language_info": {
   "codemirror_mode": {
    "name": "ipython",
    "version": 3
   },
   "file_extension": ".py",
   "mimetype": "text/x-python",
   "name": "python",
   "nbconvert_exporter": "python",
   "pygments_lexer": "ipython3",
   "version": "3.11.13"
  }
 },
 "nbformat": 4,
 "nbformat_minor": 4
}