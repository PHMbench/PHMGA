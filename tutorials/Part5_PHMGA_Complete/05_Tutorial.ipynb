{
 "cells": [
  {
   "cell_type": "markdown",
   "metadata": {},
   "source": [
    "# Part 5: Complete PHMGA System - 完整PHMGA系统 🚀\n",
    "\n",
    "本教程演示完整的PHMGA系统集成，包括实际案例运行和生产部署。"
   ]
  },
  {
   "cell_type": "code",
   "execution_count": null,
   "metadata": {},
   "outputs": [],
   "source": "# 环境设置和依赖检查\nimport sys\nfrom pathlib import Path\n\n# 智能路径设置\ntutorials_dir = Path.cwd().parent if Path.cwd().name != 'tutorials' else Path.cwd()\nproject_root = tutorials_dir.parent\nsys.path.insert(0, str(project_root))\n\n# 系统组件可用性检查\ncomponents_available = {}\n\nprint(\"🔍 检查PHMGA系统组件可用性\")\nprint(\"=\"*50)\n\n# 检查核心模块\ncore_modules = {\n    'cases': ['src.cases.case1', 'src.cases.case2_predictive'],\n    'utils': ['src.utils', 'src.utils.data_loader'],\n    'model': ['src.model'],\n    'graph': ['src.phm_outer_graph'],\n    'tools': ['src.tools.signal_processing_schemas']\n}\n\nfor category, modules in core_modules.items():\n    components_available[category] = []\n    for module in modules:\n        try:\n            __import__(module)\n            components_available[category].append(module)\n            print(f\"✅ {module} 可用\")\n        except ImportError as e:\n            print(f\"⚠️ {module} 不可用: {str(e)[:50]}...\")\n\n# 决定运行模式\nif all(components_available[cat] for cat in ['cases', 'utils', 'model', 'graph', 'tools']):\n    mode = 'full_system'\n    print(\"\\n🚀 完整系统模式：所有PHMGA组件可用\")\nelif components_available['utils'] and components_available['model']:\n    mode = 'partial_system' \n    print(\"\\n🔄 部分系统模式：核心组件可用\")\nelse:\n    mode = 'demo_mode'\n    print(\"\\n💡 演示模式：使用模拟组件\")\n\nprint(f\"运行模式: {mode}\")"
  },
  {
   "cell_type": "code",
   "execution_count": null,
   "metadata": {},
   "outputs": [],
   "source": "# 运行Case1：基础故障诊断\nprint(\"🔬 执行Case1 - 轴承故障诊断\")\nprint(\"=\"*50)\n\nif mode == 'full_system' and 'src.cases.case1' in components_available['cases']:\n    try:\n        from src.cases.case1 import main as run_case1\n        result1 = run_case1()\n        print(f\"✅ Case1执行完成，结果类型: {type(result1)}\")\n        \n        # 如果结果是字典，显示关键信息\n        if isinstance(result1, dict):\n            for key, value in result1.items():\n                if isinstance(value, (str, int, float, bool)):\n                    print(f\"  {key}: {value}\")\n                else:\n                    print(f\"  {key}: {type(value)}\")\n        \n    except Exception as e:\n        print(f\"⚠️ Case1执行遇到问题: {e}\")\n        print(\"切换到演示模式...\")\n        mode = 'demo_mode'\n\nif mode in ['partial_system', 'demo_mode']:\n    print(\"🔄 Case1演示模式:\")\n    print(\"  输入: 轴承振动数据 (1000个采样点)\")\n    print(\"  预处理: 去噪、滤波、归一化\")\n    print(\"  特征提取: RMS=0.85, 峭度=4.2, 频域峰值=2.1kHz\") \n    print(\"  故障诊断: 外圈故障，置信度87%\")\n    print(\"  建议行动: 计划维护，更换轴承\")\n    print(\"  ✅ 模拟Case1执行完成\")"
  },
  {
   "cell_type": "code",
   "execution_count": null,
   "metadata": {},
   "outputs": [],
   "source": "# 运行Case2：预测性维护\nprint(\"📊 执行Case2 - 预测性维护分析\")\nprint(\"=\"*50)\n\nif mode == 'full_system' and 'src.cases.case2_predictive' in components_available['cases']:\n    try:\n        from src.cases.case2_predictive import main as run_case2\n        result2 = run_case2()\n        print(f\"✅ Case2执行完成，结果类型: {type(result2)}\")\n        \n        # 显示预测维护结果\n        if isinstance(result2, dict):\n            for key, value in result2.items():\n                if isinstance(value, (str, int, float, bool)):\n                    print(f\"  {key}: {value}\")\n                elif key == 'predictions' and isinstance(value, list):\n                    print(f\"  预测数量: {len(value)}个\")\n                else:\n                    print(f\"  {key}: {type(value)}\")\n        \n    except Exception as e:\n        print(f\"⚠️ Case2执行遇到问题: {e}\")\n        print(\"继续演示模式...\")\n\nif mode in ['partial_system', 'demo_mode'] or 'src.cases.case2_predictive' not in components_available.get('cases', []):\n    print(\"🔄 Case2演示模式:\")\n    print(\"  设备群: 5台离心泵, 3台电机, 2台压缩机\")\n    print(\"  数据分析: 30天历史趋势分析\")\n    print(\"  健康评分: 平均8.2/10，2台设备需要关注\")\n    print(\"  剩余寿命预测:\")\n    print(\"    PUMP-001: 剩余180天 (建议6个月内维护)\")\n    print(\"    MOTOR-002: 剩余45天 (建议1个月内维护)\")\n    print(\"    COMP-001: 剩余320天 (状态良好)\")\n    print(\"  维护优化: 节约维护成本15%，减少停机时间30%\")\n    print(\"  ✅ 模拟Case2预测性维护完成\")"
  },
  {
   "cell_type": "code",
   "execution_count": null,
   "metadata": {},
   "outputs": [],
   "source": "# 演示完整工作流构建\nprint(\"🏗️ 构建完整PHM工作流\")\nprint(\"=\"*50)\n\nif mode in ['full_system', 'partial_system']:\n    try:\n        # 尝试导入核心组件\n        if 'src.utils' in components_available.get('utils', []):\n            from src.utils import initialize_state\n            \n            # 初始化系统状态\n            state = initialize_state(\n                user_instruction=\"诊断轴承健康状态\",\n                metadata_path=\"data/processed/metadata.json\"\n            )\n            print(f\"✅ 系统状态初始化成功: {type(state)}\")\n        \n        if 'src.model' in components_available.get('model', []):\n            from src.model import get_llm\n            llm = get_llm()\n            print(f\"✅ LLM提供商初始化: {type(llm)}\")\n        \n        if 'src.phm_outer_graph' in components_available.get('graph', []):\n            from src.phm_outer_graph import create_phm_workflow\n            workflow = create_phm_workflow()\n            print(f\"✅ 工作流创建成功: {type(workflow)}\")\n            \n            # 尝试获取节点信息 (不同的工作流可能有不同的属性)\n            if hasattr(workflow, 'nodes'):\n                print(f\"📋 工作流节点数: {len(workflow.nodes)}\")\n            elif hasattr(workflow, '_nodes'):\n                print(f\"📋 工作流节点数: {len(workflow._nodes)}\")\n            else:\n                print(\"📋 工作流结构: 已构建完成\")\n        \n    except Exception as e:\n        print(f\"⚠️ 工作流构建遇到问题: {e}\")\n        print(\"使用演示模式...\")\n        mode = 'demo_mode'\n\nif mode == 'demo_mode':\n    print(\"🔄 工作流构建演示模式:\")\n    print(\"  ✅ 系统状态管理器: PHMState + DAGState\")\n    print(\"  ✅ LLM提供商: 多Provider支持 (Google/OpenAI/Mock)\")\n    print(\"  ✅ LangGraph工作流: START → PLAN → EXECUTE → REFLECT → REPORT → END\")\n    print(\"  ✅ Agent协调器: Plan/Execute/Reflect/Report四大核心Agent\")\n    print(\"  ✅ 信号处理引擎: 动态DAG构建和执行\")\n    print(\"  📋 工作流节点: 6个核心节点 + 条件路由\")\n    print(\"  🎯 完整PHMGA架构演示完成\")"
  },
  {
   "cell_type": "code",
   "execution_count": null,
   "metadata": {},
   "outputs": [],
   "source": "# 信号处理算子展示\nprint(\"🔧 信号处理算子生态系统\")\nprint(\"=\"*50)\n\nif mode in ['full_system', 'partial_system'] and 'src.tools.signal_processing_schemas' in components_available.get('tools', []):\n    try:\n        from src.tools.signal_processing_schemas import OP_REGISTRY, get_operator\n        \n        print(f\"📊 总算子数量: {len(OP_REGISTRY)}\")\n        \n        # 按类别展示算子\n        print(\"\\n🏷️ 算子类别:\")\n        categories = {}\n        for op_name, op_info in OP_REGISTRY.items():\n            cat = op_info.get('category', 'Other')\n            if cat not in categories:\n                categories[cat] = []\n            categories[cat].append(op_name)\n\n        for cat, ops in categories.items():\n            print(f\"  {cat}: {len(ops)} 个算子\")\n            # 显示前3个算子作为示例\n            if len(ops) <= 3:\n                for op in ops:\n                    print(f\"    - {op}\")\n            else:\n                for op in ops[:3]:\n                    print(f\"    - {op}\")\n                print(f\"    ... (还有{len(ops)-3}个)\")\n\n        # 示例算子演示\n        print(\"\\n🎯 示例算子演示:\")\n        \n        # 尝试加载常用算子\n        common_operators = ['fft', 'rms', 'mean', 'std', 'max']\n        loaded_operators = []\n        \n        for op_name in common_operators:\n            if op_name in OP_REGISTRY:\n                try:\n                    op_instance = get_operator(op_name)()\n                    loaded_operators.append(op_name)\n                    print(f\"  ✅ {op_name.upper()}算子加载成功: {type(op_instance)}\")\n                except Exception as e:\n                    print(f\"  ⚠️ {op_name.upper()}算子加载失败: {e}\")\n        \n        if loaded_operators:\n            print(f\"\\n🚀 成功加载 {len(loaded_operators)} 个算子: {', '.join(loaded_operators)}\")\n        \n    except Exception as e:\n        print(f\"⚠️ 信号处理算子加载失败: {e}\")\n        mode = 'demo_mode'\n\nif mode == 'demo_mode':\n    print(\"🔄 信号处理算子演示模式:\")\n    print(\"\\n📊 算子生态系统 (60+算子):\")\n    \n    demo_categories = {\n        \"时域分析\": [\"RMS\", \"峰值\", \"峭度\", \"偏度\", \"方差\"],\n        \"频域分析\": [\"FFT\", \"PSD\", \"频谱质心\", \"频带能量\"],\n        \"时频分析\": [\"STFT\", \"小波变换\", \"Hilbert变换\"],\n        \"滤波处理\": [\"低通\", \"高通\", \"带通\", \"陷波\"],\n        \"特征提取\": [\"包络\", \"倒频谱\", \"自相关\", \"熵特征\"],\n        \"预处理\": [\"归一化\", \"去趋势\", \"重采样\", \"去噪\"]\n    }\n    \n    total_ops = sum(len(ops) for ops in demo_categories.values())\n    print(f\"  算子总数: {total_ops}个\")\n    \n    for category, operators in demo_categories.items():\n        print(f\"  {category}: {len(operators)}个 - {', '.join(operators[:3])}...\")\n    \n    print(\"\\n🎯 算子调用示例:\")\n    print(\"  ✅ FFT算子: 快速傅里叶变换，频域分析\")\n    print(\"  ✅ RMS算子: 均方根值，能量特征\")  \n    print(\"  ✅ 小波算子: 时频分析，多尺度特征\")"
  },
  {
   "cell_type": "code",
   "execution_count": null,
   "metadata": {},
   "outputs": [],
   "source": "# 系统健康检查和性能监控\nprint(\"🔍 系统健康检查\")\nprint(\"=\"*50)\n\n# 检查核心组件\ncomponent_checks = {}\n\nif mode in ['full_system', 'partial_system']:\n    try:\n        # LLM提供商检查\n        if 'src.model' in components_available.get('model', []):\n            try:\n                from src.model import get_llm\n                llm = get_llm()\n                component_checks[\"LLM提供商\"] = \"✅ 正常\"\n            except Exception as e:\n                component_checks[\"LLM提供商\"] = f\"⚠️ 警告 - {str(e)[:30]}...\"\n        \n        # 数据加载器检查\n        if 'src.utils.data_loader' in components_available.get('utils', []):\n            try:\n                from src.utils.data_loader import load_bearing_data\n                # 不实际调用，只检查可用性\n                component_checks[\"数据加载器\"] = \"✅ 可用\"\n            except Exception as e:\n                component_checks[\"数据加载器\"] = f\"⚠️ 警告 - {str(e)[:30]}...\"\n        \n        # 工作流构建检查\n        if 'src.phm_outer_graph' in components_available.get('graph', []):\n            try:\n                from src.phm_outer_graph import create_phm_workflow\n                component_checks[\"工作流构建\"] = \"✅ 可用\"\n            except Exception as e:\n                component_checks[\"工作流构建\"] = f\"⚠️ 警告 - {str(e)[:30]}...\"\n        \n        # 算子注册表检查\n        if 'src.tools.signal_processing_schemas' in components_available.get('tools', []):\n            try:\n                from src.tools.signal_processing_schemas import OP_REGISTRY\n                if len(OP_REGISTRY) > 0:\n                    component_checks[\"算子注册表\"] = f\"✅ 正常 ({len(OP_REGISTRY)}个算子)\"\n                else:\n                    component_checks[\"算子注册表\"] = \"⚠️ 警告 - 无可用算子\"\n            except Exception as e:\n                component_checks[\"算子注册表\"] = f\"⚠️ 警告 - {str(e)[:30]}...\"\n        \n        # 显示检查结果\n        print(\"🏥 组件健康状态:\")\n        for component, status in component_checks.items():\n            print(f\"  {component}: {status}\")\n        \n        # 系统整体状态\n        healthy_components = sum(1 for status in component_checks.values() if \"✅\" in status)\n        total_components = len(component_checks)\n        health_percentage = (healthy_components / total_components * 100) if total_components > 0 else 0\n        \n        print(f\"\\n📊 系统健康度: {health_percentage:.1f}% ({healthy_components}/{total_components}个组件正常)\")\n        \n        if health_percentage >= 80:\n            print(\"🎉 系统状态良好，可以正常运行!\")\n        elif health_percentage >= 50:\n            print(\"⚠️ 系统部分功能可用，建议检查警告项\")\n        else:\n            print(\"🔴 系统存在较多问题，建议在演示模式下使用\")\n            \n    except Exception as e:\n        print(f\"⚠️ 健康检查过程出错: {e}\")\n        mode = 'demo_mode'\n\nif mode == 'demo_mode':\n    print(\"🔄 系统健康检查演示模式:\")\n    print(\"\\n🏥 模拟系统状态:\")\n    demo_components = {\n        \"LLM提供商\": \"✅ 正常 (Mock Provider)\",\n        \"数据加载器\": \"✅ 可用 (模拟数据)\",\n        \"工作流构建\": \"✅ 可用 (演示流程)\",\n        \"算子注册表\": \"✅ 正常 (60+算子)\",\n        \"状态管理\": \"✅ 正常 (内存存储)\",\n        \"监控系统\": \"✅ 运行中\",\n        \"API服务\": \"✅ 响应正常\"\n    }\n    \n    for component, status in demo_components.items():\n        print(f\"  {component}: {status}\")\n    \n    print(f\"\\n📊 系统健康度: 100% (演示模式)\")\n    print(\"\\n📈 性能指标 (模拟):\")\n    print(\"  响应时间: 95ms\")\n    print(\"  吞吐量: 1000 请求/分钟\")\n    print(\"  准确率: 94.5%\")\n    print(\"  可用性: 99.9%\")\n\nprint(f\"\\n🎉 完整PHMGA系统演示完成！(运行模式: {mode})\")"
  }
 ],
 "metadata": {
  "kernelspec": {
   "display_name": "Python 3",
   "language": "python",
   "name": "python3"
  },
  "language_info": {
   "codemirror_mode": {
    "name": "ipython",
    "version": 3
   },
   "file_extension": ".py",
   "mimetype": "text/x-python",
   "name": "python",
   "nbconvert_exporter": "python",
   "pygments_lexer": "ipython3",
   "version": "3.8.0"
  }
 },
 "nbformat": 4,
 "nbformat_minor": 4
}